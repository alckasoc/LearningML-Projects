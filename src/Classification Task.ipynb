{
 "cells": [
  {
   "cell_type": "markdown",
   "metadata": {},
   "source": [
    "# Classification Task"
   ]
  },
  {
   "cell_type": "markdown",
   "metadata": {},
   "source": [
    "**Dataset 1**  \n",
    "\n",
    "\n",
    "    AV : Healthcare Analytics II  \n",
    "    Task 1 : To predict the length of stay for each patient\n",
    "\n",
    "    Task Details  \n",
    "    The task is to accurately predict the Length of Stay for each patient on case by case basis so that the Hospitals can use this information for optimal resource allocation and better functioning. The length of stay is divided into 11 different classes ranging from 0-10 days to more than 100 days."
   ]
  },
  {
   "cell_type": "markdown",
   "metadata": {},
   "source": [
    "## Fetch the Data"
   ]
  },
  {
   "cell_type": "markdown",
   "metadata": {},
   "source": [
    "Automate Dataset Fetching from Kaggle  \n",
    "+ https://medium.com/@ankushchoubey/how-to-download-dataset-from-kaggle-7f700d7f9198"
   ]
  },
  {
   "cell_type": "code",
   "execution_count": 205,
   "metadata": {},
   "outputs": [],
   "source": [
    "import subprocess\n",
    "import os\n",
    "\n",
    "datasets_dir = \"D:/datasets/tabular/classification\"\n",
    "\n",
    "# task possible inputs:\n",
    "# images\n",
    "# sequences\n",
    "# language\n",
    "# tabular\n",
    "    # classification\n",
    "    # regression\n",
    "\n",
    "task = \"tabular/classification\"\n",
    "username = \"nehaprabhavalkar\"\n",
    "dataset_name = \"av-healthcare-analytics-ii\"\n",
    "\n",
    "# assumption: Kaggle API is installed with a kaggle.json API token\n",
    "# run a dataset download kaggle cmd in shell and save it in a specified dir\n",
    "def auto_fetch_kaggle_dataset(task, username, dataset_name, root_dir=\"D:/datasets/\", capture_output=True):\n",
    "    dataset_dir = root_dir + task + \"/\" + dataset_name\n",
    "    if not os.path.isdir(dataset_dir):\n",
    "        os.makedirs(dataset_dir)\n",
    "    cmd = \"kaggle datasets download -p \" + dataset_dir + \" -d \" + username + \"/\" + dataset_name\n",
    "    output = subprocess.run(cmd,\n",
    "                            shell=True, capture_output=capture_output)\n",
    "    return dataset_dir, output\n",
    "\n",
    "dataset_dir, completed_process_output = auto_fetch_kaggle_dataset(task, username, dataset_name)"
   ]
  },
  {
   "cell_type": "code",
   "execution_count": 207,
   "metadata": {},
   "outputs": [
    {
     "data": {
      "text/plain": [
       "('D:/datasets/tabular/classification/av-healthcare-analytics-ii',\n",
       " CompletedProcess(args='kaggle datasets download -p D:/datasets/tabular/classification/av-healthcare-analytics-ii -d nehaprabhavalkar/av-healthcare-analytics-ii', returncode=0, stdout=b'av-healthcare-analytics-ii.zip: Skipping, found more recently modified local copy (use --force to force download)\\r\\n', stderr=b''))"
      ]
     },
     "execution_count": 207,
     "metadata": {},
     "output_type": "execute_result"
    }
   ],
   "source": [
    "dataset_dir, completed_process_output"
   ]
  },
  {
   "cell_type": "code",
   "execution_count": 209,
   "metadata": {},
   "outputs": [],
   "source": [
    "from zipfile import ZipFile\n",
    "\n",
    "# perform the fetching from before and extract its contents to the same directory\n",
    "def fetch_extract_dataset(task, username, dataset_name, root_dir=\"D:/datasets/\", capture_output=True):\n",
    "    dataset_dir, output = auto_fetch_kaggle_dataset(task, username, dataset_name, root_dir, capture_output)\n",
    "    zipfile_dir = dataset_dir + \"/\" + dataset_name + \".zip\"\n",
    "    with ZipFile(zipfile_dir, \"r\") as zipObj:\n",
    "        zipObj.extractall(dataset_dir)\n",
    "\n",
    "fetch_extract_dataset(task, username, dataset_name)"
   ]
  },
  {
   "cell_type": "markdown",
   "metadata": {},
   "source": [
    "## Preview the Data"
   ]
  },
  {
   "cell_type": "code",
   "execution_count": 211,
   "metadata": {},
   "outputs": [],
   "source": [
    "import pandas as pd\n",
    "import numpy as np\n",
    "\n",
    "# configurations to view all values\n",
    "pd.set_option(\"display.width\", None)\n",
    "pd.set_option(\"display.max_colwidth\", None)\n",
    "\n",
    "root_dir = \"D:/datasets/tabular/classification/av-healthcare-analytics-ii/healthcare/\"\n",
    "attribute_desc_csv = \"train_data_dictionary.csv\"\n",
    "\n",
    "# viewing attribute descriptions\n",
    "attribute_descriptions = pd.read_csv(root_dir + attribute_desc_csv)"
   ]
  },
  {
   "cell_type": "code",
   "execution_count": 213,
   "metadata": {},
   "outputs": [
    {
     "data": {
      "text/html": [
       "<div>\n",
       "<style scoped>\n",
       "    .dataframe tbody tr th:only-of-type {\n",
       "        vertical-align: middle;\n",
       "    }\n",
       "\n",
       "    .dataframe tbody tr th {\n",
       "        vertical-align: top;\n",
       "    }\n",
       "\n",
       "    .dataframe thead th {\n",
       "        text-align: right;\n",
       "    }\n",
       "</style>\n",
       "<table border=\"1\" class=\"dataframe\">\n",
       "  <thead>\n",
       "    <tr style=\"text-align: right;\">\n",
       "      <th></th>\n",
       "      <th>Column</th>\n",
       "      <th>Description</th>\n",
       "    </tr>\n",
       "  </thead>\n",
       "  <tbody>\n",
       "    <tr>\n",
       "      <th>0</th>\n",
       "      <td>case_id</td>\n",
       "      <td>Case_ID registered in Hospital</td>\n",
       "    </tr>\n",
       "    <tr>\n",
       "      <th>1</th>\n",
       "      <td>Hospital_code</td>\n",
       "      <td>Unique code for the Hospital</td>\n",
       "    </tr>\n",
       "    <tr>\n",
       "      <th>2</th>\n",
       "      <td>Hospital_type_code</td>\n",
       "      <td>Unique code for the type of Hospital</td>\n",
       "    </tr>\n",
       "    <tr>\n",
       "      <th>3</th>\n",
       "      <td>City_Code_Hospital</td>\n",
       "      <td>City Code of the Hospital</td>\n",
       "    </tr>\n",
       "    <tr>\n",
       "      <th>4</th>\n",
       "      <td>Hospital_region_code</td>\n",
       "      <td>Region Code of the Hospital</td>\n",
       "    </tr>\n",
       "    <tr>\n",
       "      <th>5</th>\n",
       "      <td>Available Extra Rooms in Hospital</td>\n",
       "      <td>Number of Extra rooms available in the Hospital</td>\n",
       "    </tr>\n",
       "    <tr>\n",
       "      <th>6</th>\n",
       "      <td>Department</td>\n",
       "      <td>Department overlooking the case</td>\n",
       "    </tr>\n",
       "    <tr>\n",
       "      <th>7</th>\n",
       "      <td>Ward_Type</td>\n",
       "      <td>Code for the Ward type</td>\n",
       "    </tr>\n",
       "    <tr>\n",
       "      <th>8</th>\n",
       "      <td>Ward_Facility_Code</td>\n",
       "      <td>Code for the Ward Facility</td>\n",
       "    </tr>\n",
       "    <tr>\n",
       "      <th>9</th>\n",
       "      <td>Bed Grade</td>\n",
       "      <td>Condition of Bed in the Ward</td>\n",
       "    </tr>\n",
       "    <tr>\n",
       "      <th>10</th>\n",
       "      <td>patientid</td>\n",
       "      <td>Unique Patient Id</td>\n",
       "    </tr>\n",
       "    <tr>\n",
       "      <th>11</th>\n",
       "      <td>City_Code_Patient</td>\n",
       "      <td>City Code for the patient</td>\n",
       "    </tr>\n",
       "    <tr>\n",
       "      <th>12</th>\n",
       "      <td>Type of Admission</td>\n",
       "      <td>Admission Type registered by the Hospital</td>\n",
       "    </tr>\n",
       "    <tr>\n",
       "      <th>13</th>\n",
       "      <td>Severity of Illness</td>\n",
       "      <td>Severity of the illness recorded at the time of admission</td>\n",
       "    </tr>\n",
       "    <tr>\n",
       "      <th>14</th>\n",
       "      <td>Visitors with Patient</td>\n",
       "      <td>Number of Visitors with the patient</td>\n",
       "    </tr>\n",
       "    <tr>\n",
       "      <th>15</th>\n",
       "      <td>Age</td>\n",
       "      <td>Age of the patient</td>\n",
       "    </tr>\n",
       "    <tr>\n",
       "      <th>16</th>\n",
       "      <td>Admission_Deposit</td>\n",
       "      <td>Deposit at the Admission Time</td>\n",
       "    </tr>\n",
       "    <tr>\n",
       "      <th>17</th>\n",
       "      <td>Stay</td>\n",
       "      <td>Stay Days by the patient</td>\n",
       "    </tr>\n",
       "  </tbody>\n",
       "</table>\n",
       "</div>"
      ],
      "text/plain": [
       "                               Column  \\\n",
       "0                             case_id   \n",
       "1                       Hospital_code   \n",
       "2                  Hospital_type_code   \n",
       "3                  City_Code_Hospital   \n",
       "4                Hospital_region_code   \n",
       "5   Available Extra Rooms in Hospital   \n",
       "6                          Department   \n",
       "7                           Ward_Type   \n",
       "8                  Ward_Facility_Code   \n",
       "9                           Bed Grade   \n",
       "10                          patientid   \n",
       "11                  City_Code_Patient   \n",
       "12                  Type of Admission   \n",
       "13                Severity of Illness   \n",
       "14              Visitors with Patient   \n",
       "15                                Age   \n",
       "16                  Admission_Deposit   \n",
       "17                               Stay   \n",
       "\n",
       "                                                  Description  \n",
       "0                              Case_ID registered in Hospital  \n",
       "1                                Unique code for the Hospital  \n",
       "2                        Unique code for the type of Hospital  \n",
       "3                                   City Code of the Hospital  \n",
       "4                                 Region Code of the Hospital  \n",
       "5             Number of Extra rooms available in the Hospital  \n",
       "6                             Department overlooking the case  \n",
       "7                                      Code for the Ward type  \n",
       "8                                  Code for the Ward Facility  \n",
       "9                                Condition of Bed in the Ward  \n",
       "10                                          Unique Patient Id  \n",
       "11                                  City Code for the patient  \n",
       "12                  Admission Type registered by the Hospital  \n",
       "13  Severity of the illness recorded at the time of admission  \n",
       "14                        Number of Visitors with the patient  \n",
       "15                                         Age of the patient  \n",
       "16                              Deposit at the Admission Time  \n",
       "17                                   Stay Days by the patient  "
      ]
     },
     "execution_count": 213,
     "metadata": {},
     "output_type": "execute_result"
    }
   ],
   "source": [
    "attribute_descriptions"
   ]
  },
  {
   "cell_type": "markdown",
   "metadata": {},
   "source": [
    "+ assumptions:   \n",
    "    + case_id is irrelevant (it is simply ordinally encoded with an index beginning at 1)\n",
    "    + patientid is questionable (A/B test this, initially assumed it to be similar to case_id)\n",
    "    + lots of categorical attributes so it is difficult to perform feature extraction"
   ]
  },
  {
   "cell_type": "code",
   "execution_count": 215,
   "metadata": {},
   "outputs": [],
   "source": [
    "# loading training and testing data\n",
    "\n",
    "train_csv = \"train_data.csv\"\n",
    "test_csv = \"test_data.csv\"\n",
    "\n",
    "train_data = pd.read_csv(root_dir + train_csv)\n",
    "test_data = pd.read_csv(root_dir + test_csv)"
   ]
  },
  {
   "cell_type": "code",
   "execution_count": 217,
   "metadata": {},
   "outputs": [],
   "source": [
    "# preview dataset\n",
    "def preview(dataset):\n",
    "    return dataset.info(), dataset.head(), dataset.describe(), dataset.shape"
   ]
  },
  {
   "cell_type": "code",
   "execution_count": 219,
   "metadata": {},
   "outputs": [
    {
     "name": "stdout",
     "output_type": "stream",
     "text": [
      "<class 'pandas.core.frame.DataFrame'>\n",
      "RangeIndex: 318438 entries, 0 to 318437\n",
      "Data columns (total 18 columns):\n",
      " #   Column                             Non-Null Count   Dtype  \n",
      "---  ------                             --------------   -----  \n",
      " 0   case_id                            318438 non-null  int64  \n",
      " 1   Hospital_code                      318438 non-null  int64  \n",
      " 2   Hospital_type_code                 318438 non-null  object \n",
      " 3   City_Code_Hospital                 318438 non-null  int64  \n",
      " 4   Hospital_region_code               318438 non-null  object \n",
      " 5   Available Extra Rooms in Hospital  318438 non-null  int64  \n",
      " 6   Department                         318438 non-null  object \n",
      " 7   Ward_Type                          318438 non-null  object \n",
      " 8   Ward_Facility_Code                 318438 non-null  object \n",
      " 9   Bed Grade                          318325 non-null  float64\n",
      " 10  patientid                          318438 non-null  int64  \n",
      " 11  City_Code_Patient                  313906 non-null  float64\n",
      " 12  Type of Admission                  318438 non-null  object \n",
      " 13  Severity of Illness                318438 non-null  object \n",
      " 14  Visitors with Patient              318438 non-null  int64  \n",
      " 15  Age                                318438 non-null  object \n",
      " 16  Admission_Deposit                  318438 non-null  float64\n",
      " 17  Stay                               318438 non-null  object \n",
      "dtypes: float64(3), int64(6), object(9)\n",
      "memory usage: 43.7+ MB\n"
     ]
    }
   ],
   "source": [
    "td_info, td_head, td_describe, td_shape = preview(train_data)\n",
    "td_info"
   ]
  },
  {
   "cell_type": "markdown",
   "metadata": {},
   "source": [
    "+ observations:\n",
    "    + Bed Grade is missing a few values\n",
    "    + City_Code_Patient is also missing a few values\n",
    "    + as expected, 3 float64s, 6 int64s, 9 objs\n",
    "    + 18 attributes\n",
    "    + a total of 318438 instances"
   ]
  },
  {
   "cell_type": "code",
   "execution_count": 221,
   "metadata": {},
   "outputs": [
    {
     "data": {
      "text/html": [
       "<div>\n",
       "<style scoped>\n",
       "    .dataframe tbody tr th:only-of-type {\n",
       "        vertical-align: middle;\n",
       "    }\n",
       "\n",
       "    .dataframe tbody tr th {\n",
       "        vertical-align: top;\n",
       "    }\n",
       "\n",
       "    .dataframe thead th {\n",
       "        text-align: right;\n",
       "    }\n",
       "</style>\n",
       "<table border=\"1\" class=\"dataframe\">\n",
       "  <thead>\n",
       "    <tr style=\"text-align: right;\">\n",
       "      <th></th>\n",
       "      <th>case_id</th>\n",
       "      <th>Hospital_code</th>\n",
       "      <th>Hospital_type_code</th>\n",
       "      <th>City_Code_Hospital</th>\n",
       "      <th>Hospital_region_code</th>\n",
       "      <th>Available Extra Rooms in Hospital</th>\n",
       "      <th>Department</th>\n",
       "      <th>Ward_Type</th>\n",
       "      <th>Ward_Facility_Code</th>\n",
       "      <th>Bed Grade</th>\n",
       "      <th>patientid</th>\n",
       "      <th>City_Code_Patient</th>\n",
       "      <th>Type of Admission</th>\n",
       "      <th>Severity of Illness</th>\n",
       "      <th>Visitors with Patient</th>\n",
       "      <th>Age</th>\n",
       "      <th>Admission_Deposit</th>\n",
       "      <th>Stay</th>\n",
       "    </tr>\n",
       "  </thead>\n",
       "  <tbody>\n",
       "    <tr>\n",
       "      <th>0</th>\n",
       "      <td>1</td>\n",
       "      <td>8</td>\n",
       "      <td>c</td>\n",
       "      <td>3</td>\n",
       "      <td>Z</td>\n",
       "      <td>3</td>\n",
       "      <td>radiotherapy</td>\n",
       "      <td>R</td>\n",
       "      <td>F</td>\n",
       "      <td>2.0</td>\n",
       "      <td>31397</td>\n",
       "      <td>7.0</td>\n",
       "      <td>Emergency</td>\n",
       "      <td>Extreme</td>\n",
       "      <td>2</td>\n",
       "      <td>51-60</td>\n",
       "      <td>4911.0</td>\n",
       "      <td>0-10</td>\n",
       "    </tr>\n",
       "    <tr>\n",
       "      <th>1</th>\n",
       "      <td>2</td>\n",
       "      <td>2</td>\n",
       "      <td>c</td>\n",
       "      <td>5</td>\n",
       "      <td>Z</td>\n",
       "      <td>2</td>\n",
       "      <td>radiotherapy</td>\n",
       "      <td>S</td>\n",
       "      <td>F</td>\n",
       "      <td>2.0</td>\n",
       "      <td>31397</td>\n",
       "      <td>7.0</td>\n",
       "      <td>Trauma</td>\n",
       "      <td>Extreme</td>\n",
       "      <td>2</td>\n",
       "      <td>51-60</td>\n",
       "      <td>5954.0</td>\n",
       "      <td>41-50</td>\n",
       "    </tr>\n",
       "    <tr>\n",
       "      <th>2</th>\n",
       "      <td>3</td>\n",
       "      <td>10</td>\n",
       "      <td>e</td>\n",
       "      <td>1</td>\n",
       "      <td>X</td>\n",
       "      <td>2</td>\n",
       "      <td>anesthesia</td>\n",
       "      <td>S</td>\n",
       "      <td>E</td>\n",
       "      <td>2.0</td>\n",
       "      <td>31397</td>\n",
       "      <td>7.0</td>\n",
       "      <td>Trauma</td>\n",
       "      <td>Extreme</td>\n",
       "      <td>2</td>\n",
       "      <td>51-60</td>\n",
       "      <td>4745.0</td>\n",
       "      <td>31-40</td>\n",
       "    </tr>\n",
       "    <tr>\n",
       "      <th>3</th>\n",
       "      <td>4</td>\n",
       "      <td>26</td>\n",
       "      <td>b</td>\n",
       "      <td>2</td>\n",
       "      <td>Y</td>\n",
       "      <td>2</td>\n",
       "      <td>radiotherapy</td>\n",
       "      <td>R</td>\n",
       "      <td>D</td>\n",
       "      <td>2.0</td>\n",
       "      <td>31397</td>\n",
       "      <td>7.0</td>\n",
       "      <td>Trauma</td>\n",
       "      <td>Extreme</td>\n",
       "      <td>2</td>\n",
       "      <td>51-60</td>\n",
       "      <td>7272.0</td>\n",
       "      <td>41-50</td>\n",
       "    </tr>\n",
       "    <tr>\n",
       "      <th>4</th>\n",
       "      <td>5</td>\n",
       "      <td>26</td>\n",
       "      <td>b</td>\n",
       "      <td>2</td>\n",
       "      <td>Y</td>\n",
       "      <td>2</td>\n",
       "      <td>radiotherapy</td>\n",
       "      <td>S</td>\n",
       "      <td>D</td>\n",
       "      <td>2.0</td>\n",
       "      <td>31397</td>\n",
       "      <td>7.0</td>\n",
       "      <td>Trauma</td>\n",
       "      <td>Extreme</td>\n",
       "      <td>2</td>\n",
       "      <td>51-60</td>\n",
       "      <td>5558.0</td>\n",
       "      <td>41-50</td>\n",
       "    </tr>\n",
       "  </tbody>\n",
       "</table>\n",
       "</div>"
      ],
      "text/plain": [
       "   case_id  Hospital_code Hospital_type_code  City_Code_Hospital  \\\n",
       "0        1              8                  c                   3   \n",
       "1        2              2                  c                   5   \n",
       "2        3             10                  e                   1   \n",
       "3        4             26                  b                   2   \n",
       "4        5             26                  b                   2   \n",
       "\n",
       "  Hospital_region_code  Available Extra Rooms in Hospital    Department  \\\n",
       "0                    Z                                  3  radiotherapy   \n",
       "1                    Z                                  2  radiotherapy   \n",
       "2                    X                                  2    anesthesia   \n",
       "3                    Y                                  2  radiotherapy   \n",
       "4                    Y                                  2  radiotherapy   \n",
       "\n",
       "  Ward_Type Ward_Facility_Code  Bed Grade  patientid  City_Code_Patient  \\\n",
       "0         R                  F        2.0      31397                7.0   \n",
       "1         S                  F        2.0      31397                7.0   \n",
       "2         S                  E        2.0      31397                7.0   \n",
       "3         R                  D        2.0      31397                7.0   \n",
       "4         S                  D        2.0      31397                7.0   \n",
       "\n",
       "  Type of Admission Severity of Illness  Visitors with Patient    Age  \\\n",
       "0         Emergency             Extreme                      2  51-60   \n",
       "1            Trauma             Extreme                      2  51-60   \n",
       "2            Trauma             Extreme                      2  51-60   \n",
       "3            Trauma             Extreme                      2  51-60   \n",
       "4            Trauma             Extreme                      2  51-60   \n",
       "\n",
       "   Admission_Deposit   Stay  \n",
       "0             4911.0   0-10  \n",
       "1             5954.0  41-50  \n",
       "2             4745.0  31-40  \n",
       "3             7272.0  41-50  \n",
       "4             5558.0  41-50  "
      ]
     },
     "execution_count": 221,
     "metadata": {},
     "output_type": "execute_result"
    }
   ],
   "source": [
    "td_head"
   ]
  },
  {
   "cell_type": "markdown",
   "metadata": {},
   "source": [
    "+ observations:\n",
    "    + case_id seems to be irrelevant (simply an index starting at 1)\n",
    "    + lots of numerical columns seem to be categorical \n",
    "        + Stay\n",
    "        + Age\n",
    "        + City_Code_Patient\n",
    "        + patientid (?)\n",
    "        + Bed Grade\n",
    "        + Available Extra Rooms in Hospital\n",
    "        + City_Code_Hospital\n",
    "        + Hospital_code"
   ]
  },
  {
   "cell_type": "code",
   "execution_count": 223,
   "metadata": {
    "scrolled": true
   },
   "outputs": [
    {
     "data": {
      "text/html": [
       "<div>\n",
       "<style scoped>\n",
       "    .dataframe tbody tr th:only-of-type {\n",
       "        vertical-align: middle;\n",
       "    }\n",
       "\n",
       "    .dataframe tbody tr th {\n",
       "        vertical-align: top;\n",
       "    }\n",
       "\n",
       "    .dataframe thead th {\n",
       "        text-align: right;\n",
       "    }\n",
       "</style>\n",
       "<table border=\"1\" class=\"dataframe\">\n",
       "  <thead>\n",
       "    <tr style=\"text-align: right;\">\n",
       "      <th></th>\n",
       "      <th>case_id</th>\n",
       "      <th>Hospital_code</th>\n",
       "      <th>City_Code_Hospital</th>\n",
       "      <th>Available Extra Rooms in Hospital</th>\n",
       "      <th>Bed Grade</th>\n",
       "      <th>patientid</th>\n",
       "      <th>City_Code_Patient</th>\n",
       "      <th>Visitors with Patient</th>\n",
       "      <th>Admission_Deposit</th>\n",
       "    </tr>\n",
       "  </thead>\n",
       "  <tbody>\n",
       "    <tr>\n",
       "      <th>count</th>\n",
       "      <td>318438.000000</td>\n",
       "      <td>318438.000000</td>\n",
       "      <td>318438.000000</td>\n",
       "      <td>318438.000000</td>\n",
       "      <td>318325.000000</td>\n",
       "      <td>318438.000000</td>\n",
       "      <td>313906.000000</td>\n",
       "      <td>318438.000000</td>\n",
       "      <td>318438.000000</td>\n",
       "    </tr>\n",
       "    <tr>\n",
       "      <th>mean</th>\n",
       "      <td>159219.500000</td>\n",
       "      <td>18.318841</td>\n",
       "      <td>4.771717</td>\n",
       "      <td>3.197627</td>\n",
       "      <td>2.625807</td>\n",
       "      <td>65747.579472</td>\n",
       "      <td>7.251859</td>\n",
       "      <td>3.284099</td>\n",
       "      <td>4880.749392</td>\n",
       "    </tr>\n",
       "    <tr>\n",
       "      <th>std</th>\n",
       "      <td>91925.276848</td>\n",
       "      <td>8.633755</td>\n",
       "      <td>3.102535</td>\n",
       "      <td>1.168171</td>\n",
       "      <td>0.873146</td>\n",
       "      <td>37979.936440</td>\n",
       "      <td>4.745266</td>\n",
       "      <td>1.764061</td>\n",
       "      <td>1086.776254</td>\n",
       "    </tr>\n",
       "    <tr>\n",
       "      <th>min</th>\n",
       "      <td>1.000000</td>\n",
       "      <td>1.000000</td>\n",
       "      <td>1.000000</td>\n",
       "      <td>0.000000</td>\n",
       "      <td>1.000000</td>\n",
       "      <td>1.000000</td>\n",
       "      <td>1.000000</td>\n",
       "      <td>0.000000</td>\n",
       "      <td>1800.000000</td>\n",
       "    </tr>\n",
       "    <tr>\n",
       "      <th>25%</th>\n",
       "      <td>79610.250000</td>\n",
       "      <td>11.000000</td>\n",
       "      <td>2.000000</td>\n",
       "      <td>2.000000</td>\n",
       "      <td>2.000000</td>\n",
       "      <td>32847.000000</td>\n",
       "      <td>4.000000</td>\n",
       "      <td>2.000000</td>\n",
       "      <td>4186.000000</td>\n",
       "    </tr>\n",
       "    <tr>\n",
       "      <th>50%</th>\n",
       "      <td>159219.500000</td>\n",
       "      <td>19.000000</td>\n",
       "      <td>5.000000</td>\n",
       "      <td>3.000000</td>\n",
       "      <td>3.000000</td>\n",
       "      <td>65724.500000</td>\n",
       "      <td>8.000000</td>\n",
       "      <td>3.000000</td>\n",
       "      <td>4741.000000</td>\n",
       "    </tr>\n",
       "    <tr>\n",
       "      <th>75%</th>\n",
       "      <td>238828.750000</td>\n",
       "      <td>26.000000</td>\n",
       "      <td>7.000000</td>\n",
       "      <td>4.000000</td>\n",
       "      <td>3.000000</td>\n",
       "      <td>98470.000000</td>\n",
       "      <td>8.000000</td>\n",
       "      <td>4.000000</td>\n",
       "      <td>5409.000000</td>\n",
       "    </tr>\n",
       "    <tr>\n",
       "      <th>max</th>\n",
       "      <td>318438.000000</td>\n",
       "      <td>32.000000</td>\n",
       "      <td>13.000000</td>\n",
       "      <td>24.000000</td>\n",
       "      <td>4.000000</td>\n",
       "      <td>131624.000000</td>\n",
       "      <td>38.000000</td>\n",
       "      <td>32.000000</td>\n",
       "      <td>11008.000000</td>\n",
       "    </tr>\n",
       "  </tbody>\n",
       "</table>\n",
       "</div>"
      ],
      "text/plain": [
       "             case_id  Hospital_code  City_Code_Hospital  \\\n",
       "count  318438.000000  318438.000000       318438.000000   \n",
       "mean   159219.500000      18.318841            4.771717   \n",
       "std     91925.276848       8.633755            3.102535   \n",
       "min         1.000000       1.000000            1.000000   \n",
       "25%     79610.250000      11.000000            2.000000   \n",
       "50%    159219.500000      19.000000            5.000000   \n",
       "75%    238828.750000      26.000000            7.000000   \n",
       "max    318438.000000      32.000000           13.000000   \n",
       "\n",
       "       Available Extra Rooms in Hospital      Bed Grade      patientid  \\\n",
       "count                      318438.000000  318325.000000  318438.000000   \n",
       "mean                            3.197627       2.625807   65747.579472   \n",
       "std                             1.168171       0.873146   37979.936440   \n",
       "min                             0.000000       1.000000       1.000000   \n",
       "25%                             2.000000       2.000000   32847.000000   \n",
       "50%                             3.000000       3.000000   65724.500000   \n",
       "75%                             4.000000       3.000000   98470.000000   \n",
       "max                            24.000000       4.000000  131624.000000   \n",
       "\n",
       "       City_Code_Patient  Visitors with Patient  Admission_Deposit  \n",
       "count      313906.000000          318438.000000      318438.000000  \n",
       "mean            7.251859               3.284099        4880.749392  \n",
       "std             4.745266               1.764061        1086.776254  \n",
       "min             1.000000               0.000000        1800.000000  \n",
       "25%             4.000000               2.000000        4186.000000  \n",
       "50%             8.000000               3.000000        4741.000000  \n",
       "75%             8.000000               4.000000        5409.000000  \n",
       "max            38.000000              32.000000       11008.000000  "
      ]
     },
     "execution_count": 223,
     "metadata": {},
     "output_type": "execute_result"
    }
   ],
   "source": [
    "td_describe"
   ]
  },
  {
   "cell_type": "markdown",
   "metadata": {},
   "source": [
    "+ observations:\n",
    "    + mean: Admission_Deposit has a mean of roughly 4880\n",
    "    + std: Admission_Deposit has a std of roughly 1086\n",
    "    + min/max: \n",
    "        + case_id starts at 1 \n",
    "        + Hospital_code 1-32\n",
    "        + City_Code_Hospital 1-13\n",
    "        + Available Extra Rooms in Hospital 0-24\n",
    "        + Bed Grade 1-4\n",
    "        + patientid 1-131624\n",
    "        + City_Code_Patient 1-38\n",
    "        + Visitors with Patient 0-32\n",
    "        + Admission_Deposit 1800-11008 \n",
    "            + there are a few outliers (i.e. 11008 z-score -> (11008-4880.749392)/1086.778254)"
   ]
  },
  {
   "cell_type": "code",
   "execution_count": 225,
   "metadata": {},
   "outputs": [
    {
     "data": {
      "text/plain": [
       "5.637995226209228"
      ]
     },
     "execution_count": 225,
     "metadata": {},
     "output_type": "execute_result"
    }
   ],
   "source": [
    "# Admission_Deposit max value z-score is 5.63\n",
    "\n",
    "# assumption: a normal Gaussian Distribution\n",
    "# this is highly unlikely and very much an outlier (Q3 + 1.5 * IQR)\n",
    "(11008-4880.749392)/1086.778254"
   ]
  },
  {
   "cell_type": "code",
   "execution_count": 227,
   "metadata": {},
   "outputs": [
    {
     "data": {
      "text/plain": [
       "((318438, 18), (137057, 17))"
      ]
     },
     "execution_count": 227,
     "metadata": {},
     "output_type": "execute_result"
    }
   ],
   "source": [
    "td_shape, test_data.shape # test data is 1 column short: they leave out the Stay\n",
    "# we will split the train data into: train, valid, test\n",
    "# the test_data will be for predictions exclusively"
   ]
  },
  {
   "cell_type": "code",
   "execution_count": 229,
   "metadata": {},
   "outputs": [],
   "source": [
    "def get_unique_values_and_value_counts(dataset):\n",
    "    return {column:dataset[column].value_counts().count() for column in dataset.columns}, {column:dataset[column].value_counts() for column in dataset.columns}\n",
    "    \n",
    "unique_value_counts, value_counts = get_unique_values_and_value_counts(train_data)"
   ]
  },
  {
   "cell_type": "code",
   "execution_count": 231,
   "metadata": {},
   "outputs": [
    {
     "data": {
      "text/plain": [
       "{'case_id': 318438,\n",
       " 'Hospital_code': 32,\n",
       " 'Hospital_type_code': 7,\n",
       " 'City_Code_Hospital': 11,\n",
       " 'Hospital_region_code': 3,\n",
       " 'Available Extra Rooms in Hospital': 18,\n",
       " 'Department': 5,\n",
       " 'Ward_Type': 6,\n",
       " 'Ward_Facility_Code': 6,\n",
       " 'Bed Grade': 4,\n",
       " 'patientid': 92017,\n",
       " 'City_Code_Patient': 37,\n",
       " 'Type of Admission': 3,\n",
       " 'Severity of Illness': 3,\n",
       " 'Visitors with Patient': 28,\n",
       " 'Age': 10,\n",
       " 'Admission_Deposit': 7300,\n",
       " 'Stay': 11}"
      ]
     },
     "execution_count": 231,
     "metadata": {},
     "output_type": "execute_result"
    }
   ],
   "source": [
    "unique_value_counts "
   ]
  },
  {
   "cell_type": "markdown",
   "metadata": {},
   "source": [
    "+ observations:\n",
    "\n",
    "    + case_id: \n",
    "        + unique category for each instance\n",
    "        \n",
    "    + Hospital_code: \n",
    "        + 32 unique categories for Hospital_code\n",
    "\n",
    "    + Hospital_type_code: \n",
    "\n",
    "    + City_Code_Hospital: \n",
    "        + 11 unique categories but max is 13\n",
    "\n",
    "    + Hospital_region_code: \n",
    "\n",
    "    + Available Extra Rooms in Hospital: \n",
    "        + 18 unique categories but max is 24\n",
    "\n",
    "    + Department:\n",
    "    + Ward_Type:\n",
    "    + Ward_Facility_Code: \n",
    "    + Bed Grade: \n",
    "\n",
    "    + patientid: \n",
    "        + 1-131624, but only 92017 unique values\n",
    "        \n",
    "    + City_Code_Patient: \n",
    "        + 37 unique categories 1-38 (?)\n",
    "        + 37 numerics and one NaN for a total sum of 38 unique values\n",
    "\n",
    "    + Type of Admission:\n",
    "    + Severity of Illness:\n",
    "\n",
    "    + Visitors with Patient: \n",
    "        + 28 unique categories but max is 32\n",
    "\n",
    "    + Age:\n",
    "    + Admission_Deposit:\n",
    "    + Stay:"
   ]
  },
  {
   "cell_type": "code",
   "execution_count": 233,
   "metadata": {},
   "outputs": [
    {
     "data": {
      "text/plain": [
       "a    143425\n",
       "b     68946\n",
       "c     45928\n",
       "e     24770\n",
       "d     20389\n",
       "f     10703\n",
       "g      4277\n",
       "Name: Hospital_type_code, dtype: int64"
      ]
     },
     "execution_count": 233,
     "metadata": {},
     "output_type": "execute_result"
    }
   ],
   "source": [
    "value_counts[\"Hospital_type_code\"]\n",
    "# observation: mostly a and b"
   ]
  },
  {
   "cell_type": "code",
   "execution_count": 235,
   "metadata": {
    "scrolled": true
   },
   "outputs": [
    {
     "data": {
      "text/plain": [
       "X    133336\n",
       "Y    122428\n",
       "Z     62674\n",
       "Name: Hospital_region_code, dtype: int64"
      ]
     },
     "execution_count": 235,
     "metadata": {},
     "output_type": "execute_result"
    }
   ],
   "source": [
    "value_counts[\"Hospital_region_code\"]\n",
    "# observation: mostly X and Y"
   ]
  },
  {
   "cell_type": "code",
   "execution_count": 237,
   "metadata": {},
   "outputs": [
    {
     "data": {
      "text/plain": [
       "gynecology            249486\n",
       "anesthesia             29649\n",
       "radiotherapy           28516\n",
       "TB & Chest disease      9586\n",
       "surgery                 1201\n",
       "Name: Department, dtype: int64"
      ]
     },
     "execution_count": 237,
     "metadata": {},
     "output_type": "execute_result"
    }
   ],
   "source": [
    "value_counts[\"Department\"]\n",
    "# observation: mostly gynecology\n",
    "\n",
    "# the branch of physiology and medicine which deals with the functions and diseases specific to women and girls, \n",
    "# especially those affecting the reproductive system."
   ]
  },
  {
   "cell_type": "code",
   "execution_count": 239,
   "metadata": {},
   "outputs": [
    {
     "data": {
      "text/plain": [
       "R    127947\n",
       "Q    106165\n",
       "S     77794\n",
       "P      5046\n",
       "T      1477\n",
       "U         9\n",
       "Name: Ward_Type, dtype: int64"
      ]
     },
     "execution_count": 239,
     "metadata": {},
     "output_type": "execute_result"
    }
   ],
   "source": [
    "value_counts[\"Ward_Type\"]\n",
    "# observation: ward types are mainly in R, Q, and S"
   ]
  },
  {
   "cell_type": "code",
   "execution_count": 241,
   "metadata": {},
   "outputs": [
    {
     "data": {
      "text/plain": [
       "F    112753\n",
       "E     55351\n",
       "D     51809\n",
       "C     35463\n",
       "B     35156\n",
       "A     27906\n",
       "Name: Ward_Facility_Code, dtype: int64"
      ]
     },
     "execution_count": 241,
     "metadata": {},
     "output_type": "execute_result"
    }
   ],
   "source": [
    "value_counts[\"Ward_Facility_Code\"]\n",
    "# observation: mostly in F, E, and D"
   ]
  },
  {
   "cell_type": "code",
   "execution_count": 243,
   "metadata": {},
   "outputs": [
    {
     "data": {
      "text/plain": [
       "2.0    123671\n",
       "3.0    110583\n",
       "4.0     57566\n",
       "1.0     26505\n",
       "Name: Bed Grade, dtype: int64"
      ]
     },
     "execution_count": 243,
     "metadata": {},
     "output_type": "execute_result"
    }
   ],
   "source": [
    "value_counts[\"Bed Grade\"]\n",
    "# observation: mostly 2.0 and 3.0"
   ]
  },
  {
   "cell_type": "code",
   "execution_count": 245,
   "metadata": {},
   "outputs": [
    {
     "data": {
      "text/plain": [
       "Trauma       152261\n",
       "Emergency    117676\n",
       "Urgent        48501\n",
       "Name: Type of Admission, dtype: int64"
      ]
     },
     "execution_count": 245,
     "metadata": {},
     "output_type": "execute_result"
    }
   ],
   "source": [
    "value_counts[\"Type of Admission\"]\n",
    "# observation: most people are entering with trauma/emergency"
   ]
  },
  {
   "cell_type": "code",
   "execution_count": 247,
   "metadata": {},
   "outputs": [
    {
     "data": {
      "text/plain": [
       "Moderate    175843\n",
       "Minor        85872\n",
       "Extreme      56723\n",
       "Name: Severity of Illness, dtype: int64"
      ]
     },
     "execution_count": 247,
     "metadata": {},
     "output_type": "execute_result"
    }
   ],
   "source": [
    "value_counts[\"Severity of Illness\"]\n",
    "# observation: most people have moderate or minor illnesses"
   ]
  },
  {
   "cell_type": "code",
   "execution_count": 249,
   "metadata": {},
   "outputs": [
    {
     "data": {
      "text/plain": [
       "0-10       6254\n",
       "11-20     16768\n",
       "21-30     40843\n",
       "31-40     63639\n",
       "41-50     63749\n",
       "51-60     48514\n",
       "61-70     33687\n",
       "71-80     35792\n",
       "81-90      7890\n",
       "91-100     1302\n",
       "Name: Age, dtype: int64"
      ]
     },
     "execution_count": 249,
     "metadata": {},
     "output_type": "execute_result"
    }
   ],
   "source": [
    "value_counts[\"Age\"].sort_index() \n",
    "# observation: most people are within the age range of 21-80 with the majority of everyone aging from 31-60"
   ]
  },
  {
   "cell_type": "code",
   "execution_count": 251,
   "metadata": {},
   "outputs": [
    {
     "data": {
      "text/plain": [
       "61-70                  2744\n",
       "91-100                 2765\n",
       "81-90                  4838\n",
       "More than 100 Days     6683\n",
       "71-80                 10254\n",
       "41-50                 11743\n",
       "0-10                  23604\n",
       "51-60                 35018\n",
       "31-40                 55159\n",
       "11-20                 78139\n",
       "21-30                 87491\n",
       "Name: Stay, dtype: int64"
      ]
     },
     "execution_count": 251,
     "metadata": {},
     "output_type": "execute_result"
    }
   ],
   "source": [
    "value_counts[\"Stay\"].sort_values()\n",
    "# observation: most people are staying for 11-40 days"
   ]
  },
  {
   "cell_type": "markdown",
   "metadata": {},
   "source": [
    "## Splitting the Data"
   ]
  },
  {
   "cell_type": "code",
   "execution_count": 253,
   "metadata": {},
   "outputs": [],
   "source": [
    "# make copies to preserve the original dataset csvs\n",
    "train_valid_test_data = train_data.copy()\n",
    "prediction_data = test_data.copy()"
   ]
  },
  {
   "cell_type": "code",
   "execution_count": 255,
   "metadata": {},
   "outputs": [
    {
     "data": {
      "text/plain": [
       "Index(['case_id', 'Hospital_code', 'Hospital_type_code', 'City_Code_Hospital',\n",
       "       'Hospital_region_code', 'Available Extra Rooms in Hospital',\n",
       "       'Department', 'Ward_Type', 'Ward_Facility_Code', 'Bed Grade',\n",
       "       'patientid', 'City_Code_Patient', 'Type of Admission',\n",
       "       'Severity of Illness', 'Visitors with Patient', 'Age',\n",
       "       'Admission_Deposit', 'Stay'],\n",
       "      dtype='object')"
      ]
     },
     "execution_count": 255,
     "metadata": {},
     "output_type": "execute_result"
    }
   ],
   "source": [
    "train_valid_test_data.columns"
   ]
  },
  {
   "cell_type": "code",
   "execution_count": 257,
   "metadata": {},
   "outputs": [
    {
     "data": {
      "text/plain": [
       "4469.0    390\n",
       "4277.0    377\n",
       "4624.0    350\n",
       "4789.0    302\n",
       "4970.0    286\n",
       "         ... \n",
       "9571.0      1\n",
       "8724.0      1\n",
       "1855.0      1\n",
       "2109.0      1\n",
       "7881.0      1\n",
       "Name: Admission_Deposit, Length: 7300, dtype: int64"
      ]
     },
     "execution_count": 257,
     "metadata": {},
     "output_type": "execute_result"
    }
   ],
   "source": [
    "train_valid_test_data[\"Admission_Deposit\"].value_counts()\n",
    "# can be categorized, but lets just keep it numerical"
   ]
  },
  {
   "cell_type": "code",
   "execution_count": 259,
   "metadata": {},
   "outputs": [
    {
     "data": {
      "text/plain": [
       "20349"
      ]
     },
     "execution_count": 259,
     "metadata": {},
     "output_type": "execute_result"
    }
   ],
   "source": [
    "# how many patientids have only 1 occurrence \n",
    "counter = 0\n",
    "for i in train_valid_test_data[\"patientid\"].value_counts().sort_values(ascending=True):\n",
    "    if i == 1:\n",
    "        counter += 1\n",
    "counter"
   ]
  },
  {
   "cell_type": "code",
   "execution_count": 261,
   "metadata": {},
   "outputs": [],
   "source": [
    "from sklearn.model_selection import StratifiedShuffleSplit\n",
    "from sklearn.model_selection import train_test_split\n",
    "\n",
    "np.random.seed(42)\n",
    "\n",
    "split = StratifiedShuffleSplit(random_state=42, n_splits=1, test_size=0.1)\n",
    "\n",
    "for train_idx, valid_test_idx in split.split(train_valid_test_data, train_valid_test_data[\"Stay\"]):\n",
    "    train_set = train_valid_test_data.loc[train_idx]\n",
    "    valid_test_set = train_valid_test_data.loc[valid_test_idx]\n",
    "    \n",
    "def split_valid_test(valid_test_set, valid_ratio=0.75):\n",
    "    idx = np.random.permutation(len(valid_test_set))\n",
    "    valid_size = int(valid_ratio * len(valid_test_set))\n",
    "    valid_idx = idx[:valid_size]\n",
    "    test_idx = idx[valid_size:]\n",
    "    return valid_test_set.iloc[valid_idx], valid_test_set.iloc[test_idx]\n",
    "\n",
    "valid_set, test_set = split_valid_test(valid_test_set)"
   ]
  },
  {
   "cell_type": "code",
   "execution_count": 263,
   "metadata": {},
   "outputs": [
    {
     "data": {
      "text/plain": [
       "((286594, 18), (31844, 18), (23883, 18), (7961, 18))"
      ]
     },
     "execution_count": 263,
     "metadata": {},
     "output_type": "execute_result"
    }
   ],
   "source": [
    "# it works!\n",
    "train_set.shape, valid_test_set.shape, valid_set.shape, test_set.shape"
   ]
  },
  {
   "cell_type": "markdown",
   "metadata": {},
   "source": [
    "## Exploratory Data Analysis (EDA)"
   ]
  },
  {
   "cell_type": "code",
   "execution_count": 265,
   "metadata": {},
   "outputs": [
    {
     "data": {
      "text/plain": [
       "array([[<AxesSubplot:title={'center':'case_id'}>,\n",
       "        <AxesSubplot:title={'center':'Hospital_code'}>,\n",
       "        <AxesSubplot:title={'center':'City_Code_Hospital'}>],\n",
       "       [<AxesSubplot:title={'center':'Available Extra Rooms in Hospital'}>,\n",
       "        <AxesSubplot:title={'center':'Bed Grade'}>,\n",
       "        <AxesSubplot:title={'center':'patientid'}>],\n",
       "       [<AxesSubplot:title={'center':'City_Code_Patient'}>,\n",
       "        <AxesSubplot:title={'center':'Visitors with Patient'}>,\n",
       "        <AxesSubplot:title={'center':'Admission_Deposit'}>]], dtype=object)"
      ]
     },
     "execution_count": 265,
     "metadata": {},
     "output_type": "execute_result"
    },
    {
     "data": {
      "image/png": "[encoded data removed]",
      "text/plain": [
       "<Figure size 864x576 with 9 Axes>"
      ]
     },
     "metadata": {
      "needs_background": "light"
     },
     "output_type": "display_data"
    }
   ],
   "source": [
    "import matplotlib as mpl\n",
    "from matplotlib import pyplot as plt\n",
    "%matplotlib inline\n",
    "\n",
    "# ignore valid and test sets\n",
    "train_set.hist(figsize=(12,8))"
   ]
  },
  {
   "cell_type": "markdown",
   "metadata": {},
   "source": [
    "+ observations:\n",
    "    + most patients don't have visitors \n",
    "    + admission_deposit is mostly normal except for a slight skew right (with the aforementioned 11008 outlier)\n",
    "    + available extra rooms in hospital seem to be in the 0-5 range\n",
    "    + most people have 2.0 or 3.0 bed grade"
   ]
  },
  {
   "cell_type": "code",
   "execution_count": 267,
   "metadata": {},
   "outputs": [
    {
     "data": {
      "text/html": [
       "<div>\n",
       "<style scoped>\n",
       "    .dataframe tbody tr th:only-of-type {\n",
       "        vertical-align: middle;\n",
       "    }\n",
       "\n",
       "    .dataframe tbody tr th {\n",
       "        vertical-align: top;\n",
       "    }\n",
       "\n",
       "    .dataframe thead th {\n",
       "        text-align: right;\n",
       "    }\n",
       "</style>\n",
       "<table border=\"1\" class=\"dataframe\">\n",
       "  <thead>\n",
       "    <tr style=\"text-align: right;\">\n",
       "      <th></th>\n",
       "      <th>case_id</th>\n",
       "      <th>Hospital_code</th>\n",
       "      <th>City_Code_Hospital</th>\n",
       "      <th>Available Extra Rooms in Hospital</th>\n",
       "      <th>Bed Grade</th>\n",
       "      <th>patientid</th>\n",
       "      <th>City_Code_Patient</th>\n",
       "      <th>Visitors with Patient</th>\n",
       "      <th>Admission_Deposit</th>\n",
       "    </tr>\n",
       "  </thead>\n",
       "  <tbody>\n",
       "    <tr>\n",
       "      <th>case_id</th>\n",
       "      <td>1.000000</td>\n",
       "      <td>-0.043588</td>\n",
       "      <td>-0.012630</td>\n",
       "      <td>0.043660</td>\n",
       "      <td>0.013589</td>\n",
       "      <td>-0.003336</td>\n",
       "      <td>0.065413</td>\n",
       "      <td>0.001729</td>\n",
       "      <td>-0.045598</td>\n",
       "    </tr>\n",
       "    <tr>\n",
       "      <th>Hospital_code</th>\n",
       "      <td>-0.043588</td>\n",
       "      <td>1.000000</td>\n",
       "      <td>0.129187</td>\n",
       "      <td>-0.059922</td>\n",
       "      <td>-0.013528</td>\n",
       "      <td>0.002852</td>\n",
       "      <td>-0.015622</td>\n",
       "      <td>-0.029024</td>\n",
       "      <td>0.044659</td>\n",
       "    </tr>\n",
       "    <tr>\n",
       "      <th>City_Code_Hospital</th>\n",
       "      <td>-0.012630</td>\n",
       "      <td>0.129187</td>\n",
       "      <td>1.000000</td>\n",
       "      <td>-0.045672</td>\n",
       "      <td>-0.049998</td>\n",
       "      <td>0.000164</td>\n",
       "      <td>-0.023647</td>\n",
       "      <td>0.018891</td>\n",
       "      <td>-0.035265</td>\n",
       "    </tr>\n",
       "    <tr>\n",
       "      <th>Available Extra Rooms in Hospital</th>\n",
       "      <td>0.043660</td>\n",
       "      <td>-0.059922</td>\n",
       "      <td>-0.045672</td>\n",
       "      <td>1.000000</td>\n",
       "      <td>-0.116359</td>\n",
       "      <td>-0.000582</td>\n",
       "      <td>-0.008342</td>\n",
       "      <td>0.095826</td>\n",
       "      <td>-0.143700</td>\n",
       "    </tr>\n",
       "    <tr>\n",
       "      <th>Bed Grade</th>\n",
       "      <td>0.013589</td>\n",
       "      <td>-0.013528</td>\n",
       "      <td>-0.049998</td>\n",
       "      <td>-0.116359</td>\n",
       "      <td>1.000000</td>\n",
       "      <td>0.002808</td>\n",
       "      <td>-0.008774</td>\n",
       "      <td>0.088368</td>\n",
       "      <td>0.074325</td>\n",
       "    </tr>\n",
       "    <tr>\n",
       "      <th>patientid</th>\n",
       "      <td>-0.003336</td>\n",
       "      <td>0.002852</td>\n",
       "      <td>0.000164</td>\n",
       "      <td>-0.000582</td>\n",
       "      <td>0.002808</td>\n",
       "      <td>1.000000</td>\n",
       "      <td>0.001282</td>\n",
       "      <td>0.006378</td>\n",
       "      <td>-0.000689</td>\n",
       "    </tr>\n",
       "    <tr>\n",
       "      <th>City_Code_Patient</th>\n",
       "      <td>0.065413</td>\n",
       "      <td>-0.015622</td>\n",
       "      <td>-0.023647</td>\n",
       "      <td>-0.008342</td>\n",
       "      <td>-0.008774</td>\n",
       "      <td>0.001282</td>\n",
       "      <td>1.000000</td>\n",
       "      <td>-0.012954</td>\n",
       "      <td>0.025917</td>\n",
       "    </tr>\n",
       "    <tr>\n",
       "      <th>Visitors with Patient</th>\n",
       "      <td>0.001729</td>\n",
       "      <td>-0.029024</td>\n",
       "      <td>0.018891</td>\n",
       "      <td>0.095826</td>\n",
       "      <td>0.088368</td>\n",
       "      <td>0.006378</td>\n",
       "      <td>-0.012954</td>\n",
       "      <td>1.000000</td>\n",
       "      <td>-0.149757</td>\n",
       "    </tr>\n",
       "    <tr>\n",
       "      <th>Admission_Deposit</th>\n",
       "      <td>-0.045598</td>\n",
       "      <td>0.044659</td>\n",
       "      <td>-0.035265</td>\n",
       "      <td>-0.143700</td>\n",
       "      <td>0.074325</td>\n",
       "      <td>-0.000689</td>\n",
       "      <td>0.025917</td>\n",
       "      <td>-0.149757</td>\n",
       "      <td>1.000000</td>\n",
       "    </tr>\n",
       "  </tbody>\n",
       "</table>\n",
       "</div>"
      ],
      "text/plain": [
       "                                    case_id  Hospital_code  \\\n",
       "case_id                            1.000000      -0.043588   \n",
       "Hospital_code                     -0.043588       1.000000   \n",
       "City_Code_Hospital                -0.012630       0.129187   \n",
       "Available Extra Rooms in Hospital  0.043660      -0.059922   \n",
       "Bed Grade                          0.013589      -0.013528   \n",
       "patientid                         -0.003336       0.002852   \n",
       "City_Code_Patient                  0.065413      -0.015622   \n",
       "Visitors with Patient              0.001729      -0.029024   \n",
       "Admission_Deposit                 -0.045598       0.044659   \n",
       "\n",
       "                                   City_Code_Hospital  \\\n",
       "case_id                                     -0.012630   \n",
       "Hospital_code                                0.129187   \n",
       "City_Code_Hospital                           1.000000   \n",
       "Available Extra Rooms in Hospital           -0.045672   \n",
       "Bed Grade                                   -0.049998   \n",
       "patientid                                    0.000164   \n",
       "City_Code_Patient                           -0.023647   \n",
       "Visitors with Patient                        0.018891   \n",
       "Admission_Deposit                           -0.035265   \n",
       "\n",
       "                                   Available Extra Rooms in Hospital  \\\n",
       "case_id                                                     0.043660   \n",
       "Hospital_code                                              -0.059922   \n",
       "City_Code_Hospital                                         -0.045672   \n",
       "Available Extra Rooms in Hospital                           1.000000   \n",
       "Bed Grade                                                  -0.116359   \n",
       "patientid                                                  -0.000582   \n",
       "City_Code_Patient                                          -0.008342   \n",
       "Visitors with Patient                                       0.095826   \n",
       "Admission_Deposit                                          -0.143700   \n",
       "\n",
       "                                   Bed Grade  patientid  City_Code_Patient  \\\n",
       "case_id                             0.013589  -0.003336           0.065413   \n",
       "Hospital_code                      -0.013528   0.002852          -0.015622   \n",
       "City_Code_Hospital                 -0.049998   0.000164          -0.023647   \n",
       "Available Extra Rooms in Hospital  -0.116359  -0.000582          -0.008342   \n",
       "Bed Grade                           1.000000   0.002808          -0.008774   \n",
       "patientid                           0.002808   1.000000           0.001282   \n",
       "City_Code_Patient                  -0.008774   0.001282           1.000000   \n",
       "Visitors with Patient               0.088368   0.006378          -0.012954   \n",
       "Admission_Deposit                   0.074325  -0.000689           0.025917   \n",
       "\n",
       "                                   Visitors with Patient  Admission_Deposit  \n",
       "case_id                                         0.001729          -0.045598  \n",
       "Hospital_code                                  -0.029024           0.044659  \n",
       "City_Code_Hospital                              0.018891          -0.035265  \n",
       "Available Extra Rooms in Hospital               0.095826          -0.143700  \n",
       "Bed Grade                                       0.088368           0.074325  \n",
       "patientid                                       0.006378          -0.000689  \n",
       "City_Code_Patient                              -0.012954           0.025917  \n",
       "Visitors with Patient                           1.000000          -0.149757  \n",
       "Admission_Deposit                              -0.149757           1.000000  "
      ]
     },
     "execution_count": 267,
     "metadata": {},
     "output_type": "execute_result"
    }
   ],
   "source": [
    "# only for the numeric values\n",
    "corr = train_set.corr()\n",
    "corr"
   ]
  },
  {
   "cell_type": "markdown",
   "metadata": {},
   "source": [
    "+ keep in mind, you cannot compare case_id, hospital_code, city_code_hospital, available extra rooms in hospital, bed grade, patientid, city_code_patient, and visitors with patient much with anything else since these are categories represented as numeric columns"
   ]
  },
  {
   "cell_type": "code",
   "execution_count": 269,
   "metadata": {},
   "outputs": [
    {
     "data": {
      "text/plain": [
       "<AxesSubplot:>"
      ]
     },
     "execution_count": 269,
     "metadata": {},
     "output_type": "execute_result"
    },
    {
     "data": {
      "image/png": "[encoded data removed]",
      "text/plain": [
       "<Figure size 1152x576 with 1 Axes>"
      ]
     },
     "metadata": {
      "needs_background": "light"
     },
     "output_type": "display_data"
    }
   ],
   "source": [
    "train_set[\"Stay\"].hist(figsize=(16, 8))"
   ]
  },
  {
   "cell_type": "code",
   "execution_count": 271,
   "metadata": {},
   "outputs": [
    {
     "data": {
      "text/plain": [
       "21-30                 78742\n",
       "11-20                 70325\n",
       "31-40                 49643\n",
       "51-60                 31516\n",
       "0-10                  21243\n",
       "41-50                 10569\n",
       "71-80                  9229\n",
       "More than 100 Days     6015\n",
       "81-90                  4354\n",
       "91-100                 2488\n",
       "61-70                  2470\n",
       "Name: Stay, dtype: int64"
      ]
     },
     "execution_count": 271,
     "metadata": {},
     "output_type": "execute_result"
    }
   ],
   "source": [
    "train_set[\"Stay\"].value_counts()"
   ]
  },
  {
   "cell_type": "markdown",
   "metadata": {},
   "source": [
    "+ observations:\n",
    "    + most people are staying for 11-30 days as expected"
   ]
  },
  {
   "cell_type": "markdown",
   "metadata": {},
   "source": [
    "## Preprocessing the Data"
   ]
  },
  {
   "cell_type": "code",
   "execution_count": 273,
   "metadata": {},
   "outputs": [],
   "source": [
    "from sklearn.pipeline import Pipeline\n",
    "from sklearn.base import TransformerMixin, BaseEstimator\n",
    "from sklearn.preprocessing import OneHotEncoder, StandardScaler\n",
    "from sklearn.impute import SimpleImputer\n",
    "from sklearn.compose import ColumnTransformer"
   ]
  },
  {
   "cell_type": "markdown",
   "metadata": {},
   "source": [
    "+ Preprocessing we need to do:\n",
    "    + \"Bed Grade\" and \"City_Code_Patient\" need to be imputed\n",
    "    + remove \"case_id\" and \"patientid\" attribute column\n",
    "        + reasoning:\n",
    "            + case_id is simply an index\n",
    "            + patientid has too many rare occasions (essentially 20349 outliers) to come up with a reasonable feature extraction\n",
    "    + bucketize (categorize) the following:\n",
    "        + Hospital_code\n",
    "            + not uniform\n",
    "        + Hospital_type_code\n",
    "            + not uniform\n",
    "        + City_Code_Hospital\n",
    "            + not uniform\n",
    "        + Hospital_region_code\n",
    "        + Available Extra Rooms in Hospital\n",
    "            + not uniform\n",
    "        + Department\n",
    "            + not uniform\n",
    "        + Ward_Type\n",
    "            + not uniform\n",
    "        + Ward_Facility_Code\n",
    "        + Bed Grade\n",
    "        + City_Code_Patient\n",
    "            + not uniform\n",
    "        + Type of Admission\n",
    "        + Severity of Illness\n",
    "        + Visitors with Patient\n",
    "            + not uniform\n",
    "        + Age\n",
    "            + not uniform\n",
    "        + Stay\n",
    "            + not uniform\n",
    "    + z-score normalization for all numerical columns\n",
    "    + handle outliers in Admission_Deposit"
   ]
  },
  {
   "cell_type": "code",
   "execution_count": 275,
   "metadata": {
    "scrolled": true
   },
   "outputs": [
    {
     "data": {
      "text/plain": [
       "case_id                                 0\n",
       "Hospital_code                           0\n",
       "Hospital_type_code                      0\n",
       "City_Code_Hospital                      0\n",
       "Hospital_region_code                    0\n",
       "Available Extra Rooms in Hospital       0\n",
       "Department                              0\n",
       "Ward_Type                               0\n",
       "Ward_Facility_Code                      0\n",
       "Bed Grade                              98\n",
       "patientid                               0\n",
       "City_Code_Patient                    4053\n",
       "Type of Admission                       0\n",
       "Severity of Illness                     0\n",
       "Visitors with Patient                   0\n",
       "Age                                     0\n",
       "Admission_Deposit                       0\n",
       "Stay                                    0\n",
       "dtype: int64"
      ]
     },
     "execution_count": 275,
     "metadata": {},
     "output_type": "execute_result"
    }
   ],
   "source": [
    "train_set.isna().sum() # 4053 missing values for city_code_patient and 98 for Bed Grade"
   ]
  },
  {
   "cell_type": "code",
   "execution_count": 277,
   "metadata": {},
   "outputs": [],
   "source": [
    "# splitting the data into features and labels\n",
    "X_train = train_set.drop(columns=\"Stay\")\n",
    "y_train = train_set[\"Stay\"].copy()\n",
    "\n",
    "X_valid = valid_set.drop(columns=\"Stay\")\n",
    "y_valid = valid_set[\"Stay\"].copy()\n",
    "\n",
    "X_test = test_set.drop(columns=\"Stay\")\n",
    "y_test = test_set[\"Stay\"].copy()"
   ]
  },
  {
   "cell_type": "code",
   "execution_count": 279,
   "metadata": {},
   "outputs": [
    {
     "data": {
      "text/plain": [
       "Index(['case_id', 'Hospital_code', 'Hospital_type_code', 'City_Code_Hospital',\n",
       "       'Hospital_region_code', 'Available Extra Rooms in Hospital',\n",
       "       'Department', 'Ward_Type', 'Ward_Facility_Code', 'Bed Grade',\n",
       "       'patientid', 'City_Code_Patient', 'Type of Admission',\n",
       "       'Severity of Illness', 'Visitors with Patient', 'Age',\n",
       "       'Admission_Deposit'],\n",
       "      dtype='object')"
      ]
     },
     "execution_count": 279,
     "metadata": {},
     "output_type": "execute_result"
    }
   ],
   "source": [
    "X_train.columns"
   ]
  },
  {
   "cell_type": "code",
   "execution_count": 281,
   "metadata": {},
   "outputs": [],
   "source": [
    "# choose what we want to be fed into the model\n",
    "class DataFrameSelector(BaseEstimator, TransformerMixin):\n",
    "    def __init__(self, attribute_names):\n",
    "        self.attribute_names = attribute_names\n",
    "    def fit(self, X, y=None):\n",
    "        return self\n",
    "    def transform(self, X):\n",
    "        return X[self.attribute_names]\n",
    "    \n",
    "# custom transformer imputer for categorical columns\n",
    "class MostFrequentImputer(BaseEstimator, TransformerMixin):\n",
    "    def fit(self, X, y=None):\n",
    "        self.most_frequent_ = pd.Series([X[c].value_counts().index[0] for c in X],\n",
    "                                        index=X.columns)\n",
    "        return self\n",
    "    def transform(self, X, y=None):\n",
    "        return X.fillna(self.most_frequent_)"
   ]
  },
  {
   "cell_type": "code",
   "execution_count": 283,
   "metadata": {},
   "outputs": [
    {
     "data": {
      "text/plain": [
       "['Hospital_code',\n",
       " 'Hospital_type_code',\n",
       " 'City_Code_Hospital',\n",
       " 'Hospital_region_code',\n",
       " 'Available Extra Rooms in Hospital',\n",
       " 'Department',\n",
       " 'Ward_Type',\n",
       " 'Ward_Facility_Code',\n",
       " 'Bed Grade',\n",
       " 'City_Code_Patient',\n",
       " 'Type of Admission',\n",
       " 'Severity of Illness',\n",
       " 'Visitors with Patient',\n",
       " 'Age',\n",
       " 'Admission_Deposit']"
      ]
     },
     "execution_count": 283,
     "metadata": {},
     "output_type": "execute_result"
    }
   ],
   "source": [
    "selected_columns = [column for column in X_train.columns if column != \"case_id\" and column != \"patientid\"]\n",
    "selected_columns"
   ]
  },
  {
   "cell_type": "code",
   "execution_count": 285,
   "metadata": {},
   "outputs": [],
   "source": [
    "cat_attribs = ['Hospital_code',\n",
    "               'Hospital_type_code',\n",
    "               'City_Code_Hospital',\n",
    "               'Hospital_region_code',\n",
    "               'Available Extra Rooms in Hospital',\n",
    "               'Department',\n",
    "               'Ward_Type',\n",
    "               'Ward_Facility_Code',\n",
    "               'Bed Grade',\n",
    "               'City_Code_Patient',\n",
    "               'Type of Admission',\n",
    "               'Severity of Illness',\n",
    "               'Visitors with Patient',\n",
    "               'Age']\n",
    "num_attribs = [\"Admission_Deposit\"]"
   ]
  },
  {
   "cell_type": "markdown",
   "metadata": {},
   "source": [
    "## Pipeline and Model Training"
   ]
  },
  {
   "cell_type": "code",
   "execution_count": 287,
   "metadata": {},
   "outputs": [],
   "source": [
    "num_pipeline = Pipeline([\n",
    "    (\"scaler\", StandardScaler()),\n",
    "])\n",
    "\n",
    "cat_pipeline = Pipeline([\n",
    "    (\"most_frequent_imputer\", MostFrequentImputer()),\n",
    "    (\"one_hot_encoder\", OneHotEncoder(handle_unknown=\"ignore\"))\n",
    "])\n",
    "\n",
    "col_transformer = ColumnTransformer([\n",
    "    (\"num_pipeline\", num_pipeline, num_attribs),\n",
    "    (\"cat_pipeline\", cat_pipeline, cat_attribs),\n",
    "])\n",
    "\n",
    "\n",
    "\n",
    "def create_pipeline_and_model(name, model):   \n",
    "    return Pipeline([\n",
    "        (\"selector\", DataFrameSelector(selected_columns)),\n",
    "        (\"col_transformer\", col_transformer),\n",
    "        (name, model), \n",
    "    ])"
   ]
  },
  {
   "cell_type": "code",
   "execution_count": 289,
   "metadata": {},
   "outputs": [],
   "source": [
    "from sklearn.multiclass import OneVsRestClassifier, OneVsOneClassifier \n",
    "# these can be wrapped around your binary clfs or omitted\n",
    "from sklearn.neighbors import KNeighborsClassifier\n",
    "from sklearn.svm import SVC, LinearSVC\n",
    "from sklearn.linear_model import SGDClassifier\n",
    "from sklearn.tree import DecisionTreeClassifier\n",
    "from sklearn.ensemble import RandomForestClassifier, ExtraTreesClassifier\n",
    "\n",
    "def create_pipeline_and_models(names, models):\n",
    "    pipeline_and_models = []\n",
    "    for name, model in zip(names, models):\n",
    "        pipeline_and_models.append(create_pipeline_and_model(name, model))\n",
    "    return pipeline_and_models\n",
    "\n",
    "names = [\"LinearSVC\", \"SGDClassifier\", \"DecisionTreeClassifier\", \"RandomForestClassifier\", \n",
    "         \"ExtraTreesClassifier\", \"KNeighborsClassifier\"]\n",
    "models = [LinearSVC(), \n",
    "          SGDClassifier(n_jobs=-1), \n",
    "          DecisionTreeClassifier(), \n",
    "          RandomForestClassifier(n_jobs=-1), \n",
    "          ExtraTreesClassifier(n_jobs=-1), \n",
    "          KNeighborsClassifier(n_jobs=-1)]\n",
    "\n",
    "pipeline_and_models = create_pipeline_and_models(names, models)"
   ]
  },
  {
   "cell_type": "code",
   "execution_count": 291,
   "metadata": {
    "scrolled": false
   },
   "outputs": [
    {
     "name": "stdout",
     "output_type": "stream",
     "text": [
      "selector DataFrameSelector(attribute_names=['Hospital_code', 'Hospital_type_code',\n",
      "                                   'City_Code_Hospital', 'Hospital_region_code',\n",
      "                                   'Available Extra Rooms in Hospital',\n",
      "                                   'Department', 'Ward_Type',\n",
      "                                   'Ward_Facility_Code', 'Bed Grade',\n",
      "                                   'City_Code_Patient', 'Type of Admission',\n",
      "                                   'Severity of Illness',\n",
      "                                   'Visitors with Patient', 'Age',\n",
      "                                   'Admission_Deposit'])\n",
      "col_transformer ColumnTransformer(transformers=[('num_pipeline',\n",
      "                                 Pipeline(steps=[('scaler', StandardScaler())]),\n",
      "                                 ['Admission_Deposit']),\n",
      "                                ('cat_pipeline',\n",
      "                                 Pipeline(steps=[('most_frequent_imputer',\n",
      "                                                  MostFrequentImputer()),\n",
      "                                                 ('one_hot_encoder',\n",
      "                                                  OneHotEncoder(handle_unknown='ignore'))]),\n",
      "                                 ['Hospital_code', 'Hospital_type_code',\n",
      "                                  'City_Code_Hospital', 'Hospital_region_code',\n",
      "                                  'Available Extra Rooms in Hospital',\n",
      "                                  'Department', 'Ward_Type',\n",
      "                                  'Ward_Facility_Code', 'Bed Grade',\n",
      "                                  'City_Code_Patient', 'Type of Admission',\n",
      "                                  'Severity of Illness',\n",
      "                                  'Visitors with Patient', 'Age'])])\n"
     ]
    }
   ],
   "source": [
    "for key, value in pipeline_and_models[0][:-1].named_steps.items(): \n",
    "    # subscriptable and indexable which is really convenient for an upcoming task\n",
    "    print(key, value)"
   ]
  },
  {
   "cell_type": "code",
   "execution_count": 293,
   "metadata": {},
   "outputs": [],
   "source": [
    "# set to True if your models are already trained and saved else set to False\n",
    "already_trained = True"
   ]
  },
  {
   "cell_type": "code",
   "execution_count": 294,
   "metadata": {},
   "outputs": [],
   "source": [
    "# only for the training set because it is too large (not for the validation or test sets)\n",
    "n_instances = 50000\n",
    "X_train_subset = X_train[:n_instances]\n",
    "y_train_subset = y_train[:n_instances]"
   ]
  },
  {
   "cell_type": "code",
   "execution_count": 295,
   "metadata": {},
   "outputs": [],
   "source": [
    "from copy import deepcopy\n",
    "\n",
    "# every pipeline will be fitted to this\n",
    "train_valid_test_data_features = train_valid_test_data.drop(columns=\"Stay\")\n",
    "\n",
    "# training the models\n",
    "def train_models(names, pipeline_and_models, train_valid_test_data_features, \n",
    "                 X_train, y_train, already_trained=True):\n",
    "    if not already_trained:\n",
    "        trained_pipeline_and_models = []\n",
    "        pipelines, models = [], []\n",
    "        \n",
    "        # split the pipeline and model\n",
    "        for pipeline_and_model in pipeline_and_models:\n",
    "            pipelines.append(deepcopy(pipeline_and_model[:-1]))\n",
    "            models.append(deepcopy(pipeline_and_model[-1]))\n",
    "        # pipelines is a list of pipelines and models is a list of just models (not pipelines wrapping models!)\n",
    "        \n",
    "        for name, pipeline, model in zip(names, pipelines, models):\n",
    "            # fit each pipeline to train_valid_test_features\n",
    "            _ = pipeline.fit(train_valid_test_data_features)\n",
    "            # transform X_train\n",
    "            X_train_ready = pipeline.transform(X_train)\n",
    "            # train the model\n",
    "            model.fit(X_train_ready, y_train)\n",
    "            # concatenate pipeline and model together and append to trained_pipeline_and_models\n",
    "            list_of_components = []\n",
    "            for component_name, component in pipeline.named_steps.items():\n",
    "                list_of_components.append((component_name, component))\n",
    "            list_of_components.append((name, model))\n",
    "            trained_pipeline_and_models.append(Pipeline(list_of_components))\n",
    "        \n",
    "        return trained_pipeline_and_models\n",
    "    else: \n",
    "        pass\n",
    "    \n",
    "trained_pipeline_and_models = train_models(names, pipeline_and_models, train_valid_test_data_features, \n",
    "                                          X_train_subset, y_train_subset, already_trained=already_trained)"
   ]
  },
  {
   "cell_type": "markdown",
   "metadata": {},
   "source": [
    "### Checkpointing Trained Models"
   ]
  },
  {
   "cell_type": "code",
   "execution_count": 296,
   "metadata": {},
   "outputs": [],
   "source": [
    "# extracting just the trained models from the pipelines\n",
    "def clone_models(names, pipeline_and_models):\n",
    "    models = []\n",
    "    for name, pipeline_and_model in zip(names, pipeline_and_models):\n",
    "        models.append(deepcopy(pipeline_and_model.named_steps[name]))\n",
    "    return models"
   ]
  },
  {
   "cell_type": "code",
   "execution_count": 297,
   "metadata": {},
   "outputs": [],
   "source": [
    "import gzip # for compression\n",
    "import joblib # import pickle also works or from sklearn.externals import joblib\n",
    "\n",
    "# saving/checkpointing all the models\n",
    "def save_unrefined_models(names, pipeline_and_models, already_trained=True, \n",
    "                          root_dir=\"D:/models/Final Projects/Classification Task/\"):\n",
    "    if not already_trained:\n",
    "        if not os.path.isdir(root_dir):\n",
    "            os.makedirs(root_dir)\n",
    "        # models = clone_models(names, pipeline_and_models) # optional: if you want to save just your models\n",
    "        for name, model in zip(names, pipeline_and_models):\n",
    "            pkl_filename = root_dir + \"UNREF_\" + name + \".pkl\" # UNREF for unrefined\n",
    "            with gzip.open(pkl_filename + \".gz\", 'wb') as file:\n",
    "                joblib.dump(model, file)\n",
    "            \n",
    "save_unrefined_models(names, trained_pipeline_and_models, already_trained=already_trained)"
   ]
  },
  {
   "cell_type": "code",
   "execution_count": 298,
   "metadata": {},
   "outputs": [],
   "source": [
    "# loading the trained models\n",
    "def load_unrefined_models(names, root_dir=\"D:/models/Final Projects/Classification Task/\"):\n",
    "    loaded_models = []\n",
    "    for name in names:\n",
    "        pkl_filename = root_dir + \"UNREF_\" + name + \".pkl\"\n",
    "        # Load from file\n",
    "        with gzip.open(pkl_filename + \".gz\", 'rb') as file:\n",
    "            pickle_model = joblib.load(file)\n",
    "            loaded_models.append(pickle_model)\n",
    "    return loaded_models\n",
    "\n",
    "# because your model is part of a pipeline that has custom transformers, \n",
    "# it can be pickled (but you won't be able to predict or call any functions (as the ColumnTransformer is not fitted))\n",
    "# if your model was not part of the pipeline, then it can be pickled and\n",
    "# called on when loaded in\n",
    "\n",
    "# on a second note, this does seem to work\n",
    "loaded_models = load_unrefined_models(names)"
   ]
  },
  {
   "cell_type": "markdown",
   "metadata": {},
   "source": [
    "## Shortlisting Models"
   ]
  },
  {
   "cell_type": "code",
   "execution_count": 299,
   "metadata": {},
   "outputs": [],
   "source": [
    "# LinearSVC: decision_function\n",
    "# SGDClassifier: decision_function\n",
    "# DecisionTreeClassifier: predict_proba\n",
    "# RandomForestClassifier: predict_proba\n",
    "# ExtraTreesClassifier: predict_proba\n",
    "# KNeighborsClassifier: predict_proba"
   ]
  },
  {
   "cell_type": "code",
   "execution_count": 300,
   "metadata": {
    "scrolled": true
   },
   "outputs": [
    {
     "data": {
      "text/plain": [
       "['AdaBoostClassifier',\n",
       " 'BaggingClassifier',\n",
       " 'BayesianGaussianMixture',\n",
       " 'BernoulliNB',\n",
       " 'CalibratedClassifierCV',\n",
       " 'CategoricalNB',\n",
       " 'ClassifierChain',\n",
       " 'ComplementNB',\n",
       " 'DecisionTreeClassifier',\n",
       " 'DummyClassifier',\n",
       " 'ExtraTreeClassifier',\n",
       " 'ExtraTreesClassifier',\n",
       " 'GaussianMixture',\n",
       " 'GaussianNB',\n",
       " 'GaussianProcessClassifier',\n",
       " 'GradientBoostingClassifier',\n",
       " 'GridSearchCV',\n",
       " 'HistGradientBoostingClassifier',\n",
       " 'KNeighborsClassifier',\n",
       " 'LabelPropagation',\n",
       " 'LabelSpreading',\n",
       " 'LinearDiscriminantAnalysis',\n",
       " 'LogisticRegression',\n",
       " 'LogisticRegressionCV',\n",
       " 'MLPClassifier',\n",
       " 'MultiOutputClassifier',\n",
       " 'MultinomialNB',\n",
       " 'NuSVC',\n",
       " 'OneVsRestClassifier',\n",
       " 'Pipeline',\n",
       " 'QuadraticDiscriminantAnalysis',\n",
       " 'RFE',\n",
       " 'RFECV',\n",
       " 'RadiusNeighborsClassifier',\n",
       " 'RandomForestClassifier',\n",
       " 'RandomizedSearchCV',\n",
       " 'SGDClassifier',\n",
       " 'SVC',\n",
       " 'StackingClassifier',\n",
       " 'VotingClassifier']"
      ]
     },
     "execution_count": 300,
     "metadata": {},
     "output_type": "execute_result"
    }
   ],
   "source": [
    "from sklearn.utils import all_estimators\n",
    "\n",
    "# Finding all models that support predict_proba and decision_function (and both)\n",
    "# https://stackoverflow.com/questions/30056331/how-to-list-all-scikit-learn-classifiers-that-support-predict-proba\n",
    "estimators = all_estimators()\n",
    "\n",
    "# we just need the predict proba list\n",
    "predict_proba_supported_models, decision_function_supported_models, both_supported_models = [], [], []\n",
    "for name, class_ in estimators:\n",
    "    # some models support both so I have 2 conditional statements\n",
    "    if hasattr(class_, 'predict_proba'):\n",
    "        predict_proba_supported_models.append(name)\n",
    "    if hasattr(class_, \"decision_function\"):\n",
    "        decision_function_supported_models.append(name)\n",
    "    if hasattr(class_, \"decision_function\") and hasattr(class_, 'predict_proba'):\n",
    "        both_supported_models.append(name)\n",
    "        \n",
    "predict_proba_supported_models"
   ]
  },
  {
   "cell_type": "markdown",
   "metadata": {},
   "source": [
    "+ string shortcuts for specifying metrics in cross validation:\n",
    "+ https://scikit-learn.org/stable/modules/model_evaluation.html#scoring-parameter"
   ]
  },
  {
   "cell_type": "markdown",
   "metadata": {},
   "source": [
    "+ multiline vs single line imports\n",
    "+ https://stackoverflow.com/questions/15011367/python-module-import-single-line-vs-multi-line"
   ]
  },
  {
   "cell_type": "code",
   "execution_count": 301,
   "metadata": {
    "scrolled": true
   },
   "outputs": [
    {
     "data": {
      "text/plain": [
       "['accuracy',\n",
       " 'adjusted_mutual_info_score',\n",
       " 'adjusted_rand_score',\n",
       " 'average_precision',\n",
       " 'balanced_accuracy',\n",
       " 'completeness_score',\n",
       " 'explained_variance',\n",
       " 'f1',\n",
       " 'f1_macro',\n",
       " 'f1_micro',\n",
       " 'f1_samples',\n",
       " 'f1_weighted',\n",
       " 'fowlkes_mallows_score',\n",
       " 'homogeneity_score',\n",
       " 'jaccard',\n",
       " 'jaccard_macro',\n",
       " 'jaccard_micro',\n",
       " 'jaccard_samples',\n",
       " 'jaccard_weighted',\n",
       " 'max_error',\n",
       " 'mutual_info_score',\n",
       " 'neg_brier_score',\n",
       " 'neg_log_loss',\n",
       " 'neg_mean_absolute_error',\n",
       " 'neg_mean_gamma_deviance',\n",
       " 'neg_mean_poisson_deviance',\n",
       " 'neg_mean_squared_error',\n",
       " 'neg_mean_squared_log_error',\n",
       " 'neg_median_absolute_error',\n",
       " 'neg_root_mean_squared_error',\n",
       " 'normalized_mutual_info_score',\n",
       " 'precision',\n",
       " 'precision_macro',\n",
       " 'precision_micro',\n",
       " 'precision_samples',\n",
       " 'precision_weighted',\n",
       " 'r2',\n",
       " 'recall',\n",
       " 'recall_macro',\n",
       " 'recall_micro',\n",
       " 'recall_samples',\n",
       " 'recall_weighted',\n",
       " 'roc_auc',\n",
       " 'roc_auc_ovo',\n",
       " 'roc_auc_ovo_weighted',\n",
       " 'roc_auc_ovr',\n",
       " 'roc_auc_ovr_weighted',\n",
       " 'v_measure_score']"
      ]
     },
     "execution_count": 301,
     "metadata": {},
     "output_type": "execute_result"
    }
   ],
   "source": [
    "from sklearn import metrics\n",
    "\n",
    "# metrics represented as strings\n",
    "metrics_as_strings = sorted(metrics.SCORERS.keys())\n",
    "metrics_as_strings"
   ]
  },
  {
   "cell_type": "code",
   "execution_count": 302,
   "metadata": {},
   "outputs": [],
   "source": [
    "from sklearn.model_selection import cross_val_score, cross_val_predict\n",
    "# accuracy_score will be replaced with balanced_accuracy_score\n",
    "from sklearn.metrics import accuracy_score, balanced_accuracy_score, precision_score, recall_score, f1_score\n",
    "# get_scorer didn't work as I thought it would\n",
    "from sklearn.metrics import precision_recall_curve, roc_curve, roc_auc_score, get_scorer\n",
    "\n",
    "# these 4 different approaches are divided into 4 different functions \n",
    "# in the case where an individual function —isolated from the other functions— needs to be edited\n",
    "\n",
    "# assessing each trained model\n",
    "def assess_individual_models(names, pipeline_and_models, X, y, metric):\n",
    "    individual_scores = {}\n",
    "    for name, pipeline_and_model in zip(names, pipeline_and_models):\n",
    "        y_pred = pipeline_and_model.predict(X)\n",
    "        score = metric(y, y_pred)\n",
    "        individual_scores[name] = score\n",
    "    return individual_scores\n",
    "\n",
    "# assessing each model via cross_val_score\n",
    "def assess_cross_val_models(names, pipeline_and_models, X, y, metric, cv=5, n_jobs=-1):\n",
    "    cross_val_scores = {}\n",
    "    for name, pipeline_and_model in zip(names, pipeline_and_models):\n",
    "        scores = cross_val_score(pipeline_and_model, X, y, scoring=metric, cv=cv, n_jobs=n_jobs)\n",
    "        cross_val_scores[name] = scores\n",
    "    return cross_val_scores\n",
    "\n",
    "# get each individual model's decision/probability \n",
    "\n",
    "# alternatively, I could run the hasattr function within these functions or \n",
    "# create a smaller function to be called from these 2 following functions\n",
    "# however, I simply chose this route because I had the option in doing so\n",
    "\n",
    "def get_individual_decision_and_proba(names, pipeline_and_models, X, y, predict_proba_supported_models):\n",
    "    decisions_and_probas = {}\n",
    "    for name, pipeline_and_model in zip(names, pipeline_and_models):\n",
    "        if name in predict_proba_supported_models: \n",
    "            if name == \"SGDClassifier\": # SGDClassifier is a special case; needs to be wrapped by a CalibratedClassifierCV\n",
    "                decision_or_proba = pipeline_and_model.decision_function(X)\n",
    "            else:\n",
    "                decision_or_proba = pipeline_and_model.predict_proba(X)\n",
    "        else: \n",
    "            decision_or_proba = pipeline_and_model.decision_function(X)\n",
    "        decisions_and_probas[name] = decision_or_proba\n",
    "    return decisions_and_probas\n",
    "        \n",
    "# get each model's decision/probability via cross_val_predict\n",
    "def get_cross_val_decision_and_proba(names, pipeline_and_models, X, y, predict_proba_supported_models, cv=5, n_jobs=-1):\n",
    "    cross_val_decisions_or_probas = {}\n",
    "    for name, pipeline_and_model in zip(names, pipeline_and_models):\n",
    "        if name in predict_proba_supported_models:  \n",
    "            method = \"predict_proba\"\n",
    "            if name == \"SGDClassifier\":\n",
    "                method = \"decision_function\"\n",
    "        else: \n",
    "            method = \"decision_function\"\n",
    "        scores = cross_val_predict(pipeline_and_model, X, y, cv=cv, n_jobs=n_jobs, method=method)\n",
    "        cross_val_decisions_or_probas[name] = scores\n",
    "    return cross_val_decisions_or_probas\n",
    "\n",
    "# combine everything together through a wrapper function\n",
    "def pretest_evaluate(names, pipeline_and_models, X, y, metrics, cross_val_metrics, \n",
    "                     predict_proba_supported_models, cv=5, n_jobs=-1, already_trained=True):\n",
    "    if not already_trained:\n",
    "        # this will be a dictionary: \n",
    "            # 1 key for each metric\n",
    "                # each key has a dictionary of n keys (where n is the number of models in pipeline_and_models)\n",
    "                    # each key here will have 1 value associated with it: the score for that model, for that specific metric\n",
    "        all_metric_scores = {}\n",
    "        # metrics = [get_scorer(metric_as_string) for metric_as_string in cross_val_metrics] doesn't work\n",
    "        for metric_name, metric in zip(cross_val_metrics, metrics):\n",
    "            metric_scores = assess_individual_models(names, pipeline_and_models, X, y, metric)\n",
    "            all_metric_scores[metric_name] = metric_scores\n",
    "\n",
    "        # this will be a dictionary:\n",
    "            # 1 key for each metric\n",
    "                # each key has a dictionary of n keys (where n is the number of models in pipeline_and_models)\n",
    "                    # # each key here will have cv values associated with it: the score for that model, for that specific metric\n",
    "        all_cross_val_metric_scores = {}\n",
    "        for metric in cross_val_metrics:\n",
    "            cross_val_metric_scores = assess_cross_val_models(names, pipeline_and_models, X, y, metric, cv=cv, n_jobs=n_jobs)\n",
    "            all_cross_val_metric_scores[metric] = cross_val_metric_scores\n",
    "\n",
    "        # this will be a dictionary:\n",
    "            # 1 key for each model\n",
    "                # each key will correspond to a 2D matrix holding the decisions or predict_probas\n",
    "                    # all 2D matrices will be of shape: (n_samples, n_classes)\n",
    "        decisions_and_probas = get_individual_decision_and_proba(names, pipeline_and_models, X, y, \n",
    "                                                                 predict_proba_supported_models)\n",
    "\n",
    "        # this will be a dictionary:\n",
    "            # 1 key for each model\n",
    "                # each key will correspond to a 2D matrix holding the decisions or predict_probas\n",
    "                    # all 2D matrices will be of shape: (n_samples, n_classes)\n",
    "        cross_val_decisions_or_probas = get_cross_val_decision_and_proba(names, pipeline_and_models, X, y, \n",
    "                                                                         predict_proba_supported_models, cv=cv, n_jobs=n_jobs)\n",
    "\n",
    "        return all_metric_scores, all_cross_val_metric_scores, decisions_and_probas, cross_val_decisions_or_probas\n",
    "    else:\n",
    "        return _, _, _, _"
   ]
  },
  {
   "cell_type": "code",
   "execution_count": 303,
   "metadata": {},
   "outputs": [],
   "source": [
    "from functools import partial\n",
    "\n",
    "f1_weighted = partial(f1_score, average=\"weighted\")\n",
    "precision_weighted = partial(precision_score, average=\"weighted\")\n",
    "recall_weighted = partial(recall_score, average=\"weighted\")\n",
    "\n",
    "# these 2 lists have to be in the same order\n",
    "cross_val_metrics = [\n",
    "    \"accuracy\",\n",
    "    \"balanced_accuracy\", \n",
    "    \"f1_weighted\", \n",
    "    \"precision_weighted\", \n",
    "    \"recall_weighted\"\n",
    "]\n",
    "metrics = [\n",
    "    accuracy_score,\n",
    "    balanced_accuracy_score,\n",
    "    f1_weighted,\n",
    "    precision_weighted,\n",
    "    recall_weighted,\n",
    "]\n",
    "\n",
    "\n",
    "\n",
    "# calling pretest_evaluate\n",
    "all_metric_scores, all_cross_val_metric_scores, decisions_and_probas, cross_val_decisions_or_probas = pretest_evaluate(names, \n",
    "                                                                                                                       loaded_models, \n",
    "                                                                                                                       X_train_subset[:20000], \n",
    "                                                                                                                       y_train_subset[:20000], \n",
    "                                                                                                                       metrics,\n",
    "                                                                                                                       cross_val_metrics, \n",
    "                                                                                                                       predict_proba_supported_models, \n",
    "                                                                                                                       cv=5, \n",
    "                                                                                                                       n_jobs=-1,\n",
    "                                                                                                                       already_trained=already_trained)"
   ]
  },
  {
   "cell_type": "markdown",
   "metadata": {},
   "source": [
    "+ UndefinedMetricWarning: Precision is ill-defined and being set to 0.0 in labels with no predicted samples. Use `zero_division` parameter to control this behavior.\n",
    "+ https://stackoverflow.com/questions/54150147/classification-report-precision-and-f-score-are-ill-defined"
   ]
  },
  {
   "cell_type": "markdown",
   "metadata": {},
   "source": [
    "+ AttributeError: probability estimates are not available for loss='hinge'\n",
    "+ https://stackoverflow.com/questions/39200265/attributeerror-probability-estimates-are-not-available-for-loss-hinge"
   ]
  },
  {
   "cell_type": "markdown",
   "metadata": {},
   "source": [
    "### Checkpointing Pre-Test Evaluations"
   ]
  },
  {
   "cell_type": "code",
   "execution_count": 304,
   "metadata": {},
   "outputs": [],
   "source": [
    "def save_pretest_evaluations(all_metric_scores, all_cross_val_metric_scores, \n",
    "                             decisions_and_probas, cross_val_decisions_or_probas,\n",
    "                             already_trained=True,\n",
    "                             root_dir=\"D:/models/Final Projects/Classification Task/\"):\n",
    "    names = [\"all_metric_scores\", \"all_cross_val_metric_scores\", \n",
    "                             \"decisions_and_probas\", \"cross_val_decisions_or_probas\"]\n",
    "    scores = [all_metric_scores, all_cross_val_metric_scores, \n",
    "                             decisions_and_probas, cross_val_decisions_or_probas]\n",
    "    if not already_trained:\n",
    "        if not os.path.isdir(root_dir):\n",
    "            os.makedirs(root_dir)\n",
    "        for name, dictionary in zip(names, scores):       \n",
    "            pkl_filename = root_dir + \"pretest_eval_\" + name + \".pkl\"\n",
    "            with gzip.open(pkl_filename + \".gz\", 'wb') as file:\n",
    "                        joblib.dump(dictionary, file)\n",
    "    return names\n",
    "    \n",
    "pretest_evaluation_names = save_pretest_evaluations(all_metric_scores, all_cross_val_metric_scores, \n",
    "                                                    decisions_and_probas, cross_val_decisions_or_probas,\n",
    "                                                    already_trained=already_trained)"
   ]
  },
  {
   "cell_type": "code",
   "execution_count": 305,
   "metadata": {},
   "outputs": [],
   "source": [
    "def load_pretest_evaluations(names, root_dir=\"D:/models/Final Projects/Classification Task/\"):\n",
    "    all_scores = []\n",
    "    for name in names: \n",
    "        pkl_filename = root_dir + \"pretest_eval_\" + name + \".pkl\"\n",
    "        with gzip.open(pkl_filename + \".gz\", 'rb') as file:\n",
    "            dictionary_score = joblib.load(file)\n",
    "            all_scores.append(dictionary_score)\n",
    "    return all_scores\n",
    "\n",
    "all_metric_scores, all_cross_val_metric_scores, decisions_and_probas, cross_val_decisions_or_probas = load_pretest_evaluations(pretest_evaluation_names)"
   ]
  },
  {
   "cell_type": "markdown",
   "metadata": {},
   "source": [
    "### Analyzing Evaluations"
   ]
  },
  {
   "cell_type": "markdown",
   "metadata": {},
   "source": [
    "+ calculating accuracy as an extra metric"
   ]
  },
  {
   "cell_type": "code",
   "execution_count": 306,
   "metadata": {},
   "outputs": [],
   "source": [
    "# accuracy score on the training subset we used\n",
    "already_evaluated = True\n",
    "if not already_evaluated:\n",
    "    for model in loaded_models:\n",
    "        print(accuracy_score(y_train_subset, model.predict(X_train_subset)))\n",
    "        \n",
    "# 0.3944\n",
    "# 0.33632\n",
    "# 0.99996\n",
    "# 0.99996\n",
    "# 0.99996\n",
    "# 0.51212"
   ]
  },
  {
   "cell_type": "code",
   "execution_count": 307,
   "metadata": {
    "scrolled": true
   },
   "outputs": [],
   "source": [
    "# accuracy score on the validation set\n",
    "if not already_evaluated:\n",
    "    for model in loaded_models:\n",
    "        print(accuracy_score(y_valid, model.predict(X_valid)))\n",
    "        \n",
    "# 0.38960767072813296\n",
    "# 0.33375204120085417\n",
    "# 0.2925930578235565\n",
    "# 0.37411547962986225\n",
    "# 0.35238454130553115\n",
    "# 0.3200184231461709"
   ]
  },
  {
   "cell_type": "code",
   "execution_count": 308,
   "metadata": {},
   "outputs": [],
   "source": [
    "# accuracy score on the entire training set\n",
    "if not already_evaluated:\n",
    "    for model in loaded_models:\n",
    "        print(accuracy_score(y_train, model.predict(X_train)))\n",
    "    \n",
    "# 0.39003258965644777\n",
    "# 0.33131537994514887\n",
    "# 0.4187038109660356\n",
    "# 0.4826130344668765\n",
    "# 0.46631471698639887\n",
    "# 0.34945253564275597"
   ]
  },
  {
   "cell_type": "markdown",
   "metadata": {},
   "source": [
    "+ looks like our accuracy metric falls within the rough range of: 30-40%"
   ]
  },
  {
   "cell_type": "code",
   "execution_count": 309,
   "metadata": {
    "scrolled": true
   },
   "outputs": [],
   "source": [
    "# display metric scores as a table\n",
    "def display_scores(all_metric_scores, all_cross_val_metric_scores):\n",
    "    \n",
    "    # the following is for all_cross_val_metric_scores\n",
    "    # mean and std are calculated here\n",
    "    all_cross_val_metric_scores_mean, all_cross_val_metric_scores_std = {}, {}\n",
    "    for key1, value1 in all_cross_val_metric_scores.items():\n",
    "        metric_scores_mean, metric_scores_std = {}, {}\n",
    "        for key2, value2 in value1.items():\n",
    "            metric_scores_mean[key2] = value2.mean()\n",
    "            metric_scores_std[key2] = value2.std()\n",
    "        all_cross_val_metric_scores_mean[key1] = metric_scores_mean\n",
    "        all_cross_val_metric_scores_std[key1] = metric_scores_std\n",
    "    \n",
    "    # the following is for all_metric_scores\n",
    "    count1, count2, count3 = 1, 1, 1\n",
    "    first_key1, first_key2, first_key3 = next(iter(all_metric_scores)), next(iter(all_cross_val_metric_scores_mean)), next(iter(all_cross_val_metric_scores_std))\n",
    "    all_metric_scores_df = pd.DataFrame(all_metric_scores[first_key1], index=[first_key1])\n",
    "    all_cross_val_metric_scores_df_mean = pd.DataFrame(all_cross_val_metric_scores_mean[first_key2], index=[first_key2])\n",
    "    all_cross_val_metric_scores_df_std = pd.DataFrame(all_cross_val_metric_scores_std[first_key3], index=[first_key3])\n",
    "    for key1, key2, key3 in zip(all_metric_scores.keys(), all_cross_val_metric_scores_mean.keys(), all_cross_val_metric_scores_std.keys()):\n",
    "        if count1 == 1 and count2 == 1 and count3 == 1: \n",
    "            count1 += 1; count2 += 1; count3 += 1; continue\n",
    "        df1 = pd.DataFrame(all_metric_scores[key1], index=[key1])\n",
    "        all_metric_scores_df = pd.concat([all_metric_scores_df, df1], axis=0)\n",
    "        \n",
    "        df2 = pd.DataFrame(all_cross_val_metric_scores_mean[key2], index=[key2])\n",
    "        all_cross_val_metric_scores_df_mean = pd.concat([all_cross_val_metric_scores_df_mean, df2], axis=0)\n",
    "        \n",
    "        df3 = pd.DataFrame(all_cross_val_metric_scores_std[key3], index=[key3])\n",
    "        all_cross_val_metric_scores_df_std = pd.concat([all_cross_val_metric_scores_df_std, df3], axis=0)\n",
    "\n",
    "    \n",
    "    return all_metric_scores_df, all_cross_val_metric_scores_df_mean, all_cross_val_metric_scores_df_std\n",
    "\n",
    "all_metric_scores_df, all_cross_val_metric_scores_df_mean, all_cross_val_metric_scores_df_std = display_scores(\n",
    "    all_metric_scores, all_cross_val_metric_scores\n",
    ")"
   ]
  },
  {
   "cell_type": "code",
   "execution_count": 310,
   "metadata": {},
   "outputs": [
    {
     "data": {
      "text/html": [
       "<div>\n",
       "<style scoped>\n",
       "    .dataframe tbody tr th:only-of-type {\n",
       "        vertical-align: middle;\n",
       "    }\n",
       "\n",
       "    .dataframe tbody tr th {\n",
       "        vertical-align: top;\n",
       "    }\n",
       "\n",
       "    .dataframe thead th {\n",
       "        text-align: right;\n",
       "    }\n",
       "</style>\n",
       "<table border=\"1\" class=\"dataframe\">\n",
       "  <thead>\n",
       "    <tr style=\"text-align: right;\">\n",
       "      <th></th>\n",
       "      <th>LinearSVC</th>\n",
       "      <th>SGDClassifier</th>\n",
       "      <th>DecisionTreeClassifier</th>\n",
       "      <th>RandomForestClassifier</th>\n",
       "      <th>ExtraTreesClassifier</th>\n",
       "      <th>KNeighborsClassifier</th>\n",
       "    </tr>\n",
       "  </thead>\n",
       "  <tbody>\n",
       "    <tr>\n",
       "      <th>accuracy</th>\n",
       "      <td>0.392950</td>\n",
       "      <td>0.334400</td>\n",
       "      <td>0.999900</td>\n",
       "      <td>0.999900</td>\n",
       "      <td>0.999900</td>\n",
       "      <td>0.510000</td>\n",
       "    </tr>\n",
       "    <tr>\n",
       "      <th>balanced_accuracy</th>\n",
       "      <td>0.196275</td>\n",
       "      <td>0.194598</td>\n",
       "      <td>0.999943</td>\n",
       "      <td>0.999943</td>\n",
       "      <td>0.999943</td>\n",
       "      <td>0.288359</td>\n",
       "    </tr>\n",
       "    <tr>\n",
       "      <th>f1_weighted</th>\n",
       "      <td>0.328976</td>\n",
       "      <td>0.310335</td>\n",
       "      <td>0.999900</td>\n",
       "      <td>0.999900</td>\n",
       "      <td>0.999900</td>\n",
       "      <td>0.486214</td>\n",
       "    </tr>\n",
       "    <tr>\n",
       "      <th>precision_weighted</th>\n",
       "      <td>0.361490</td>\n",
       "      <td>0.317879</td>\n",
       "      <td>0.999900</td>\n",
       "      <td>0.999900</td>\n",
       "      <td>0.999900</td>\n",
       "      <td>0.514514</td>\n",
       "    </tr>\n",
       "    <tr>\n",
       "      <th>recall_weighted</th>\n",
       "      <td>0.392950</td>\n",
       "      <td>0.334400</td>\n",
       "      <td>0.999900</td>\n",
       "      <td>0.999900</td>\n",
       "      <td>0.999900</td>\n",
       "      <td>0.510000</td>\n",
       "    </tr>\n",
       "  </tbody>\n",
       "</table>\n",
       "</div>"
      ],
      "text/plain": [
       "                    LinearSVC  SGDClassifier  DecisionTreeClassifier  \\\n",
       "accuracy             0.392950       0.334400                0.999900   \n",
       "balanced_accuracy    0.196275       0.194598                0.999943   \n",
       "f1_weighted          0.328976       0.310335                0.999900   \n",
       "precision_weighted   0.361490       0.317879                0.999900   \n",
       "recall_weighted      0.392950       0.334400                0.999900   \n",
       "\n",
       "                    RandomForestClassifier  ExtraTreesClassifier  \\\n",
       "accuracy                          0.999900              0.999900   \n",
       "balanced_accuracy                 0.999943              0.999943   \n",
       "f1_weighted                       0.999900              0.999900   \n",
       "precision_weighted                0.999900              0.999900   \n",
       "recall_weighted                   0.999900              0.999900   \n",
       "\n",
       "                    KNeighborsClassifier  \n",
       "accuracy                        0.510000  \n",
       "balanced_accuracy               0.288359  \n",
       "f1_weighted                     0.486214  \n",
       "precision_weighted              0.514514  \n",
       "recall_weighted                 0.510000  "
      ]
     },
     "execution_count": 310,
     "metadata": {},
     "output_type": "execute_result"
    }
   ],
   "source": [
    "all_metric_scores_df # individual scores"
   ]
  },
  {
   "cell_type": "code",
   "execution_count": 311,
   "metadata": {},
   "outputs": [
    {
     "data": {
      "text/html": [
       "<div>\n",
       "<style scoped>\n",
       "    .dataframe tbody tr th:only-of-type {\n",
       "        vertical-align: middle;\n",
       "    }\n",
       "\n",
       "    .dataframe tbody tr th {\n",
       "        vertical-align: top;\n",
       "    }\n",
       "\n",
       "    .dataframe thead th {\n",
       "        text-align: right;\n",
       "    }\n",
       "</style>\n",
       "<table border=\"1\" class=\"dataframe\">\n",
       "  <thead>\n",
       "    <tr style=\"text-align: right;\">\n",
       "      <th></th>\n",
       "      <th>LinearSVC</th>\n",
       "      <th>SGDClassifier</th>\n",
       "      <th>DecisionTreeClassifier</th>\n",
       "      <th>RandomForestClassifier</th>\n",
       "      <th>ExtraTreesClassifier</th>\n",
       "      <th>KNeighborsClassifier</th>\n",
       "    </tr>\n",
       "  </thead>\n",
       "  <tbody>\n",
       "    <tr>\n",
       "      <th>accuracy</th>\n",
       "      <td>0.383500</td>\n",
       "      <td>0.321850</td>\n",
       "      <td>0.289700</td>\n",
       "      <td>0.372700</td>\n",
       "      <td>0.352700</td>\n",
       "      <td>0.304850</td>\n",
       "    </tr>\n",
       "    <tr>\n",
       "      <th>balanced_accuracy</th>\n",
       "      <td>0.190938</td>\n",
       "      <td>0.186794</td>\n",
       "      <td>0.190490</td>\n",
       "      <td>0.198215</td>\n",
       "      <td>0.200896</td>\n",
       "      <td>0.141280</td>\n",
       "    </tr>\n",
       "    <tr>\n",
       "      <th>f1_weighted</th>\n",
       "      <td>0.319165</td>\n",
       "      <td>0.277342</td>\n",
       "      <td>0.289688</td>\n",
       "      <td>0.345109</td>\n",
       "      <td>0.329362</td>\n",
       "      <td>0.279545</td>\n",
       "    </tr>\n",
       "    <tr>\n",
       "      <th>precision_weighted</th>\n",
       "      <td>0.331155</td>\n",
       "      <td>0.296292</td>\n",
       "      <td>0.288596</td>\n",
       "      <td>0.337012</td>\n",
       "      <td>0.322040</td>\n",
       "      <td>0.280187</td>\n",
       "    </tr>\n",
       "    <tr>\n",
       "      <th>recall_weighted</th>\n",
       "      <td>0.383500</td>\n",
       "      <td>0.317450</td>\n",
       "      <td>0.292750</td>\n",
       "      <td>0.370250</td>\n",
       "      <td>0.350750</td>\n",
       "      <td>0.304850</td>\n",
       "    </tr>\n",
       "  </tbody>\n",
       "</table>\n",
       "</div>"
      ],
      "text/plain": [
       "                    LinearSVC  SGDClassifier  DecisionTreeClassifier  \\\n",
       "accuracy             0.383500       0.321850                0.289700   \n",
       "balanced_accuracy    0.190938       0.186794                0.190490   \n",
       "f1_weighted          0.319165       0.277342                0.289688   \n",
       "precision_weighted   0.331155       0.296292                0.288596   \n",
       "recall_weighted      0.383500       0.317450                0.292750   \n",
       "\n",
       "                    RandomForestClassifier  ExtraTreesClassifier  \\\n",
       "accuracy                          0.372700              0.352700   \n",
       "balanced_accuracy                 0.198215              0.200896   \n",
       "f1_weighted                       0.345109              0.329362   \n",
       "precision_weighted                0.337012              0.322040   \n",
       "recall_weighted                   0.370250              0.350750   \n",
       "\n",
       "                    KNeighborsClassifier  \n",
       "accuracy                        0.304850  \n",
       "balanced_accuracy               0.141280  \n",
       "f1_weighted                     0.279545  \n",
       "precision_weighted              0.280187  \n",
       "recall_weighted                 0.304850  "
      ]
     },
     "execution_count": 311,
     "metadata": {},
     "output_type": "execute_result"
    }
   ],
   "source": [
    "all_cross_val_metric_scores_df_mean # mean of cross val scores"
   ]
  },
  {
   "cell_type": "code",
   "execution_count": 312,
   "metadata": {
    "scrolled": true
   },
   "outputs": [
    {
     "data": {
      "text/html": [
       "<div>\n",
       "<style scoped>\n",
       "    .dataframe tbody tr th:only-of-type {\n",
       "        vertical-align: middle;\n",
       "    }\n",
       "\n",
       "    .dataframe tbody tr th {\n",
       "        vertical-align: top;\n",
       "    }\n",
       "\n",
       "    .dataframe thead th {\n",
       "        text-align: right;\n",
       "    }\n",
       "</style>\n",
       "<table border=\"1\" class=\"dataframe\">\n",
       "  <thead>\n",
       "    <tr style=\"text-align: right;\">\n",
       "      <th></th>\n",
       "      <th>LinearSVC</th>\n",
       "      <th>SGDClassifier</th>\n",
       "      <th>DecisionTreeClassifier</th>\n",
       "      <th>RandomForestClassifier</th>\n",
       "      <th>ExtraTreesClassifier</th>\n",
       "      <th>KNeighborsClassifier</th>\n",
       "    </tr>\n",
       "  </thead>\n",
       "  <tbody>\n",
       "    <tr>\n",
       "      <th>accuracy</th>\n",
       "      <td>0.007192</td>\n",
       "      <td>0.009109</td>\n",
       "      <td>0.012156</td>\n",
       "      <td>0.009583</td>\n",
       "      <td>0.006692</td>\n",
       "      <td>0.005447</td>\n",
       "    </tr>\n",
       "    <tr>\n",
       "      <th>balanced_accuracy</th>\n",
       "      <td>0.003930</td>\n",
       "      <td>0.008631</td>\n",
       "      <td>0.009426</td>\n",
       "      <td>0.003148</td>\n",
       "      <td>0.010320</td>\n",
       "      <td>0.003319</td>\n",
       "    </tr>\n",
       "    <tr>\n",
       "      <th>f1_weighted</th>\n",
       "      <td>0.005526</td>\n",
       "      <td>0.019107</td>\n",
       "      <td>0.010998</td>\n",
       "      <td>0.002963</td>\n",
       "      <td>0.003743</td>\n",
       "      <td>0.004545</td>\n",
       "    </tr>\n",
       "    <tr>\n",
       "      <th>precision_weighted</th>\n",
       "      <td>0.010442</td>\n",
       "      <td>0.010859</td>\n",
       "      <td>0.008936</td>\n",
       "      <td>0.008614</td>\n",
       "      <td>0.004344</td>\n",
       "      <td>0.004797</td>\n",
       "    </tr>\n",
       "    <tr>\n",
       "      <th>recall_weighted</th>\n",
       "      <td>0.007192</td>\n",
       "      <td>0.021190</td>\n",
       "      <td>0.011210</td>\n",
       "      <td>0.004599</td>\n",
       "      <td>0.005889</td>\n",
       "      <td>0.005447</td>\n",
       "    </tr>\n",
       "  </tbody>\n",
       "</table>\n",
       "</div>"
      ],
      "text/plain": [
       "                    LinearSVC  SGDClassifier  DecisionTreeClassifier  \\\n",
       "accuracy             0.007192       0.009109                0.012156   \n",
       "balanced_accuracy    0.003930       0.008631                0.009426   \n",
       "f1_weighted          0.005526       0.019107                0.010998   \n",
       "precision_weighted   0.010442       0.010859                0.008936   \n",
       "recall_weighted      0.007192       0.021190                0.011210   \n",
       "\n",
       "                    RandomForestClassifier  ExtraTreesClassifier  \\\n",
       "accuracy                          0.009583              0.006692   \n",
       "balanced_accuracy                 0.003148              0.010320   \n",
       "f1_weighted                       0.002963              0.003743   \n",
       "precision_weighted                0.008614              0.004344   \n",
       "recall_weighted                   0.004599              0.005889   \n",
       "\n",
       "                    KNeighborsClassifier  \n",
       "accuracy                        0.005447  \n",
       "balanced_accuracy               0.003319  \n",
       "f1_weighted                     0.004545  \n",
       "precision_weighted              0.004797  \n",
       "recall_weighted                 0.005447  "
      ]
     },
     "execution_count": 312,
     "metadata": {},
     "output_type": "execute_result"
    }
   ],
   "source": [
    "all_cross_val_metric_scores_df_std # std of cross val scores"
   ]
  },
  {
   "cell_type": "code",
   "execution_count": 313,
   "metadata": {},
   "outputs": [
    {
     "data": {
      "text/plain": [
       "{'DecisionTreeClassifier': 0.9999999980484481,\n",
       " 'RandomForestClassifier': 0.9999997260364325,\n",
       " 'ExtraTreesClassifier': 0.9999999980484481,\n",
       " 'KNeighborsClassifier': 0.9262439744529188}"
      ]
     },
     "execution_count": 313,
     "metadata": {},
     "output_type": "execute_result"
    }
   ],
   "source": [
    "# calculating the ROC AUC scores\n",
    "\n",
    "# note: the PRvT, PR, and ROC curves are all restricted to binary classification\n",
    "\n",
    "# note: can only be calculated for predict_proba supported models\n",
    "def calculate_roc_auc_scores(decisions_and_probas, y, predict_proba_supported_models, multi_class=\"ovr\"):\n",
    "    roc_auc_scores = {}\n",
    "    for key, values in decisions_and_probas.items():\n",
    "        if key in predict_proba_supported_models and key != \"SGDClassifier\":\n",
    "            score = roc_auc_score(y, values, multi_class=multi_class)\n",
    "            roc_auc_scores[key] = score\n",
    "    return roc_auc_scores\n",
    "\n",
    "roc_auc_scores = calculate_roc_auc_scores(decisions_and_probas, y_train_subset[:20000], predict_proba_supported_models)\n",
    "roc_auc_scores"
   ]
  },
  {
   "cell_type": "code",
   "execution_count": 314,
   "metadata": {},
   "outputs": [
    {
     "data": {
      "text/plain": [
       "{'DecisionTreeClassifier': 0.5574933226218722,\n",
       " 'RandomForestClassifier': 0.737201368581852,\n",
       " 'ExtraTreesClassifier': 0.7202995856452263,\n",
       " 'KNeighborsClassifier': 0.5872816159957392}"
      ]
     },
     "execution_count": 314,
     "metadata": {},
     "output_type": "execute_result"
    }
   ],
   "source": [
    "cross_val_roc_auc_scores = calculate_roc_auc_scores(cross_val_decisions_or_probas, y_train_subset[:20000], \n",
    "                                                    predict_proba_supported_models)\n",
    "cross_val_roc_auc_scores"
   ]
  },
  {
   "cell_type": "markdown",
   "metadata": {},
   "source": [
    "+ RandomForestClassifier and ExtraTreesClassifier are both the strongest competitors along with LinearSVC "
   ]
  },
  {
   "cell_type": "markdown",
   "metadata": {},
   "source": [
    "### Shortlist Models"
   ]
  },
  {
   "cell_type": "code",
   "execution_count": 315,
   "metadata": {
    "scrolled": true
   },
   "outputs": [
    {
     "data": {
      "text/plain": [
       "[Pipeline(steps=[('selector',\n",
       "                  DataFrameSelector(attribute_names=['Hospital_code',\n",
       "                                                     'Hospital_type_code',\n",
       "                                                     'City_Code_Hospital',\n",
       "                                                     'Hospital_region_code',\n",
       "                                                     'Available Extra Rooms in '\n",
       "                                                     'Hospital',\n",
       "                                                     'Department', 'Ward_Type',\n",
       "                                                     'Ward_Facility_Code',\n",
       "                                                     'Bed Grade',\n",
       "                                                     'City_Code_Patient',\n",
       "                                                     'Type of Admission',\n",
       "                                                     'Severity of Illness',\n",
       "                                                     'Visitors with Patient',\n",
       "                                                     'Age',\n",
       "                                                     'Admission_Deposit'])),\n",
       "                 ('col_...\n",
       "                                                                   ('one_hot_encoder',\n",
       "                                                                    OneHotEncoder(handle_unknown='ignore'))]),\n",
       "                                                   ['Hospital_code',\n",
       "                                                    'Hospital_type_code',\n",
       "                                                    'City_Code_Hospital',\n",
       "                                                    'Hospital_region_code',\n",
       "                                                    'Available Extra Rooms in '\n",
       "                                                    'Hospital',\n",
       "                                                    'Department', 'Ward_Type',\n",
       "                                                    'Ward_Facility_Code',\n",
       "                                                    'Bed Grade',\n",
       "                                                    'City_Code_Patient',\n",
       "                                                    'Type of Admission',\n",
       "                                                    'Severity of Illness',\n",
       "                                                    'Visitors with Patient',\n",
       "                                                    'Age'])])),\n",
       "                 ('LinearSVC', LinearSVC())]),\n",
       " Pipeline(steps=[('selector',\n",
       "                  DataFrameSelector(attribute_names=['Hospital_code',\n",
       "                                                     'Hospital_type_code',\n",
       "                                                     'City_Code_Hospital',\n",
       "                                                     'Hospital_region_code',\n",
       "                                                     'Available Extra Rooms in '\n",
       "                                                     'Hospital',\n",
       "                                                     'Department', 'Ward_Type',\n",
       "                                                     'Ward_Facility_Code',\n",
       "                                                     'Bed Grade',\n",
       "                                                     'City_Code_Patient',\n",
       "                                                     'Type of Admission',\n",
       "                                                     'Severity of Illness',\n",
       "                                                     'Visitors with Patient',\n",
       "                                                     'Age',\n",
       "                                                     'Admission_Deposit'])),\n",
       "                 ('col_...\n",
       "                                                                    OneHotEncoder(handle_unknown='ignore'))]),\n",
       "                                                   ['Hospital_code',\n",
       "                                                    'Hospital_type_code',\n",
       "                                                    'City_Code_Hospital',\n",
       "                                                    'Hospital_region_code',\n",
       "                                                    'Available Extra Rooms in '\n",
       "                                                    'Hospital',\n",
       "                                                    'Department', 'Ward_Type',\n",
       "                                                    'Ward_Facility_Code',\n",
       "                                                    'Bed Grade',\n",
       "                                                    'City_Code_Patient',\n",
       "                                                    'Type of Admission',\n",
       "                                                    'Severity of Illness',\n",
       "                                                    'Visitors with Patient',\n",
       "                                                    'Age'])])),\n",
       "                 ('RandomForestClassifier', RandomForestClassifier(n_jobs=-1))]),\n",
       " Pipeline(steps=[('selector',\n",
       "                  DataFrameSelector(attribute_names=['Hospital_code',\n",
       "                                                     'Hospital_type_code',\n",
       "                                                     'City_Code_Hospital',\n",
       "                                                     'Hospital_region_code',\n",
       "                                                     'Available Extra Rooms in '\n",
       "                                                     'Hospital',\n",
       "                                                     'Department', 'Ward_Type',\n",
       "                                                     'Ward_Facility_Code',\n",
       "                                                     'Bed Grade',\n",
       "                                                     'City_Code_Patient',\n",
       "                                                     'Type of Admission',\n",
       "                                                     'Severity of Illness',\n",
       "                                                     'Visitors with Patient',\n",
       "                                                     'Age',\n",
       "                                                     'Admission_Deposit'])),\n",
       "                 ('col_...\n",
       "                                                                    OneHotEncoder(handle_unknown='ignore'))]),\n",
       "                                                   ['Hospital_code',\n",
       "                                                    'Hospital_type_code',\n",
       "                                                    'City_Code_Hospital',\n",
       "                                                    'Hospital_region_code',\n",
       "                                                    'Available Extra Rooms in '\n",
       "                                                    'Hospital',\n",
       "                                                    'Department', 'Ward_Type',\n",
       "                                                    'Ward_Facility_Code',\n",
       "                                                    'Bed Grade',\n",
       "                                                    'City_Code_Patient',\n",
       "                                                    'Type of Admission',\n",
       "                                                    'Severity of Illness',\n",
       "                                                    'Visitors with Patient',\n",
       "                                                    'Age'])])),\n",
       "                 ('ExtraTreesClassifier', ExtraTreesClassifier(n_jobs=-1))])]"
      ]
     },
     "execution_count": 315,
     "metadata": {},
     "output_type": "execute_result"
    }
   ],
   "source": [
    "def shortlist_models(models, names, chosen_models):\n",
    "    shortlisted_models = []\n",
    "    for model in chosen_models:\n",
    "        idx = names.index(model)\n",
    "        shortlisted_models.append(models[idx])\n",
    "    return shortlisted_models\n",
    "\n",
    "chosen_models = ['LinearSVC', \"RandomForestClassifier\", \"ExtraTreesClassifier\"]\n",
    "shortlisted_models = shortlist_models(loaded_models, names, chosen_models)\n",
    "shortlisted_models"
   ]
  },
  {
   "cell_type": "markdown",
   "metadata": {},
   "source": [
    "## Error Analysis"
   ]
  },
  {
   "cell_type": "markdown",
   "metadata": {},
   "source": [
    "+ error analysis can be performed before shortlisting, however, it would be somewhat trivial to analyze errors for models that are already outclassed by others"
   ]
  },
  {
   "cell_type": "code",
   "execution_count": 316,
   "metadata": {},
   "outputs": [],
   "source": [
    "from sklearn.metrics import confusion_matrix\n",
    "\n",
    "# using cross val predict predictions\n",
    "def make_predictions(names, models, X, y, cv=5, n_jobs=-1):\n",
    "    predictions_dict = {}\n",
    "    for name, model in zip(names, models):\n",
    "        predictions = cross_val_predict(model, X, y, cv=cv, n_jobs=n_jobs, method=\"predict\")\n",
    "        predictions_dict[name] = predictions\n",
    "    return predictions_dict\n",
    "        \n",
    "predictions_dict = make_predictions(chosen_models, shortlisted_models, X_train_subset[:20000], y_train_subset[:20000])"
   ]
  },
  {
   "cell_type": "code",
   "execution_count": 317,
   "metadata": {},
   "outputs": [
    {
     "data": {
      "text/plain": [
       "{'LinearSVC': array(['21-30', '21-30', '11-20', ..., '21-30', '11-20', '21-30'],\n",
       "       dtype=object),\n",
       " 'RandomForestClassifier': array(['21-30', '21-30', '21-30', ..., '31-40', '21-30', '21-30'],\n",
       "       dtype=object),\n",
       " 'ExtraTreesClassifier': array(['21-30', '21-30', '21-30', ..., '31-40', '41-50', '11-20'],\n",
       "       dtype=object)}"
      ]
     },
     "execution_count": 317,
     "metadata": {},
     "output_type": "execute_result"
    }
   ],
   "source": [
    "predictions_dict"
   ]
  },
  {
   "cell_type": "code",
   "execution_count": 318,
   "metadata": {},
   "outputs": [
    {
     "data": {
      "text/plain": [
       "array(['0-10', '41-50', '31-40', '11-20', '51-60', '21-30', '71-80',\n",
       "       'More than 100 Days', '81-90', '61-70', '91-100'], dtype=object)"
      ]
     },
     "execution_count": 318,
     "metadata": {},
     "output_type": "execute_result"
    }
   ],
   "source": [
    "labels = train_data[\"Stay\"].unique()\n",
    "labels"
   ]
  },
  {
   "cell_type": "code",
   "execution_count": 319,
   "metadata": {},
   "outputs": [],
   "source": [
    "# compute confusion matrices\n",
    "def compute_conf_mx(y_true, y_pred_dict, labels):\n",
    "    conf_mx_dict = {}\n",
    "    for name, prediction in y_pred_dict.items():\n",
    "        conf_mx = confusion_matrix(y_true, prediction, labels=labels)\n",
    "        conf_mx_dict[name] = conf_mx\n",
    "    return conf_mx_dict\n",
    "\n",
    "conf_mx_dict = compute_conf_mx(y_train_subset[:20000], predictions_dict, labels)"
   ]
  },
  {
   "cell_type": "code",
   "execution_count": 320,
   "metadata": {},
   "outputs": [],
   "source": [
    "# plot confusion matrices\n",
    "def plot_conf_mx(conf_mx_dict, key, cmap=plt.cm.Spectral, normalize=True):\n",
    "    conf_mx = conf_mx_dict[key]\n",
    "    row_sums = conf_mx.sum(axis=1, keepdims=True)\n",
    "    normalized_conf_mx = conf_mx / row_sums\n",
    "    np.fill_diagonal(normalized_conf_mx, 0)\n",
    "    plt.matshow(normalized_conf_mx, cmap=cmap)\n",
    "    plt.xlabel(\"Predicted\")\n",
    "    plt.ylabel(\"Reality\")\n",
    "    plt.colorbar()\n",
    "    plt.grid(False)\n",
    "    plt.show()"
   ]
  },
  {
   "cell_type": "code",
   "execution_count": 321,
   "metadata": {},
   "outputs": [
    {
     "data": {
      "image/png": "[encoded data removed]",
      "text/plain": [
       "<Figure size 288x288 with 2 Axes>"
      ]
     },
     "metadata": {
      "needs_background": "light"
     },
     "output_type": "display_data"
    }
   ],
   "source": [
    "plot_conf_mx(conf_mx_dict, \"LinearSVC\")"
   ]
  },
  {
   "cell_type": "code",
   "execution_count": 322,
   "metadata": {},
   "outputs": [
    {
     "data": {
      "image/png": "[encoded data removed]",
      "text/plain": [
       "<Figure size 288x288 with 2 Axes>"
      ]
     },
     "metadata": {
      "needs_background": "light"
     },
     "output_type": "display_data"
    }
   ],
   "source": [
    "plot_conf_mx(conf_mx_dict, \"RandomForestClassifier\")"
   ]
  },
  {
   "cell_type": "code",
   "execution_count": 323,
   "metadata": {},
   "outputs": [
    {
     "data": {
      "image/png": "[encoded data removed]",
      "text/plain": [
       "<Figure size 288x288 with 2 Axes>"
      ]
     },
     "metadata": {
      "needs_background": "light"
     },
     "output_type": "display_data"
    }
   ],
   "source": [
    "plot_conf_mx(conf_mx_dict, \"ExtraTreesClassifier\")"
   ]
  },
  {
   "cell_type": "code",
   "execution_count": 324,
   "metadata": {},
   "outputs": [
    {
     "data": {
      "text/plain": [
       "{0: '0-10',\n",
       " 1: '41-50',\n",
       " 2: '31-40',\n",
       " 3: '11-20',\n",
       " 4: '51-60',\n",
       " 5: '21-30',\n",
       " 6: '71-80',\n",
       " 7: 'More than 100 Days',\n",
       " 8: '81-90',\n",
       " 9: '61-70',\n",
       " 10: '91-100'}"
      ]
     },
     "execution_count": 324,
     "metadata": {},
     "output_type": "execute_result"
    }
   ],
   "source": [
    "# converted to dictionary just for convenient viewing\n",
    "labels_dict = {idx: label for idx, label in enumerate(labels)}\n",
    "labels_dict"
   ]
  },
  {
   "cell_type": "code",
   "execution_count": 325,
   "metadata": {},
   "outputs": [
    {
     "data": {
      "text/plain": [
       "21-30                 87491\n",
       "11-20                 78139\n",
       "31-40                 55159\n",
       "51-60                 35018\n",
       "0-10                  23604\n",
       "41-50                 11743\n",
       "71-80                 10254\n",
       "More than 100 Days     6683\n",
       "81-90                  4838\n",
       "91-100                 2765\n",
       "61-70                  2744\n",
       "Name: Stay, dtype: int64"
      ]
     },
     "execution_count": 325,
     "metadata": {},
     "output_type": "execute_result"
    }
   ],
   "source": [
    "# looking at the distribution\n",
    "train_data[\"Stay\"].value_counts()"
   ]
  },
  {
   "cell_type": "markdown",
   "metadata": {},
   "source": [
    "+ Ways we can improve:\n",
    "    + try different stratification methods to give more weights to diff features (i.e. Age, etc)\n",
    "    + train on more data\n",
    "    + data augmentations (keep this at a limit)\n",
    "    + Dimensionality Reduction (DR)\n",
    "    + Denoise the dataset (remove irrelevant features, and be more critical on removing certain features)"
   ]
  },
  {
   "cell_type": "markdown",
   "metadata": {},
   "source": [
    "## Fine Tuning"
   ]
  },
  {
   "cell_type": "code",
   "execution_count": 326,
   "metadata": {},
   "outputs": [],
   "source": [
    "from sklearn.model_selection import GridSearchCV, RandomizedSearchCV"
   ]
  },
  {
   "cell_type": "code",
   "execution_count": 327,
   "metadata": {
    "scrolled": true
   },
   "outputs": [
    {
     "data": {
      "text/plain": [
       "[Pipeline(steps=[('selector',\n",
       "                  DataFrameSelector(attribute_names=['Hospital_code',\n",
       "                                                     'Hospital_type_code',\n",
       "                                                     'City_Code_Hospital',\n",
       "                                                     'Hospital_region_code',\n",
       "                                                     'Available Extra Rooms in '\n",
       "                                                     'Hospital',\n",
       "                                                     'Department', 'Ward_Type',\n",
       "                                                     'Ward_Facility_Code',\n",
       "                                                     'Bed Grade',\n",
       "                                                     'City_Code_Patient',\n",
       "                                                     'Type of Admission',\n",
       "                                                     'Severity of Illness',\n",
       "                                                     'Visitors with Patient',\n",
       "                                                     'Age',\n",
       "                                                     'Admission_Deposit'])),\n",
       "                 ('col_...\n",
       "                                                                   ('one_hot_encoder',\n",
       "                                                                    OneHotEncoder(handle_unknown='ignore'))]),\n",
       "                                                   ['Hospital_code',\n",
       "                                                    'Hospital_type_code',\n",
       "                                                    'City_Code_Hospital',\n",
       "                                                    'Hospital_region_code',\n",
       "                                                    'Available Extra Rooms in '\n",
       "                                                    'Hospital',\n",
       "                                                    'Department', 'Ward_Type',\n",
       "                                                    'Ward_Facility_Code',\n",
       "                                                    'Bed Grade',\n",
       "                                                    'City_Code_Patient',\n",
       "                                                    'Type of Admission',\n",
       "                                                    'Severity of Illness',\n",
       "                                                    'Visitors with Patient',\n",
       "                                                    'Age'])])),\n",
       "                 ('LinearSVC', LinearSVC())]),\n",
       " Pipeline(steps=[('selector',\n",
       "                  DataFrameSelector(attribute_names=['Hospital_code',\n",
       "                                                     'Hospital_type_code',\n",
       "                                                     'City_Code_Hospital',\n",
       "                                                     'Hospital_region_code',\n",
       "                                                     'Available Extra Rooms in '\n",
       "                                                     'Hospital',\n",
       "                                                     'Department', 'Ward_Type',\n",
       "                                                     'Ward_Facility_Code',\n",
       "                                                     'Bed Grade',\n",
       "                                                     'City_Code_Patient',\n",
       "                                                     'Type of Admission',\n",
       "                                                     'Severity of Illness',\n",
       "                                                     'Visitors with Patient',\n",
       "                                                     'Age',\n",
       "                                                     'Admission_Deposit'])),\n",
       "                 ('col_...\n",
       "                                                                    OneHotEncoder(handle_unknown='ignore'))]),\n",
       "                                                   ['Hospital_code',\n",
       "                                                    'Hospital_type_code',\n",
       "                                                    'City_Code_Hospital',\n",
       "                                                    'Hospital_region_code',\n",
       "                                                    'Available Extra Rooms in '\n",
       "                                                    'Hospital',\n",
       "                                                    'Department', 'Ward_Type',\n",
       "                                                    'Ward_Facility_Code',\n",
       "                                                    'Bed Grade',\n",
       "                                                    'City_Code_Patient',\n",
       "                                                    'Type of Admission',\n",
       "                                                    'Severity of Illness',\n",
       "                                                    'Visitors with Patient',\n",
       "                                                    'Age'])])),\n",
       "                 ('RandomForestClassifier', RandomForestClassifier(n_jobs=-1))]),\n",
       " Pipeline(steps=[('selector',\n",
       "                  DataFrameSelector(attribute_names=['Hospital_code',\n",
       "                                                     'Hospital_type_code',\n",
       "                                                     'City_Code_Hospital',\n",
       "                                                     'Hospital_region_code',\n",
       "                                                     'Available Extra Rooms in '\n",
       "                                                     'Hospital',\n",
       "                                                     'Department', 'Ward_Type',\n",
       "                                                     'Ward_Facility_Code',\n",
       "                                                     'Bed Grade',\n",
       "                                                     'City_Code_Patient',\n",
       "                                                     'Type of Admission',\n",
       "                                                     'Severity of Illness',\n",
       "                                                     'Visitors with Patient',\n",
       "                                                     'Age',\n",
       "                                                     'Admission_Deposit'])),\n",
       "                 ('col_...\n",
       "                                                                    OneHotEncoder(handle_unknown='ignore'))]),\n",
       "                                                   ['Hospital_code',\n",
       "                                                    'Hospital_type_code',\n",
       "                                                    'City_Code_Hospital',\n",
       "                                                    'Hospital_region_code',\n",
       "                                                    'Available Extra Rooms in '\n",
       "                                                    'Hospital',\n",
       "                                                    'Department', 'Ward_Type',\n",
       "                                                    'Ward_Facility_Code',\n",
       "                                                    'Bed Grade',\n",
       "                                                    'City_Code_Patient',\n",
       "                                                    'Type of Admission',\n",
       "                                                    'Severity of Illness',\n",
       "                                                    'Visitors with Patient',\n",
       "                                                    'Age'])])),\n",
       "                 ('ExtraTreesClassifier', ExtraTreesClassifier(n_jobs=-1))])]"
      ]
     },
     "execution_count": 327,
     "metadata": {},
     "output_type": "execute_result"
    }
   ],
   "source": [
    "# we will fine tune each individual pipeline separately\n",
    "shortlisted_models"
   ]
  },
  {
   "cell_type": "code",
   "execution_count": 328,
   "metadata": {},
   "outputs": [],
   "source": [
    "# to save fine-tuning results\n",
    "def save_finetuning(finetuning_cv, cv_type, name_of_model, root_dir=\"D:/models/Final Projects/Classification Task/\", \n",
    "                    already_finetuned=True):\n",
    "    if not already_finetuned:\n",
    "        finetuning_dict = {}\n",
    "        finetuning_dict[\"cv_results_\"] = finetuning_cv.cv_results_\n",
    "        finetuning_dict[\"best_estimator_\"] = finetuning_cv.best_estimator_\n",
    "        finetuning_dict[\"best_score_\"] = finetuning_cv.best_score_\n",
    "        finetuning_dict[\"best_params_\"] = finetuning_cv.best_params_\n",
    "        pkl_filename = root_dir + \"finetune_results_\" + cv_type + \"_\" + name_of_model + \".pkl\"\n",
    "        with gzip.open(pkl_filename + \".gz\", \"wb\") as file:\n",
    "            joblib.dump(finetuning_dict, file)"
   ]
  },
  {
   "cell_type": "code",
   "execution_count": 329,
   "metadata": {},
   "outputs": [],
   "source": [
    "# to load fine-tuning results\n",
    "def load_finetuning(cv_type, name_of_model, root_dir=\"D:/models/Final Projects/Classification Task/\"):\n",
    "    pkl_filename = root_dir + \"finetune_results_\" + cv_type + \"_\" + name_of_model + \".pkl\"\n",
    "    with gzip.open(pkl_filename + \".gz\", \"rb\") as file:\n",
    "        cv_results = joblib.load(file)\n",
    "    return cv_results"
   ]
  },
  {
   "cell_type": "code",
   "execution_count": 330,
   "metadata": {},
   "outputs": [],
   "source": [
    "# only 1 round of fine-tuning to narrow down our best model(s)\n",
    "\n",
    "# fine-tuning the LinearSVC\n",
    "linearsvc_param_grid = {\"LinearSVC__tol\": [1e-6, 1e-5, 1e-4, 1e-3, 1e-2],\n",
    "              \"LinearSVC__C\": [0.1, 0.5, 1.0, 10],\n",
    "              \"LinearSVC__class_weight\": [None, \"balanced\"]}\n",
    "\n",
    "# for speed\n",
    "shortlisted_models[0].named_steps[\"LinearSVC\"].dual = False\n",
    "\n",
    "# we will use accuracy for all fine-tuning and a cv=5\n",
    "linearsvc_grid_cv = GridSearchCV(shortlisted_models[0], linearsvc_param_grid, scoring=\"accuracy\", cv=5, \n",
    "                                 verbose=2, n_jobs=-1)\n",
    "linearsvc_rnd_cv = RandomizedSearchCV(shortlisted_models[0], linearsvc_param_grid, scoring=\"accuracy\", cv=5, \n",
    "                                      verbose=2, n_jobs=-1)"
   ]
  },
  {
   "cell_type": "code",
   "execution_count": 331,
   "metadata": {},
   "outputs": [],
   "source": [
    "# our light switch\n",
    "already_finetuned = True"
   ]
  },
  {
   "cell_type": "code",
   "execution_count": 332,
   "metadata": {
    "scrolled": true
   },
   "outputs": [],
   "source": [
    "if not already_finetuned:\n",
    "    linearsvc_grid_cv.fit(X_train_subset, y_train_subset)"
   ]
  },
  {
   "cell_type": "code",
   "execution_count": 333,
   "metadata": {},
   "outputs": [],
   "source": [
    "# save the results of finetuning for our LinearSVC model\n",
    "save_finetuning(linearsvc_grid_cv, \"grid\", \"LinearSVC\", already_finetuned=already_finetuned)"
   ]
  },
  {
   "cell_type": "code",
   "execution_count": 334,
   "metadata": {},
   "outputs": [
    {
     "data": {
      "text/plain": [
       "{'cv_results_': {'mean_fit_time': array([ 40.88827562,  33.94135556,  26.48493834,  17.53175902,\n",
       "           9.02059326,  43.34027181,  34.21760669,  25.56885505,\n",
       "          18.19408565,  10.97703586,  60.24782953,  47.52997012,\n",
       "          35.36339159,  24.87391739,  10.94214659,  67.54761748,\n",
       "          52.08742204,  38.32767153,  23.01990981,  11.51291537,\n",
       "          64.83933125,  50.36001682,  35.87433119,  23.31675439,\n",
       "           9.39661427,  71.49429169,  55.08000369,  40.49923768,\n",
       "          26.12549443,  12.87743216, 136.47952294,  94.59496818,\n",
       "          53.575776  ,  29.26733866,  10.09244814, 146.67005973,\n",
       "         107.82929606,  67.82892623,  29.40747266,  12.67825513]),\n",
       "  'std_fit_time': array([ 0.92587124,  0.94159686,  0.51385146,  0.83964222,  0.26318765,\n",
       "          0.5981877 ,  0.74447319,  0.73715017,  0.49376509,  0.65660862,\n",
       "          1.16950518,  2.115914  ,  1.93475775,  0.66468555,  0.44887617,\n",
       "          3.61014435,  3.11219267,  2.33673027,  2.0648216 ,  0.52865968,\n",
       "          2.6571741 ,  2.04685689,  0.76119245,  0.77302498,  0.53504437,\n",
       "          2.03130844,  1.90000822,  1.69318848,  1.12683677,  0.42521389,\n",
       "          9.8759874 ,  6.96514019,  4.95432533,  2.30673915,  0.66818655,\n",
       "         10.19794564,  2.96896543,  2.50157392,  1.25526046,  0.19703689]),\n",
       "  'mean_score_time': array([0.13202796, 0.108851  , 0.11222935, 0.11213708, 0.1254108 ,\n",
       "         0.11684408, 0.11798072, 0.10482993, 0.11859841, 0.12932062,\n",
       "         0.10944929, 0.10773807, 0.11582198, 0.11262765, 0.11420155,\n",
       "         0.11704636, 0.10142183, 0.10193858, 0.10474448, 0.09913397,\n",
       "         0.10044169, 0.10477257, 0.09788094, 0.10412126, 0.10584407,\n",
       "         0.14647517, 0.10248866, 0.12653875, 0.11349297, 0.09234776,\n",
       "         0.12681074, 0.1146976 , 0.1132267 , 0.12573757, 0.09929509,\n",
       "         0.10871081, 0.11511478, 0.10091667, 0.09012604, 0.09491596]),\n",
       "  'std_score_time': array([0.03324447, 0.0130712 , 0.00858623, 0.01327462, 0.03455813,\n",
       "         0.01584285, 0.02094067, 0.01083963, 0.02354963, 0.01318793,\n",
       "         0.00671425, 0.00853406, 0.01173274, 0.01440115, 0.00325077,\n",
       "         0.01903517, 0.01503024, 0.00789621, 0.01128652, 0.00637295,\n",
       "         0.00543911, 0.0101622 , 0.00969835, 0.01362936, 0.01210533,\n",
       "         0.0433582 , 0.00844003, 0.03460432, 0.01633326, 0.00323983,\n",
       "         0.01922846, 0.00731043, 0.01397663, 0.02495243, 0.00459072,\n",
       "         0.02029421, 0.01753364, 0.00288957, 0.02676326, 0.00470393]),\n",
       "  'param_LinearSVC__C': masked_array(data=[0.1, 0.1, 0.1, 0.1, 0.1, 0.1, 0.1, 0.1, 0.1, 0.1, 0.5,\n",
       "                     0.5, 0.5, 0.5, 0.5, 0.5, 0.5, 0.5, 0.5, 0.5, 1.0, 1.0,\n",
       "                     1.0, 1.0, 1.0, 1.0, 1.0, 1.0, 1.0, 1.0, 10, 10, 10, 10,\n",
       "                     10, 10, 10, 10, 10, 10],\n",
       "               mask=[False, False, False, False, False, False, False, False,\n",
       "                     False, False, False, False, False, False, False, False,\n",
       "                     False, False, False, False, False, False, False, False,\n",
       "                     False, False, False, False, False, False, False, False,\n",
       "                     False, False, False, False, False, False, False, False],\n",
       "         fill_value='?',\n",
       "              dtype=object),\n",
       "  'param_LinearSVC__class_weight': masked_array(data=[None, None, None, None, None, 'balanced', 'balanced',\n",
       "                     'balanced', 'balanced', 'balanced', None, None, None,\n",
       "                     None, None, 'balanced', 'balanced', 'balanced',\n",
       "                     'balanced', 'balanced', None, None, None, None, None,\n",
       "                     'balanced', 'balanced', 'balanced', 'balanced',\n",
       "                     'balanced', None, None, None, None, None, 'balanced',\n",
       "                     'balanced', 'balanced', 'balanced', 'balanced'],\n",
       "               mask=[False, False, False, False, False, False, False, False,\n",
       "                     False, False, False, False, False, False, False, False,\n",
       "                     False, False, False, False, False, False, False, False,\n",
       "                     False, False, False, False, False, False, False, False,\n",
       "                     False, False, False, False, False, False, False, False],\n",
       "         fill_value='?',\n",
       "              dtype=object),\n",
       "  'param_LinearSVC__tol': masked_array(data=[1e-06, 1e-05, 0.0001, 0.001, 0.01, 1e-06, 1e-05,\n",
       "                     0.0001, 0.001, 0.01, 1e-06, 1e-05, 0.0001, 0.001, 0.01,\n",
       "                     1e-06, 1e-05, 0.0001, 0.001, 0.01, 1e-06, 1e-05,\n",
       "                     0.0001, 0.001, 0.01, 1e-06, 1e-05, 0.0001, 0.001, 0.01,\n",
       "                     1e-06, 1e-05, 0.0001, 0.001, 0.01, 1e-06, 1e-05,\n",
       "                     0.0001, 0.001, 0.01],\n",
       "               mask=[False, False, False, False, False, False, False, False,\n",
       "                     False, False, False, False, False, False, False, False,\n",
       "                     False, False, False, False, False, False, False, False,\n",
       "                     False, False, False, False, False, False, False, False,\n",
       "                     False, False, False, False, False, False, False, False],\n",
       "         fill_value='?',\n",
       "              dtype=object),\n",
       "  'params': [{'LinearSVC__C': 0.1,\n",
       "    'LinearSVC__class_weight': None,\n",
       "    'LinearSVC__tol': 1e-06},\n",
       "   {'LinearSVC__C': 0.1,\n",
       "    'LinearSVC__class_weight': None,\n",
       "    'LinearSVC__tol': 1e-05},\n",
       "   {'LinearSVC__C': 0.1,\n",
       "    'LinearSVC__class_weight': None,\n",
       "    'LinearSVC__tol': 0.0001},\n",
       "   {'LinearSVC__C': 0.1,\n",
       "    'LinearSVC__class_weight': None,\n",
       "    'LinearSVC__tol': 0.001},\n",
       "   {'LinearSVC__C': 0.1,\n",
       "    'LinearSVC__class_weight': None,\n",
       "    'LinearSVC__tol': 0.01},\n",
       "   {'LinearSVC__C': 0.1,\n",
       "    'LinearSVC__class_weight': 'balanced',\n",
       "    'LinearSVC__tol': 1e-06},\n",
       "   {'LinearSVC__C': 0.1,\n",
       "    'LinearSVC__class_weight': 'balanced',\n",
       "    'LinearSVC__tol': 1e-05},\n",
       "   {'LinearSVC__C': 0.1,\n",
       "    'LinearSVC__class_weight': 'balanced',\n",
       "    'LinearSVC__tol': 0.0001},\n",
       "   {'LinearSVC__C': 0.1,\n",
       "    'LinearSVC__class_weight': 'balanced',\n",
       "    'LinearSVC__tol': 0.001},\n",
       "   {'LinearSVC__C': 0.1,\n",
       "    'LinearSVC__class_weight': 'balanced',\n",
       "    'LinearSVC__tol': 0.01},\n",
       "   {'LinearSVC__C': 0.5,\n",
       "    'LinearSVC__class_weight': None,\n",
       "    'LinearSVC__tol': 1e-06},\n",
       "   {'LinearSVC__C': 0.5,\n",
       "    'LinearSVC__class_weight': None,\n",
       "    'LinearSVC__tol': 1e-05},\n",
       "   {'LinearSVC__C': 0.5,\n",
       "    'LinearSVC__class_weight': None,\n",
       "    'LinearSVC__tol': 0.0001},\n",
       "   {'LinearSVC__C': 0.5,\n",
       "    'LinearSVC__class_weight': None,\n",
       "    'LinearSVC__tol': 0.001},\n",
       "   {'LinearSVC__C': 0.5,\n",
       "    'LinearSVC__class_weight': None,\n",
       "    'LinearSVC__tol': 0.01},\n",
       "   {'LinearSVC__C': 0.5,\n",
       "    'LinearSVC__class_weight': 'balanced',\n",
       "    'LinearSVC__tol': 1e-06},\n",
       "   {'LinearSVC__C': 0.5,\n",
       "    'LinearSVC__class_weight': 'balanced',\n",
       "    'LinearSVC__tol': 1e-05},\n",
       "   {'LinearSVC__C': 0.5,\n",
       "    'LinearSVC__class_weight': 'balanced',\n",
       "    'LinearSVC__tol': 0.0001},\n",
       "   {'LinearSVC__C': 0.5,\n",
       "    'LinearSVC__class_weight': 'balanced',\n",
       "    'LinearSVC__tol': 0.001},\n",
       "   {'LinearSVC__C': 0.5,\n",
       "    'LinearSVC__class_weight': 'balanced',\n",
       "    'LinearSVC__tol': 0.01},\n",
       "   {'LinearSVC__C': 1.0,\n",
       "    'LinearSVC__class_weight': None,\n",
       "    'LinearSVC__tol': 1e-06},\n",
       "   {'LinearSVC__C': 1.0,\n",
       "    'LinearSVC__class_weight': None,\n",
       "    'LinearSVC__tol': 1e-05},\n",
       "   {'LinearSVC__C': 1.0,\n",
       "    'LinearSVC__class_weight': None,\n",
       "    'LinearSVC__tol': 0.0001},\n",
       "   {'LinearSVC__C': 1.0,\n",
       "    'LinearSVC__class_weight': None,\n",
       "    'LinearSVC__tol': 0.001},\n",
       "   {'LinearSVC__C': 1.0,\n",
       "    'LinearSVC__class_weight': None,\n",
       "    'LinearSVC__tol': 0.01},\n",
       "   {'LinearSVC__C': 1.0,\n",
       "    'LinearSVC__class_weight': 'balanced',\n",
       "    'LinearSVC__tol': 1e-06},\n",
       "   {'LinearSVC__C': 1.0,\n",
       "    'LinearSVC__class_weight': 'balanced',\n",
       "    'LinearSVC__tol': 1e-05},\n",
       "   {'LinearSVC__C': 1.0,\n",
       "    'LinearSVC__class_weight': 'balanced',\n",
       "    'LinearSVC__tol': 0.0001},\n",
       "   {'LinearSVC__C': 1.0,\n",
       "    'LinearSVC__class_weight': 'balanced',\n",
       "    'LinearSVC__tol': 0.001},\n",
       "   {'LinearSVC__C': 1.0,\n",
       "    'LinearSVC__class_weight': 'balanced',\n",
       "    'LinearSVC__tol': 0.01},\n",
       "   {'LinearSVC__C': 10,\n",
       "    'LinearSVC__class_weight': None,\n",
       "    'LinearSVC__tol': 1e-06},\n",
       "   {'LinearSVC__C': 10,\n",
       "    'LinearSVC__class_weight': None,\n",
       "    'LinearSVC__tol': 1e-05},\n",
       "   {'LinearSVC__C': 10,\n",
       "    'LinearSVC__class_weight': None,\n",
       "    'LinearSVC__tol': 0.0001},\n",
       "   {'LinearSVC__C': 10,\n",
       "    'LinearSVC__class_weight': None,\n",
       "    'LinearSVC__tol': 0.001},\n",
       "   {'LinearSVC__C': 10,\n",
       "    'LinearSVC__class_weight': None,\n",
       "    'LinearSVC__tol': 0.01},\n",
       "   {'LinearSVC__C': 10,\n",
       "    'LinearSVC__class_weight': 'balanced',\n",
       "    'LinearSVC__tol': 1e-06},\n",
       "   {'LinearSVC__C': 10,\n",
       "    'LinearSVC__class_weight': 'balanced',\n",
       "    'LinearSVC__tol': 1e-05},\n",
       "   {'LinearSVC__C': 10,\n",
       "    'LinearSVC__class_weight': 'balanced',\n",
       "    'LinearSVC__tol': 0.0001},\n",
       "   {'LinearSVC__C': 10,\n",
       "    'LinearSVC__class_weight': 'balanced',\n",
       "    'LinearSVC__tol': 0.001},\n",
       "   {'LinearSVC__C': 10,\n",
       "    'LinearSVC__class_weight': 'balanced',\n",
       "    'LinearSVC__tol': 0.01}],\n",
       "  'split0_test_score': array([0.3924, 0.3924, 0.3924, 0.3923, 0.3933, 0.3239, 0.3239, 0.324 ,\n",
       "         0.3237, 0.3233, 0.3928, 0.3928, 0.3928, 0.3928, 0.3922, 0.323 ,\n",
       "         0.323 , 0.3231, 0.3235, 0.3228, 0.393 , 0.393 , 0.393 , 0.3929,\n",
       "         0.3916, 0.3229, 0.3229, 0.323 , 0.3235, 0.3229, 0.3932, 0.3932,\n",
       "         0.3932, 0.393 , 0.3923, 0.3234, 0.3234, 0.3235, 0.3237, 0.3227]),\n",
       "  'split1_test_score': array([0.385 , 0.385 , 0.3851, 0.3851, 0.3859, 0.3185, 0.3185, 0.3185,\n",
       "         0.3188, 0.3191, 0.3857, 0.3857, 0.3857, 0.3853, 0.3841, 0.3174,\n",
       "         0.3174, 0.3174, 0.318 , 0.3183, 0.3858, 0.3857, 0.3856, 0.3855,\n",
       "         0.3842, 0.3173, 0.3173, 0.3174, 0.3178, 0.3179, 0.3858, 0.3858,\n",
       "         0.3858, 0.3853, 0.3851, 0.3173, 0.3173, 0.3173, 0.3167, 0.3177]),\n",
       "  'split2_test_score': array([0.3887, 0.3887, 0.3887, 0.389 , 0.3895, 0.3166, 0.3165, 0.317 ,\n",
       "         0.3173, 0.316 , 0.3884, 0.3884, 0.3884, 0.3886, 0.3887, 0.3167,\n",
       "         0.3167, 0.3168, 0.3167, 0.316 , 0.3884, 0.3884, 0.3885, 0.3883,\n",
       "         0.3886, 0.3166, 0.3166, 0.3165, 0.3169, 0.3151, 0.3883, 0.3883,\n",
       "         0.3883, 0.3883, 0.3882, 0.3164, 0.3164, 0.3166, 0.3163, 0.3156]),\n",
       "  'split3_test_score': array([0.3912, 0.3912, 0.3913, 0.3913, 0.3911, 0.3162, 0.3162, 0.3164,\n",
       "         0.3159, 0.3157, 0.3912, 0.3913, 0.3913, 0.3913, 0.3911, 0.3155,\n",
       "         0.3155, 0.3155, 0.3154, 0.3151, 0.3912, 0.3912, 0.3912, 0.391 ,\n",
       "         0.3914, 0.3156, 0.3156, 0.3156, 0.316 , 0.3149, 0.3913, 0.3913,\n",
       "         0.3913, 0.3911, 0.3914, 0.3152, 0.3152, 0.3152, 0.3153, 0.314 ]),\n",
       "  'split4_test_score': array([0.3928, 0.3928, 0.3929, 0.3927, 0.3921, 0.3297, 0.3297, 0.3297,\n",
       "         0.33  , 0.3288, 0.3929, 0.393 , 0.3929, 0.3929, 0.3919, 0.3289,\n",
       "         0.3289, 0.3289, 0.3294, 0.3281, 0.393 , 0.393 , 0.393 , 0.3931,\n",
       "         0.3922, 0.3288, 0.3288, 0.3288, 0.3288, 0.3281, 0.3928, 0.3928,\n",
       "         0.393 , 0.3932, 0.3928, 0.3288, 0.3289, 0.3289, 0.3282, 0.3283]),\n",
       "  'mean_test_score': array([0.39002, 0.39002, 0.39008, 0.39008, 0.39038, 0.32098, 0.32096,\n",
       "         0.32112, 0.32114, 0.32058, 0.3902 , 0.39024, 0.39022, 0.39018,\n",
       "         0.3896 , 0.3203 , 0.3203 , 0.32034, 0.3206 , 0.32006, 0.39028,\n",
       "         0.39026, 0.39026, 0.39016, 0.3896 , 0.32024, 0.32024, 0.32026,\n",
       "         0.3206 , 0.31978, 0.39028, 0.39028, 0.39032, 0.39018, 0.38996,\n",
       "         0.32022, 0.32024, 0.3203 , 0.32004, 0.31966]),\n",
       "  'std_test_score': array([0.00288888, 0.00288888, 0.00288194, 0.00280171, 0.00256312,\n",
       "         0.00515263, 0.00516976, 0.0050602 , 0.00515232, 0.00493858,\n",
       "         0.00277633, 0.00280328, 0.00278381, 0.00289233, 0.00301198,\n",
       "         0.00501318, 0.00501318, 0.00500983, 0.00519346, 0.00482353,\n",
       "         0.00280171, 0.0028338 , 0.00285349, 0.00289938, 0.00297187,\n",
       "         0.00497538, 0.00497538, 0.00498943, 0.00486498, 0.00506375,\n",
       "         0.00282517, 0.00282517, 0.00286175, 0.00300892, 0.00290971,\n",
       "         0.00513903, 0.00517247, 0.00515558, 0.00505157, 0.00522019]),\n",
       "  'rank_test_score': array([16, 16, 14, 15,  1, 23, 24, 22, 21, 27, 10,  8,  9, 11, 19, 29, 29,\n",
       "         28, 25, 37,  3,  6,  6, 13, 19, 33, 33, 32, 26, 39,  3,  3,  2, 12,\n",
       "         18, 36, 35, 31, 38, 40])},\n",
       " 'best_estimator_': Pipeline(steps=[('selector',\n",
       "                  DataFrameSelector(attribute_names=['Hospital_code',\n",
       "                                                     'Hospital_type_code',\n",
       "                                                     'City_Code_Hospital',\n",
       "                                                     'Hospital_region_code',\n",
       "                                                     'Available Extra Rooms in '\n",
       "                                                     'Hospital',\n",
       "                                                     'Department', 'Ward_Type',\n",
       "                                                     'Ward_Facility_Code',\n",
       "                                                     'Bed Grade',\n",
       "                                                     'City_Code_Patient',\n",
       "                                                     'Type of Admission',\n",
       "                                                     'Severity of Illness',\n",
       "                                                     'Visitors with Patient',\n",
       "                                                     'Age',\n",
       "                                                     'Admission_Deposit'])),\n",
       "                 ('col_...\n",
       "                                                                    OneHotEncoder(handle_unknown='ignore'))]),\n",
       "                                                   ['Hospital_code',\n",
       "                                                    'Hospital_type_code',\n",
       "                                                    'City_Code_Hospital',\n",
       "                                                    'Hospital_region_code',\n",
       "                                                    'Available Extra Rooms in '\n",
       "                                                    'Hospital',\n",
       "                                                    'Department', 'Ward_Type',\n",
       "                                                    'Ward_Facility_Code',\n",
       "                                                    'Bed Grade',\n",
       "                                                    'City_Code_Patient',\n",
       "                                                    'Type of Admission',\n",
       "                                                    'Severity of Illness',\n",
       "                                                    'Visitors with Patient',\n",
       "                                                    'Age'])])),\n",
       "                 ('LinearSVC', LinearSVC(C=0.1, dual=False, tol=0.01))]),\n",
       " 'best_score_': 0.39038000000000006,\n",
       " 'best_params_': {'LinearSVC__C': 0.1,\n",
       "  'LinearSVC__class_weight': None,\n",
       "  'LinearSVC__tol': 0.01}}"
      ]
     },
     "execution_count": 334,
     "metadata": {},
     "output_type": "execute_result"
    }
   ],
   "source": [
    "# load the results of finetuning for our LinearSVC model\n",
    "linearsvc_gridcv_results = load_finetuning(\"grid\", \"LinearSVC\")\n",
    "\n",
    "# this is a dictionary:\n",
    "# 4 keys:\n",
    "    # cv_results_\n",
    "    # best_estimator_\n",
    "    # best_score_\n",
    "    # best_params_\n",
    "\n",
    "linearsvc_gridcv_results"
   ]
  },
  {
   "cell_type": "code",
   "execution_count": 335,
   "metadata": {
    "scrolled": true
   },
   "outputs": [
    {
     "data": {
      "text/plain": [
       "(0.39038000000000006,\n",
       " {'LinearSVC__C': 0.1,\n",
       "  'LinearSVC__class_weight': None,\n",
       "  'LinearSVC__tol': 0.01})"
      ]
     },
     "execution_count": 335,
     "metadata": {},
     "output_type": "execute_result"
    }
   ],
   "source": [
    "linearsvc_gridcv_results[\"best_score_\"], linearsvc_gridcv_results[\"best_params_\"]"
   ]
  },
  {
   "cell_type": "code",
   "execution_count": 336,
   "metadata": {
    "scrolled": true
   },
   "outputs": [],
   "source": [
    "if not already_finetuned:\n",
    "    linearsvc_rnd_cv.fit(X_train_subset, y_train_subset)"
   ]
  },
  {
   "cell_type": "code",
   "execution_count": 337,
   "metadata": {},
   "outputs": [],
   "source": [
    "# save the results of finetuning for our LinearSVC model\n",
    "save_finetuning(linearsvc_rnd_cv, \"rnd\", \"LinearSVC\", already_finetuned=already_finetuned)"
   ]
  },
  {
   "cell_type": "code",
   "execution_count": 338,
   "metadata": {},
   "outputs": [
    {
     "data": {
      "text/plain": [
       "{'cv_results_': {'mean_fit_time': array([36.87730231,  9.15158515, 17.13755646,  9.99731894, 27.40074821,\n",
       "         32.75142455, 23.7147325 , 89.7294909 , 40.62269902, 22.15308657]),\n",
       "  'std_fit_time': array([1.03497534, 0.22269959, 0.87495794, 0.64348656, 1.15161108,\n",
       "         0.97214309, 0.97241271, 6.32808711, 2.42514601, 3.4809664 ]),\n",
       "  'mean_score_time': array([0.10692964, 0.08940077, 0.10029011, 0.09813223, 0.10924029,\n",
       "         0.09928131, 0.11166306, 0.09038801, 0.1115118 , 0.07180004]),\n",
       "  'std_score_time': array([0.0223501 , 0.00463043, 0.01244664, 0.01454238, 0.02168865,\n",
       "         0.01166684, 0.0150202 , 0.01140525, 0.01617238, 0.02396185]),\n",
       "  'param_LinearSVC__tol': masked_array(data=[0.0001, 0.01, 0.001, 0.01, 0.001, 1e-05, 0.001, 1e-05,\n",
       "                     0.0001, 0.001],\n",
       "               mask=[False, False, False, False, False, False, False, False,\n",
       "                     False, False],\n",
       "         fill_value='?',\n",
       "              dtype=object),\n",
       "  'param_LinearSVC__class_weight': masked_array(data=[None, None, 'balanced', None, None, 'balanced', None,\n",
       "                     None, 'balanced', 'balanced'],\n",
       "               mask=[False, False, False, False, False, False, False, False,\n",
       "                     False, False],\n",
       "         fill_value='?',\n",
       "              dtype=object),\n",
       "  'param_LinearSVC__C': masked_array(data=[1.0, 0.5, 0.1, 1.0, 10, 0.1, 1.0, 10, 1.0, 1.0],\n",
       "               mask=[False, False, False, False, False, False, False, False,\n",
       "                     False, False],\n",
       "         fill_value='?',\n",
       "              dtype=object),\n",
       "  'params': [{'LinearSVC__tol': 0.0001,\n",
       "    'LinearSVC__class_weight': None,\n",
       "    'LinearSVC__C': 1.0},\n",
       "   {'LinearSVC__tol': 0.01,\n",
       "    'LinearSVC__class_weight': None,\n",
       "    'LinearSVC__C': 0.5},\n",
       "   {'LinearSVC__tol': 0.001,\n",
       "    'LinearSVC__class_weight': 'balanced',\n",
       "    'LinearSVC__C': 0.1},\n",
       "   {'LinearSVC__tol': 0.01,\n",
       "    'LinearSVC__class_weight': None,\n",
       "    'LinearSVC__C': 1.0},\n",
       "   {'LinearSVC__tol': 0.001,\n",
       "    'LinearSVC__class_weight': None,\n",
       "    'LinearSVC__C': 10},\n",
       "   {'LinearSVC__tol': 1e-05,\n",
       "    'LinearSVC__class_weight': 'balanced',\n",
       "    'LinearSVC__C': 0.1},\n",
       "   {'LinearSVC__tol': 0.001,\n",
       "    'LinearSVC__class_weight': None,\n",
       "    'LinearSVC__C': 1.0},\n",
       "   {'LinearSVC__tol': 1e-05,\n",
       "    'LinearSVC__class_weight': None,\n",
       "    'LinearSVC__C': 10},\n",
       "   {'LinearSVC__tol': 0.0001,\n",
       "    'LinearSVC__class_weight': 'balanced',\n",
       "    'LinearSVC__C': 1.0},\n",
       "   {'LinearSVC__tol': 0.001,\n",
       "    'LinearSVC__class_weight': 'balanced',\n",
       "    'LinearSVC__C': 1.0}],\n",
       "  'split0_test_score': array([0.393 , 0.3922, 0.3237, 0.3916, 0.393 , 0.3239, 0.3929, 0.3932,\n",
       "         0.323 , 0.3235]),\n",
       "  'split1_test_score': array([0.3856, 0.3841, 0.3188, 0.3842, 0.3853, 0.3185, 0.3855, 0.3858,\n",
       "         0.3174, 0.3178]),\n",
       "  'split2_test_score': array([0.3885, 0.3887, 0.3173, 0.3886, 0.3883, 0.3165, 0.3883, 0.3883,\n",
       "         0.3165, 0.3169]),\n",
       "  'split3_test_score': array([0.3912, 0.3911, 0.3159, 0.3914, 0.3911, 0.3162, 0.391 , 0.3913,\n",
       "         0.3156, 0.316 ]),\n",
       "  'split4_test_score': array([0.393 , 0.3919, 0.33  , 0.3922, 0.3932, 0.3297, 0.3931, 0.3928,\n",
       "         0.3288, 0.3288]),\n",
       "  'mean_test_score': array([0.39026, 0.3896 , 0.32114, 0.3896 , 0.39018, 0.32096, 0.39016,\n",
       "         0.39028, 0.32026, 0.3206 ]),\n",
       "  'std_test_score': array([0.00285349, 0.00301198, 0.00515232, 0.00297187, 0.00300892,\n",
       "         0.00516976, 0.00289938, 0.00282517, 0.00498943, 0.00486498]),\n",
       "  'rank_test_score': array([ 2,  5,  7,  5,  3,  8,  4,  1, 10,  9])},\n",
       " 'best_estimator_': Pipeline(steps=[('selector',\n",
       "                  DataFrameSelector(attribute_names=['Hospital_code',\n",
       "                                                     'Hospital_type_code',\n",
       "                                                     'City_Code_Hospital',\n",
       "                                                     'Hospital_region_code',\n",
       "                                                     'Available Extra Rooms in '\n",
       "                                                     'Hospital',\n",
       "                                                     'Department', 'Ward_Type',\n",
       "                                                     'Ward_Facility_Code',\n",
       "                                                     'Bed Grade',\n",
       "                                                     'City_Code_Patient',\n",
       "                                                     'Type of Admission',\n",
       "                                                     'Severity of Illness',\n",
       "                                                     'Visitors with Patient',\n",
       "                                                     'Age',\n",
       "                                                     'Admission_Deposit'])),\n",
       "                 ('col_...\n",
       "                                                                    OneHotEncoder(handle_unknown='ignore'))]),\n",
       "                                                   ['Hospital_code',\n",
       "                                                    'Hospital_type_code',\n",
       "                                                    'City_Code_Hospital',\n",
       "                                                    'Hospital_region_code',\n",
       "                                                    'Available Extra Rooms in '\n",
       "                                                    'Hospital',\n",
       "                                                    'Department', 'Ward_Type',\n",
       "                                                    'Ward_Facility_Code',\n",
       "                                                    'Bed Grade',\n",
       "                                                    'City_Code_Patient',\n",
       "                                                    'Type of Admission',\n",
       "                                                    'Severity of Illness',\n",
       "                                                    'Visitors with Patient',\n",
       "                                                    'Age'])])),\n",
       "                 ('LinearSVC', LinearSVC(C=10, dual=False, tol=1e-05))]),\n",
       " 'best_score_': 0.39028,\n",
       " 'best_params_': {'LinearSVC__tol': 1e-05,\n",
       "  'LinearSVC__class_weight': None,\n",
       "  'LinearSVC__C': 10}}"
      ]
     },
     "execution_count": 338,
     "metadata": {},
     "output_type": "execute_result"
    }
   ],
   "source": [
    "# load the results of finetuning for our LinearSVC model\n",
    "linearsvc_rndcv_results = load_finetuning(\"rnd\", \"LinearSVC\")\n",
    "\n",
    "linearsvc_rndcv_results"
   ]
  },
  {
   "cell_type": "code",
   "execution_count": 339,
   "metadata": {},
   "outputs": [
    {
     "data": {
      "text/plain": [
       "(0.39028,\n",
       " {'LinearSVC__tol': 1e-05,\n",
       "  'LinearSVC__class_weight': None,\n",
       "  'LinearSVC__C': 10})"
      ]
     },
     "execution_count": 339,
     "metadata": {},
     "output_type": "execute_result"
    }
   ],
   "source": [
    "linearsvc_rndcv_results[\"best_score_\"], linearsvc_rndcv_results[\"best_params_\"]"
   ]
  },
  {
   "cell_type": "code",
   "execution_count": 340,
   "metadata": {},
   "outputs": [],
   "source": [
    "# fine-tuning the RandomForestClassifier\n",
    "\n",
    "rnd_forest_param_grid = {\"RandomForestClassifier__n_estimators\": [50, 100, 200],\n",
    "                         \"RandomForestClassifier__criterion\": [\"gini\", \"entropy\"],\n",
    "                         \"RandomForestClassifier__bootstrap\": [True, False],\n",
    "                         \"RandomForestClassifier__n_jobs\": [-1],}\n",
    "\n",
    "rnd_forest_grid_cv = GridSearchCV(shortlisted_models[1], rnd_forest_param_grid, scoring=\"accuracy\", cv=5, \n",
    "                                 verbose=2, n_jobs=-1)\n",
    "rnd_forest_rnd_cv = RandomizedSearchCV(shortlisted_models[1], rnd_forest_param_grid, scoring=\"accuracy\", cv=5, \n",
    "                                      verbose=2, n_jobs=-1)"
   ]
  },
  {
   "cell_type": "code",
   "execution_count": 341,
   "metadata": {},
   "outputs": [],
   "source": [
    "if not already_finetuned:\n",
    "    rnd_forest_grid_cv.fit(X_train_subset, y_train_subset)"
   ]
  },
  {
   "cell_type": "code",
   "execution_count": 342,
   "metadata": {},
   "outputs": [],
   "source": [
    "save_finetuning(rnd_forest_grid_cv, \"grid\", \"RandomForestClassifier\", already_finetuned=already_finetuned)"
   ]
  },
  {
   "cell_type": "code",
   "execution_count": 343,
   "metadata": {},
   "outputs": [
    {
     "data": {
      "text/plain": [
       "{'cv_results_': {'mean_fit_time': array([ 62.41088223, 113.21358724, 220.30602565,  71.86435289,\n",
       "         123.74584494, 242.77289605, 106.96537738, 194.87761159,\n",
       "         382.62811923, 117.10965352, 208.23055205, 268.05204906]),\n",
       "  'std_fit_time': array([ 1.54214038,  2.99033577,  1.98092155,  2.81549534,  1.82232016,\n",
       "          0.81256771,  3.0698109 ,  1.30361444,  1.5503263 ,  1.58666413,\n",
       "          0.9455669 , 42.80357296]),\n",
       "  'mean_score_time': array([3.45575213, 5.72686715, 5.91826487, 5.38145323, 4.67454486,\n",
       "         4.90066147, 4.07036896, 5.053933  , 4.78235178, 4.18367615,\n",
       "         4.11919169, 1.83642569]),\n",
       "  'std_score_time': array([0.10184078, 0.27807547, 0.92004572, 0.34990481, 0.47290093,\n",
       "         0.39322496, 0.25982254, 0.68811616, 1.16292277, 1.14754959,\n",
       "         0.60345873, 1.24065661]),\n",
       "  'param_RandomForestClassifier__bootstrap': masked_array(data=[True, True, True, True, True, True, False, False,\n",
       "                     False, False, False, False],\n",
       "               mask=[False, False, False, False, False, False, False, False,\n",
       "                     False, False, False, False],\n",
       "         fill_value='?',\n",
       "              dtype=object),\n",
       "  'param_RandomForestClassifier__criterion': masked_array(data=['gini', 'gini', 'gini', 'entropy', 'entropy',\n",
       "                     'entropy', 'gini', 'gini', 'gini', 'entropy',\n",
       "                     'entropy', 'entropy'],\n",
       "               mask=[False, False, False, False, False, False, False, False,\n",
       "                     False, False, False, False],\n",
       "         fill_value='?',\n",
       "              dtype=object),\n",
       "  'param_RandomForestClassifier__n_estimators': masked_array(data=[50, 100, 200, 50, 100, 200, 50, 100, 200, 50, 100, 200],\n",
       "               mask=[False, False, False, False, False, False, False, False,\n",
       "                     False, False, False, False],\n",
       "         fill_value='?',\n",
       "              dtype=object),\n",
       "  'param_RandomForestClassifier__n_jobs': masked_array(data=[-1, -1, -1, -1, -1, -1, -1, -1, -1, -1, -1, -1],\n",
       "               mask=[False, False, False, False, False, False, False, False,\n",
       "                     False, False, False, False],\n",
       "         fill_value='?',\n",
       "              dtype=object),\n",
       "  'params': [{'RandomForestClassifier__bootstrap': True,\n",
       "    'RandomForestClassifier__criterion': 'gini',\n",
       "    'RandomForestClassifier__n_estimators': 50,\n",
       "    'RandomForestClassifier__n_jobs': -1},\n",
       "   {'RandomForestClassifier__bootstrap': True,\n",
       "    'RandomForestClassifier__criterion': 'gini',\n",
       "    'RandomForestClassifier__n_estimators': 100,\n",
       "    'RandomForestClassifier__n_jobs': -1},\n",
       "   {'RandomForestClassifier__bootstrap': True,\n",
       "    'RandomForestClassifier__criterion': 'gini',\n",
       "    'RandomForestClassifier__n_estimators': 200,\n",
       "    'RandomForestClassifier__n_jobs': -1},\n",
       "   {'RandomForestClassifier__bootstrap': True,\n",
       "    'RandomForestClassifier__criterion': 'entropy',\n",
       "    'RandomForestClassifier__n_estimators': 50,\n",
       "    'RandomForestClassifier__n_jobs': -1},\n",
       "   {'RandomForestClassifier__bootstrap': True,\n",
       "    'RandomForestClassifier__criterion': 'entropy',\n",
       "    'RandomForestClassifier__n_estimators': 100,\n",
       "    'RandomForestClassifier__n_jobs': -1},\n",
       "   {'RandomForestClassifier__bootstrap': True,\n",
       "    'RandomForestClassifier__criterion': 'entropy',\n",
       "    'RandomForestClassifier__n_estimators': 200,\n",
       "    'RandomForestClassifier__n_jobs': -1},\n",
       "   {'RandomForestClassifier__bootstrap': False,\n",
       "    'RandomForestClassifier__criterion': 'gini',\n",
       "    'RandomForestClassifier__n_estimators': 50,\n",
       "    'RandomForestClassifier__n_jobs': -1},\n",
       "   {'RandomForestClassifier__bootstrap': False,\n",
       "    'RandomForestClassifier__criterion': 'gini',\n",
       "    'RandomForestClassifier__n_estimators': 100,\n",
       "    'RandomForestClassifier__n_jobs': -1},\n",
       "   {'RandomForestClassifier__bootstrap': False,\n",
       "    'RandomForestClassifier__criterion': 'gini',\n",
       "    'RandomForestClassifier__n_estimators': 200,\n",
       "    'RandomForestClassifier__n_jobs': -1},\n",
       "   {'RandomForestClassifier__bootstrap': False,\n",
       "    'RandomForestClassifier__criterion': 'entropy',\n",
       "    'RandomForestClassifier__n_estimators': 50,\n",
       "    'RandomForestClassifier__n_jobs': -1},\n",
       "   {'RandomForestClassifier__bootstrap': False,\n",
       "    'RandomForestClassifier__criterion': 'entropy',\n",
       "    'RandomForestClassifier__n_estimators': 100,\n",
       "    'RandomForestClassifier__n_jobs': -1},\n",
       "   {'RandomForestClassifier__bootstrap': False,\n",
       "    'RandomForestClassifier__criterion': 'entropy',\n",
       "    'RandomForestClassifier__n_estimators': 200,\n",
       "    'RandomForestClassifier__n_jobs': -1}],\n",
       "  'split0_test_score': array([0.3718, 0.3785, 0.379 , 0.367 , 0.373 , 0.3782, 0.3607, 0.363 ,\n",
       "         0.3655, 0.3588, 0.3615, 0.3645]),\n",
       "  'split1_test_score': array([0.3661, 0.3727, 0.3755, 0.3648, 0.37  , 0.3728, 0.3548, 0.3654,\n",
       "         0.3637, 0.3515, 0.3572, 0.3587]),\n",
       "  'split2_test_score': array([0.3546, 0.3673, 0.3704, 0.3623, 0.3641, 0.368 , 0.3496, 0.3503,\n",
       "         0.3541, 0.3533, 0.3546, 0.3521]),\n",
       "  'split3_test_score': array([0.3724, 0.3778, 0.3837, 0.3749, 0.3759, 0.3779, 0.3597, 0.3659,\n",
       "         0.3667, 0.3535, 0.3632, 0.3668]),\n",
       "  'split4_test_score': array([0.3795, 0.3792, 0.3827, 0.3747, 0.3836, 0.3819, 0.3616, 0.3682,\n",
       "         0.3682, 0.3567, 0.3651, 0.3667]),\n",
       "  'mean_test_score': array([0.36888, 0.3751 , 0.37826, 0.36874, 0.37332, 0.37576, 0.35728,\n",
       "         0.36256, 0.36364, 0.35476, 0.36032, 0.36176]),\n",
       "  'std_test_score': array([0.00831081, 0.00452239, 0.00488369, 0.00516705, 0.00645706,\n",
       "         0.00484174, 0.00450218, 0.00634873, 0.00499263, 0.0026242 ,\n",
       "         0.00387267, 0.00565671]),\n",
       "  'rank_test_score': array([ 5,  3,  1,  6,  4,  2, 11,  8,  7, 12, 10,  9])},\n",
       " 'best_estimator_': Pipeline(steps=[('selector',\n",
       "                  DataFrameSelector(attribute_names=['Hospital_code',\n",
       "                                                     'Hospital_type_code',\n",
       "                                                     'City_Code_Hospital',\n",
       "                                                     'Hospital_region_code',\n",
       "                                                     'Available Extra Rooms in '\n",
       "                                                     'Hospital',\n",
       "                                                     'Department', 'Ward_Type',\n",
       "                                                     'Ward_Facility_Code',\n",
       "                                                     'Bed Grade',\n",
       "                                                     'City_Code_Patient',\n",
       "                                                     'Type of Admission',\n",
       "                                                     'Severity of Illness',\n",
       "                                                     'Visitors with Patient',\n",
       "                                                     'Age',\n",
       "                                                     'Admission_Deposit'])),\n",
       "                 ('col_...\n",
       "                                                                    OneHotEncoder(handle_unknown='ignore'))]),\n",
       "                                                   ['Hospital_code',\n",
       "                                                    'Hospital_type_code',\n",
       "                                                    'City_Code_Hospital',\n",
       "                                                    'Hospital_region_code',\n",
       "                                                    'Available Extra Rooms in '\n",
       "                                                    'Hospital',\n",
       "                                                    'Department', 'Ward_Type',\n",
       "                                                    'Ward_Facility_Code',\n",
       "                                                    'Bed Grade',\n",
       "                                                    'City_Code_Patient',\n",
       "                                                    'Type of Admission',\n",
       "                                                    'Severity of Illness',\n",
       "                                                    'Visitors with Patient',\n",
       "                                                    'Age'])])),\n",
       "                 ('RandomForestClassifier',\n",
       "                  RandomForestClassifier(n_estimators=200, n_jobs=-1))]),\n",
       " 'best_score_': 0.37826,\n",
       " 'best_params_': {'RandomForestClassifier__bootstrap': True,\n",
       "  'RandomForestClassifier__criterion': 'gini',\n",
       "  'RandomForestClassifier__n_estimators': 200,\n",
       "  'RandomForestClassifier__n_jobs': -1}}"
      ]
     },
     "execution_count": 343,
     "metadata": {},
     "output_type": "execute_result"
    }
   ],
   "source": [
    "rnd_forest_gridcv_results = load_finetuning(\"grid\", \"RandomForestClassifier\")\n",
    "\n",
    "rnd_forest_gridcv_results"
   ]
  },
  {
   "cell_type": "code",
   "execution_count": 344,
   "metadata": {},
   "outputs": [
    {
     "data": {
      "text/plain": [
       "(0.37826,\n",
       " {'RandomForestClassifier__bootstrap': True,\n",
       "  'RandomForestClassifier__criterion': 'gini',\n",
       "  'RandomForestClassifier__n_estimators': 200,\n",
       "  'RandomForestClassifier__n_jobs': -1})"
      ]
     },
     "execution_count": 344,
     "metadata": {},
     "output_type": "execute_result"
    }
   ],
   "source": [
    "rnd_forest_gridcv_results[\"best_score_\"], rnd_forest_gridcv_results[\"best_params_\"]"
   ]
  },
  {
   "cell_type": "code",
   "execution_count": 345,
   "metadata": {},
   "outputs": [],
   "source": [
    "if not already_finetuned:\n",
    "    rnd_forest_rnd_cv.fit(X_train_subset, y_train_subset)"
   ]
  },
  {
   "cell_type": "code",
   "execution_count": 346,
   "metadata": {},
   "outputs": [],
   "source": [
    "save_finetuning(rnd_forest_rnd_cv, \"rnd\", \"RandomForestClassifier\", already_finetuned=already_finetuned)"
   ]
  },
  {
   "cell_type": "code",
   "execution_count": 347,
   "metadata": {},
   "outputs": [
    {
     "data": {
      "text/plain": [
       "{'cv_results_': {'mean_fit_time': array([167.97173262,  72.52686691,  88.67222676, 308.90141273,\n",
       "         117.69388971, 102.74995389, 115.26837974,  59.05285082,\n",
       "         196.70236621, 190.48903208]),\n",
       "  'std_fit_time': array([ 1.58344361,  1.16760426,  3.19913605, 32.07467476, 23.90994682,\n",
       "         13.575437  ,  8.76065325,  3.09340423,  2.02855974, 44.60695222]),\n",
       "  'mean_score_time': array([2.68381567, 5.74735241, 5.49169679, 0.        , 4.4670918 ,\n",
       "         4.38585792, 6.29517732, 7.30995626, 7.86397738, 2.35360937]),\n",
       "  'std_score_time': array([0.36003493, 0.56881489, 1.64526658, 0.        , 3.67903224,\n",
       "         2.21628719, 1.80994352, 0.61957581, 0.70628052, 1.74108794]),\n",
       "  'param_RandomForestClassifier__n_jobs': masked_array(data=[-1, -1, -1, -1, -1, -1, -1, -1, -1, -1],\n",
       "               mask=[False, False, False, False, False, False, False, False,\n",
       "                     False, False],\n",
       "         fill_value='?',\n",
       "              dtype=object),\n",
       "  'param_RandomForestClassifier__n_estimators': masked_array(data=[100, 50, 50, 200, 100, 50, 100, 50, 100, 200],\n",
       "               mask=[False, False, False, False, False, False, False, False,\n",
       "                     False, False],\n",
       "         fill_value='?',\n",
       "              dtype=object),\n",
       "  'param_RandomForestClassifier__criterion': masked_array(data=['gini', 'entropy', 'gini', 'entropy', 'entropy',\n",
       "                     'entropy', 'gini', 'gini', 'entropy', 'entropy'],\n",
       "               mask=[False, False, False, False, False, False, False, False,\n",
       "                     False, False],\n",
       "         fill_value='?',\n",
       "              dtype=object),\n",
       "  'param_RandomForestClassifier__bootstrap': masked_array(data=[False, True, False, False, True, False, True, True,\n",
       "                     False, True],\n",
       "               mask=[False, False, False, False, False, False, False, False,\n",
       "                     False, False],\n",
       "         fill_value='?',\n",
       "              dtype=object),\n",
       "  'params': [{'RandomForestClassifier__n_jobs': -1,\n",
       "    'RandomForestClassifier__n_estimators': 100,\n",
       "    'RandomForestClassifier__criterion': 'gini',\n",
       "    'RandomForestClassifier__bootstrap': False},\n",
       "   {'RandomForestClassifier__n_jobs': -1,\n",
       "    'RandomForestClassifier__n_estimators': 50,\n",
       "    'RandomForestClassifier__criterion': 'entropy',\n",
       "    'RandomForestClassifier__bootstrap': True},\n",
       "   {'RandomForestClassifier__n_jobs': -1,\n",
       "    'RandomForestClassifier__n_estimators': 50,\n",
       "    'RandomForestClassifier__criterion': 'gini',\n",
       "    'RandomForestClassifier__bootstrap': False},\n",
       "   {'RandomForestClassifier__n_jobs': -1,\n",
       "    'RandomForestClassifier__n_estimators': 200,\n",
       "    'RandomForestClassifier__criterion': 'entropy',\n",
       "    'RandomForestClassifier__bootstrap': False},\n",
       "   {'RandomForestClassifier__n_jobs': -1,\n",
       "    'RandomForestClassifier__n_estimators': 100,\n",
       "    'RandomForestClassifier__criterion': 'entropy',\n",
       "    'RandomForestClassifier__bootstrap': True},\n",
       "   {'RandomForestClassifier__n_jobs': -1,\n",
       "    'RandomForestClassifier__n_estimators': 50,\n",
       "    'RandomForestClassifier__criterion': 'entropy',\n",
       "    'RandomForestClassifier__bootstrap': False},\n",
       "   {'RandomForestClassifier__n_jobs': -1,\n",
       "    'RandomForestClassifier__n_estimators': 100,\n",
       "    'RandomForestClassifier__criterion': 'gini',\n",
       "    'RandomForestClassifier__bootstrap': True},\n",
       "   {'RandomForestClassifier__n_jobs': -1,\n",
       "    'RandomForestClassifier__n_estimators': 50,\n",
       "    'RandomForestClassifier__criterion': 'gini',\n",
       "    'RandomForestClassifier__bootstrap': True},\n",
       "   {'RandomForestClassifier__n_jobs': -1,\n",
       "    'RandomForestClassifier__n_estimators': 100,\n",
       "    'RandomForestClassifier__criterion': 'entropy',\n",
       "    'RandomForestClassifier__bootstrap': False},\n",
       "   {'RandomForestClassifier__n_jobs': -1,\n",
       "    'RandomForestClassifier__n_estimators': 200,\n",
       "    'RandomForestClassifier__criterion': 'entropy',\n",
       "    'RandomForestClassifier__bootstrap': True}],\n",
       "  'split0_test_score': array([0.3617, 0.3716, 0.3631,    nan, 0.3807,    nan, 0.379 , 0.3729,\n",
       "         0.3614, 0.3742]),\n",
       "  'split1_test_score': array([0.3641, 0.36  , 0.3617,    nan, 0.3691, 0.3598, 0.3768, 0.3705,\n",
       "         0.357 , 0.3735]),\n",
       "  'split2_test_score': array([0.3537, 0.3605, 0.3501,    nan, 0.3621, 0.3481, 0.364 , 0.3617,\n",
       "         0.3486, 0.3621]),\n",
       "  'split3_test_score': array([0.3658, 0.3696, 0.3632,    nan,    nan, 0.356 , 0.3817, 0.3718,\n",
       "         0.3619, 0.379 ]),\n",
       "  'split4_test_score': array([0.3686, 0.3709, 0.3663,    nan,    nan, 0.3643, 0.3801, 0.3722,\n",
       "         0.3626, 0.3826]),\n",
       "  'mean_test_score': array([0.36278, 0.36652, 0.36088,     nan,     nan,     nan, 0.37632,\n",
       "         0.36982, 0.3583 , 0.37428]),\n",
       "  'std_test_score': array([0.00506652, 0.00516194, 0.00559586,        nan,        nan,\n",
       "                nan, 0.00636283, 0.00413444, 0.00523144, 0.00693495]),\n",
       "  'rank_test_score': array([ 5,  4,  6,  8,  9, 10,  1,  3,  7,  2])},\n",
       " 'best_estimator_': Pipeline(steps=[('selector',\n",
       "                  DataFrameSelector(attribute_names=['Hospital_code',\n",
       "                                                     'Hospital_type_code',\n",
       "                                                     'City_Code_Hospital',\n",
       "                                                     'Hospital_region_code',\n",
       "                                                     'Available Extra Rooms in '\n",
       "                                                     'Hospital',\n",
       "                                                     'Department', 'Ward_Type',\n",
       "                                                     'Ward_Facility_Code',\n",
       "                                                     'Bed Grade',\n",
       "                                                     'City_Code_Patient',\n",
       "                                                     'Type of Admission',\n",
       "                                                     'Severity of Illness',\n",
       "                                                     'Visitors with Patient',\n",
       "                                                     'Age',\n",
       "                                                     'Admission_Deposit'])),\n",
       "                 ('col_...\n",
       "                                                                    OneHotEncoder(handle_unknown='ignore'))]),\n",
       "                                                   ['Hospital_code',\n",
       "                                                    'Hospital_type_code',\n",
       "                                                    'City_Code_Hospital',\n",
       "                                                    'Hospital_region_code',\n",
       "                                                    'Available Extra Rooms in '\n",
       "                                                    'Hospital',\n",
       "                                                    'Department', 'Ward_Type',\n",
       "                                                    'Ward_Facility_Code',\n",
       "                                                    'Bed Grade',\n",
       "                                                    'City_Code_Patient',\n",
       "                                                    'Type of Admission',\n",
       "                                                    'Severity of Illness',\n",
       "                                                    'Visitors with Patient',\n",
       "                                                    'Age'])])),\n",
       "                 ('RandomForestClassifier', RandomForestClassifier(n_jobs=-1))]),\n",
       " 'best_score_': 0.37632000000000004,\n",
       " 'best_params_': {'RandomForestClassifier__n_jobs': -1,\n",
       "  'RandomForestClassifier__n_estimators': 100,\n",
       "  'RandomForestClassifier__criterion': 'gini',\n",
       "  'RandomForestClassifier__bootstrap': True}}"
      ]
     },
     "execution_count": 347,
     "metadata": {},
     "output_type": "execute_result"
    }
   ],
   "source": [
    "rnd_forest_rndcv_results = load_finetuning(\"rnd\", \"RandomForestClassifier\")\n",
    "\n",
    "rnd_forest_rndcv_results"
   ]
  },
  {
   "cell_type": "code",
   "execution_count": 348,
   "metadata": {},
   "outputs": [
    {
     "data": {
      "text/plain": [
       "(0.37632000000000004,\n",
       " {'RandomForestClassifier__n_jobs': -1,\n",
       "  'RandomForestClassifier__n_estimators': 100,\n",
       "  'RandomForestClassifier__criterion': 'gini',\n",
       "  'RandomForestClassifier__bootstrap': True})"
      ]
     },
     "execution_count": 348,
     "metadata": {},
     "output_type": "execute_result"
    }
   ],
   "source": [
    "rnd_forest_rndcv_results[\"best_score_\"], rnd_forest_rndcv_results[\"best_params_\"]"
   ]
  },
  {
   "cell_type": "code",
   "execution_count": 349,
   "metadata": {},
   "outputs": [],
   "source": [
    "# fine-tuning the ExtraTreesClassifier\n",
    "\n",
    "extrees_param_grid = {\"ExtraTreesClassifier__n_estimators\": [50, 100, 200],\n",
    "                      \"ExtraTreesClassifier__criterion\": [\"gini\", \"entropy\"],\n",
    "                      \"ExtraTreesClassifier__bootstrap\": [True, False],\n",
    "                      \"ExtraTreesClassifier__n_jobs\": [-1],}\n",
    "\n",
    "extrees_grid_cv = GridSearchCV(shortlisted_models[2], extrees_param_grid, scoring=\"accuracy\", cv=5, \n",
    "                                 verbose=2, n_jobs=-1)\n",
    "extrees_rnd_cv = RandomizedSearchCV(shortlisted_models[2], extrees_param_grid, scoring=\"accuracy\", cv=5, \n",
    "                                      verbose=2, n_jobs=-1)"
   ]
  },
  {
   "cell_type": "code",
   "execution_count": 350,
   "metadata": {},
   "outputs": [],
   "source": [
    "if not already_finetuned:\n",
    "    extrees_grid_cv.fit(X_train_subset, y_train_subset)"
   ]
  },
  {
   "cell_type": "code",
   "execution_count": 351,
   "metadata": {},
   "outputs": [],
   "source": [
    "save_finetuning(extrees_grid_cv, \"grid\", \"ExtraTreesClassifier\", already_finetuned=already_finetuned)"
   ]
  },
  {
   "cell_type": "code",
   "execution_count": 352,
   "metadata": {},
   "outputs": [
    {
     "data": {
      "text/plain": [
       "{'cv_results_': {'mean_fit_time': array([ 58.46599889, 107.96428342, 218.73975902,  69.90635643,\n",
       "         123.69112968, 243.38776259, 106.32155876, 195.75096869,\n",
       "         319.58040533, 111.115593  , 201.26552162, 260.28806787]),\n",
       "  'std_fit_time': array([ 1.13640282,  3.87832512,  2.72931872,  1.8207274 ,  0.91519923,\n",
       "          0.44096684,  3.70775319,  3.0473858 , 53.94756547,  3.97469964,\n",
       "          6.55037264, 40.03878438]),\n",
       "  'mean_score_time': array([3.24099336, 4.09455986, 5.03631825, 4.2394249 , 4.70796809,\n",
       "         6.18426681, 4.20577292, 6.96894722, 2.57371378, 6.08085837,\n",
       "         4.2018332 , 1.58677773]),\n",
       "  'std_score_time': array([0.12356089, 0.1388841 , 0.1797609 , 0.41817416, 0.40276131,\n",
       "         1.10544662, 0.08226676, 1.13154942, 3.39982996, 0.42269254,\n",
       "         0.74772307, 1.49019856]),\n",
       "  'param_ExtraTreesClassifier__bootstrap': masked_array(data=[True, True, True, True, True, True, False, False,\n",
       "                     False, False, False, False],\n",
       "               mask=[False, False, False, False, False, False, False, False,\n",
       "                     False, False, False, False],\n",
       "         fill_value='?',\n",
       "              dtype=object),\n",
       "  'param_ExtraTreesClassifier__criterion': masked_array(data=['gini', 'gini', 'gini', 'entropy', 'entropy',\n",
       "                     'entropy', 'gini', 'gini', 'gini', 'entropy',\n",
       "                     'entropy', 'entropy'],\n",
       "               mask=[False, False, False, False, False, False, False, False,\n",
       "                     False, False, False, False],\n",
       "         fill_value='?',\n",
       "              dtype=object),\n",
       "  'param_ExtraTreesClassifier__n_estimators': masked_array(data=[50, 100, 200, 50, 100, 200, 50, 100, 200, 50, 100, 200],\n",
       "               mask=[False, False, False, False, False, False, False, False,\n",
       "                     False, False, False, False],\n",
       "         fill_value='?',\n",
       "              dtype=object),\n",
       "  'param_ExtraTreesClassifier__n_jobs': masked_array(data=[-1, -1, -1, -1, -1, -1, -1, -1, -1, -1, -1, -1],\n",
       "               mask=[False, False, False, False, False, False, False, False,\n",
       "                     False, False, False, False],\n",
       "         fill_value='?',\n",
       "              dtype=object),\n",
       "  'params': [{'ExtraTreesClassifier__bootstrap': True,\n",
       "    'ExtraTreesClassifier__criterion': 'gini',\n",
       "    'ExtraTreesClassifier__n_estimators': 50,\n",
       "    'ExtraTreesClassifier__n_jobs': -1},\n",
       "   {'ExtraTreesClassifier__bootstrap': True,\n",
       "    'ExtraTreesClassifier__criterion': 'gini',\n",
       "    'ExtraTreesClassifier__n_estimators': 100,\n",
       "    'ExtraTreesClassifier__n_jobs': -1},\n",
       "   {'ExtraTreesClassifier__bootstrap': True,\n",
       "    'ExtraTreesClassifier__criterion': 'gini',\n",
       "    'ExtraTreesClassifier__n_estimators': 200,\n",
       "    'ExtraTreesClassifier__n_jobs': -1},\n",
       "   {'ExtraTreesClassifier__bootstrap': True,\n",
       "    'ExtraTreesClassifier__criterion': 'entropy',\n",
       "    'ExtraTreesClassifier__n_estimators': 50,\n",
       "    'ExtraTreesClassifier__n_jobs': -1},\n",
       "   {'ExtraTreesClassifier__bootstrap': True,\n",
       "    'ExtraTreesClassifier__criterion': 'entropy',\n",
       "    'ExtraTreesClassifier__n_estimators': 100,\n",
       "    'ExtraTreesClassifier__n_jobs': -1},\n",
       "   {'ExtraTreesClassifier__bootstrap': True,\n",
       "    'ExtraTreesClassifier__criterion': 'entropy',\n",
       "    'ExtraTreesClassifier__n_estimators': 200,\n",
       "    'ExtraTreesClassifier__n_jobs': -1},\n",
       "   {'ExtraTreesClassifier__bootstrap': False,\n",
       "    'ExtraTreesClassifier__criterion': 'gini',\n",
       "    'ExtraTreesClassifier__n_estimators': 50,\n",
       "    'ExtraTreesClassifier__n_jobs': -1},\n",
       "   {'ExtraTreesClassifier__bootstrap': False,\n",
       "    'ExtraTreesClassifier__criterion': 'gini',\n",
       "    'ExtraTreesClassifier__n_estimators': 100,\n",
       "    'ExtraTreesClassifier__n_jobs': -1},\n",
       "   {'ExtraTreesClassifier__bootstrap': False,\n",
       "    'ExtraTreesClassifier__criterion': 'gini',\n",
       "    'ExtraTreesClassifier__n_estimators': 200,\n",
       "    'ExtraTreesClassifier__n_jobs': -1},\n",
       "   {'ExtraTreesClassifier__bootstrap': False,\n",
       "    'ExtraTreesClassifier__criterion': 'entropy',\n",
       "    'ExtraTreesClassifier__n_estimators': 50,\n",
       "    'ExtraTreesClassifier__n_jobs': -1},\n",
       "   {'ExtraTreesClassifier__bootstrap': False,\n",
       "    'ExtraTreesClassifier__criterion': 'entropy',\n",
       "    'ExtraTreesClassifier__n_estimators': 100,\n",
       "    'ExtraTreesClassifier__n_jobs': -1},\n",
       "   {'ExtraTreesClassifier__bootstrap': False,\n",
       "    'ExtraTreesClassifier__criterion': 'entropy',\n",
       "    'ExtraTreesClassifier__n_estimators': 200,\n",
       "    'ExtraTreesClassifier__n_jobs': -1}],\n",
       "  'split0_test_score': array([0.3672, 0.3696, 0.3711, 0.3606, 0.3684, 0.3704, 0.3533, 0.3541,\n",
       "            nan, 0.3507, 0.3543, 0.3531]),\n",
       "  'split1_test_score': array([0.3581, 0.3634, 0.3688, 0.3585, 0.3613, 0.3655, 0.3486, 0.3566,\n",
       "         0.3514, 0.3437, 0.3485, 0.349 ]),\n",
       "  'split2_test_score': array([0.3537, 0.3579, 0.3612, 0.3573, 0.3534, 0.3595, 0.3432, 0.3465,\n",
       "            nan, 0.3408, 0.3456, 0.347 ]),\n",
       "  'split3_test_score': array([0.3688, 0.3665, 0.3741, 0.3694, 0.3677, 0.3705, 0.3543, 0.3562,\n",
       "            nan, 0.3504, 0.3577, 0.3579]),\n",
       "  'split4_test_score': array([0.366 , 0.3737, 0.3785, 0.3623, 0.3696, 0.3732, 0.3524, 0.3601,\n",
       "         0.3591, 0.3536, 0.3557, 0.3556]),\n",
       "  'mean_test_score': array([0.36276, 0.36622, 0.37074, 0.36162, 0.36408, 0.36782, 0.35036,\n",
       "         0.3547 ,     nan, 0.34784, 0.35236, 0.35252]),\n",
       "  'std_test_score': array([0.00583938, 0.00537825, 0.00576909, 0.00425272, 0.00606676,\n",
       "         0.00484537, 0.00406674, 0.00453034,        nan, 0.00478773,\n",
       "         0.0045614 , 0.0040405 ]),\n",
       "  'rank_test_score': array([ 5,  3,  1,  6,  4,  2, 10,  7, 12, 11,  9,  8])},\n",
       " 'best_estimator_': Pipeline(steps=[('selector',\n",
       "                  DataFrameSelector(attribute_names=['Hospital_code',\n",
       "                                                     'Hospital_type_code',\n",
       "                                                     'City_Code_Hospital',\n",
       "                                                     'Hospital_region_code',\n",
       "                                                     'Available Extra Rooms in '\n",
       "                                                     'Hospital',\n",
       "                                                     'Department', 'Ward_Type',\n",
       "                                                     'Ward_Facility_Code',\n",
       "                                                     'Bed Grade',\n",
       "                                                     'City_Code_Patient',\n",
       "                                                     'Type of Admission',\n",
       "                                                     'Severity of Illness',\n",
       "                                                     'Visitors with Patient',\n",
       "                                                     'Age',\n",
       "                                                     'Admission_Deposit'])),\n",
       "                 ('col_...\n",
       "                                                   ['Hospital_code',\n",
       "                                                    'Hospital_type_code',\n",
       "                                                    'City_Code_Hospital',\n",
       "                                                    'Hospital_region_code',\n",
       "                                                    'Available Extra Rooms in '\n",
       "                                                    'Hospital',\n",
       "                                                    'Department', 'Ward_Type',\n",
       "                                                    'Ward_Facility_Code',\n",
       "                                                    'Bed Grade',\n",
       "                                                    'City_Code_Patient',\n",
       "                                                    'Type of Admission',\n",
       "                                                    'Severity of Illness',\n",
       "                                                    'Visitors with Patient',\n",
       "                                                    'Age'])])),\n",
       "                 ('ExtraTreesClassifier',\n",
       "                  ExtraTreesClassifier(bootstrap=True, n_estimators=200,\n",
       "                                       n_jobs=-1))]),\n",
       " 'best_score_': 0.37074,\n",
       " 'best_params_': {'ExtraTreesClassifier__bootstrap': True,\n",
       "  'ExtraTreesClassifier__criterion': 'gini',\n",
       "  'ExtraTreesClassifier__n_estimators': 200,\n",
       "  'ExtraTreesClassifier__n_jobs': -1}}"
      ]
     },
     "execution_count": 352,
     "metadata": {},
     "output_type": "execute_result"
    }
   ],
   "source": [
    "extrees_gridcv_results = load_finetuning(\"grid\", \"ExtraTreesClassifier\")\n",
    "\n",
    "extrees_gridcv_results"
   ]
  },
  {
   "cell_type": "code",
   "execution_count": 353,
   "metadata": {},
   "outputs": [
    {
     "data": {
      "text/plain": [
       "(0.37074,\n",
       " {'ExtraTreesClassifier__bootstrap': True,\n",
       "  'ExtraTreesClassifier__criterion': 'gini',\n",
       "  'ExtraTreesClassifier__n_estimators': 200,\n",
       "  'ExtraTreesClassifier__n_jobs': -1})"
      ]
     },
     "execution_count": 353,
     "metadata": {},
     "output_type": "execute_result"
    }
   ],
   "source": [
    "extrees_gridcv_results[\"best_score_\"], extrees_gridcv_results[\"best_params_\"], "
   ]
  },
  {
   "cell_type": "code",
   "execution_count": 354,
   "metadata": {},
   "outputs": [],
   "source": [
    "if not already_finetuned: # RunTime Error : can't start new thread\n",
    "    extrees_rnd_cv.fit(X_train_subset, y_train_subset)"
   ]
  },
  {
   "cell_type": "code",
   "execution_count": 355,
   "metadata": {},
   "outputs": [],
   "source": [
    "from sklearn.base import clone\n",
    "\n",
    "# training a clone of our best estimator with the fine-tuned hyperparams\n",
    "linear_svc_tuned = clone(linearsvc_gridcv_results[\"best_estimator_\"])\n",
    "linear_svc_tuned.named_steps[\"LinearSVC\"].C = 0.1\n",
    "linear_svc_tuned.named_steps[\"LinearSVC\"].tol = 0.01\n",
    "linear_svc_tuned.named_steps[\"LinearSVC\"].dual = False"
   ]
  },
  {
   "cell_type": "code",
   "execution_count": 356,
   "metadata": {
    "scrolled": true
   },
   "outputs": [
    {
     "data": {
      "text/plain": [
       "Pipeline(steps=[('selector',\n",
       "                 DataFrameSelector(attribute_names=['Hospital_code',\n",
       "                                                    'Hospital_type_code',\n",
       "                                                    'City_Code_Hospital',\n",
       "                                                    'Hospital_region_code',\n",
       "                                                    'Available Extra Rooms in '\n",
       "                                                    'Hospital',\n",
       "                                                    'Department', 'Ward_Type',\n",
       "                                                    'Ward_Facility_Code',\n",
       "                                                    'Bed Grade',\n",
       "                                                    'City_Code_Patient',\n",
       "                                                    'Type of Admission',\n",
       "                                                    'Severity of Illness',\n",
       "                                                    'Visitors with Patient',\n",
       "                                                    'Age',\n",
       "                                                    'Admission_Deposit'])),\n",
       "                ('col_...\n",
       "                                                                   OneHotEncoder(handle_unknown='ignore'))]),\n",
       "                                                  ['Hospital_code',\n",
       "                                                   'Hospital_type_code',\n",
       "                                                   'City_Code_Hospital',\n",
       "                                                   'Hospital_region_code',\n",
       "                                                   'Available Extra Rooms in '\n",
       "                                                   'Hospital',\n",
       "                                                   'Department', 'Ward_Type',\n",
       "                                                   'Ward_Facility_Code',\n",
       "                                                   'Bed Grade',\n",
       "                                                   'City_Code_Patient',\n",
       "                                                   'Type of Admission',\n",
       "                                                   'Severity of Illness',\n",
       "                                                   'Visitors with Patient',\n",
       "                                                   'Age'])])),\n",
       "                ('LinearSVC', LinearSVC(C=0.1, dual=False, tol=0.01))])"
      ]
     },
     "execution_count": 356,
     "metadata": {},
     "output_type": "execute_result"
    }
   ],
   "source": [
    "linear_svc_tuned"
   ]
  },
  {
   "cell_type": "code",
   "execution_count": 357,
   "metadata": {
    "scrolled": true
   },
   "outputs": [
    {
     "data": {
      "text/plain": [
       "array([1.61116909e-01, 1.42831340e-03, 1.78898396e-03, 2.63361868e-03,\n",
       "       7.92234748e-04, 2.35803275e-03, 4.83997106e-03, 8.03735915e-04,\n",
       "       1.45196123e-03, 2.46650699e-03, 2.77407773e-03, 3.18158143e-03,\n",
       "       2.22217154e-03, 1.34796847e-03, 4.14946779e-03, 2.62814331e-03,\n",
       "       1.93804702e-03, 1.66653334e-03, 1.02825079e-03, 2.25781418e-03,\n",
       "       6.73331390e-04, 2.69033155e-03, 1.22762176e-03, 5.36141642e-03,\n",
       "       2.69711034e-03, 3.06268548e-03, 3.95356521e-03, 2.01643021e-03,\n",
       "       1.83933500e-03, 2.90833899e-03, 2.24679231e-03, 2.19289862e-03,\n",
       "       1.35686157e-03, 6.77048505e-03, 3.32670581e-03, 3.78430715e-03,\n",
       "       3.58950741e-03, 3.32485410e-03, 1.32522050e-03, 1.23086888e-03,\n",
       "       3.81912413e-03, 2.23800158e-03, 3.08222659e-03, 2.92144244e-03,\n",
       "       3.70877218e-03, 4.35933777e-03, 2.12735769e-03, 2.76355573e-03,\n",
       "       1.45193475e-03, 1.81073751e-03, 1.02152252e-03, 4.41001012e-03,\n",
       "       3.79279211e-03, 3.74270586e-03, 2.00583833e-05, 4.24917647e-03,\n",
       "       1.91932771e-02, 2.18467754e-02, 1.95204683e-02, 9.06147216e-03,\n",
       "       4.79156594e-03, 1.99803797e-03, 7.83907972e-04, 1.74634726e-04,\n",
       "       6.02644120e-05, 8.15291133e-06, 3.64386914e-06, 1.06893369e-05,\n",
       "       5.47510244e-03, 1.00765365e-02, 1.80394269e-02, 1.20210408e-02,\n",
       "       1.00843180e-03, 2.96533760e-03, 1.52472487e-02, 1.36337255e-02,\n",
       "       1.34182457e-02, 8.48953878e-04, 3.02125813e-03, 3.01805312e-03,\n",
       "       2.14841054e-03, 2.28740951e-03, 3.84230036e-03, 5.97378331e-03,\n",
       "       9.15830328e-03, 1.59471704e-02, 1.67490113e-02, 1.42702075e-02,\n",
       "       1.18305975e-02, 1.53014809e-02, 3.45328891e-03, 9.17840141e-03,\n",
       "       1.11137143e-02, 4.42724913e-03, 1.20766385e-02, 2.46353610e-02,\n",
       "       7.95608614e-03, 5.12554390e-03, 7.29338005e-04, 4.18940109e-03,\n",
       "       1.69781434e-03, 2.61673241e-03, 6.77760341e-03, 2.19478576e-03,\n",
       "       1.24545493e-03, 1.06600969e-03, 1.37305972e-03, 1.45150859e-03,\n",
       "       3.68229704e-04, 3.18413419e-03, 4.42522132e-04, 7.99306242e-04,\n",
       "       1.17128537e-03, 7.33746056e-04, 5.36702049e-04, 1.17435690e-04,\n",
       "       1.46564399e-04, 3.75688194e-05, 5.13634938e-05, 7.17029011e-05,\n",
       "       3.61806150e-05, 6.57718554e-06, 4.48690528e-06, 8.45397543e-05,\n",
       "       7.86110076e-06, 1.26754054e-02, 1.38412502e-02, 1.17636543e-02,\n",
       "       1.41949553e-02, 1.45984182e-02, 1.87881386e-02, 4.21954096e-05,\n",
       "       1.15511442e-03, 2.15891236e-02, 1.31248610e-02, 1.68034044e-02,\n",
       "       6.63309185e-03, 1.16427922e-02, 2.51629487e-03, 4.60444750e-03,\n",
       "       1.57061559e-03, 1.70951073e-03, 4.68366101e-04, 1.34611354e-03,\n",
       "       1.62302430e-04, 3.06201689e-04, 2.20195338e-04, 3.32277195e-04,\n",
       "       3.36450301e-05, 6.19049158e-05, 1.18420618e-05, 9.82066903e-05,\n",
       "       1.08035607e-05, 1.27061063e-05, 1.32087411e-04, 2.37580990e-05,\n",
       "       2.34172219e-05, 1.10462050e-05, 4.99652093e-03, 9.71708722e-03,\n",
       "       1.79797796e-02, 2.33800236e-02, 2.43578833e-02, 2.08305114e-02,\n",
       "       1.65988341e-02, 1.70577771e-02, 6.39811540e-03, 1.36045023e-03])"
      ]
     },
     "execution_count": 357,
     "metadata": {},
     "output_type": "execute_result"
    }
   ],
   "source": [
    "# getting feature importances from a model (2nd best performing) that has the feature_importances_ attrib\n",
    "feature_importances = rnd_forest_gridcv_results[\"best_estimator_\"].named_steps[\"RandomForestClassifier\"].feature_importances_\n",
    "feature_importances"
   ]
  },
  {
   "cell_type": "code",
   "execution_count": 358,
   "metadata": {},
   "outputs": [
    {
     "data": {
      "text/plain": [
       "(168,)"
      ]
     },
     "execution_count": 358,
     "metadata": {},
     "output_type": "execute_result"
    }
   ],
   "source": [
    "feature_importances.shape"
   ]
  },
  {
   "cell_type": "code",
   "execution_count": 359,
   "metadata": {},
   "outputs": [
    {
     "data": {
      "text/plain": [
       "Pipeline(steps=[('most_frequent_imputer', MostFrequentImputer()),\n",
       "                ('one_hot_encoder', OneHotEncoder(handle_unknown='ignore'))])"
      ]
     },
     "execution_count": 359,
     "metadata": {},
     "output_type": "execute_result"
    }
   ],
   "source": [
    "# access the OHE in our pipeline\n",
    "i = rnd_forest_gridcv_results[\"best_estimator_\"].named_steps[\"col_transformer\"]\n",
    "h = i.named_transformers_[\"cat_pipeline\"]\n",
    "h"
   ]
  },
  {
   "cell_type": "code",
   "execution_count": 360,
   "metadata": {},
   "outputs": [
    {
     "name": "stdout",
     "output_type": "stream",
     "text": [
      "167\n"
     ]
    }
   ],
   "source": [
    "# note: remember while the feature_importances has 168, this has 167 (excluding Admission_Deposit)\n",
    "\n",
    "# note: when we trained our first batch of models, the pipeline was severed from the model such that it could\n",
    "# fit the entire selection of features \n",
    "\n",
    "# count the number of categories created by the OHE \n",
    "counter = 0\n",
    "for y in h.named_steps[\"one_hot_encoder\"].categories_:\n",
    "    for x in y:\n",
    "        counter += 1\n",
    "print(counter) "
   ]
  },
  {
   "cell_type": "code",
   "execution_count": 361,
   "metadata": {},
   "outputs": [
    {
     "data": {
      "text/plain": [
       "(318438, 168)"
      ]
     },
     "execution_count": 361,
     "metadata": {},
     "output_type": "execute_result"
    }
   ],
   "source": [
    "# note: even though our original pipelines were fitted to include all features (a total of 174),\n",
    "# the fine-tuning methods create copies of our pipeline_model (that are untrained) \n",
    "# and since we fitted to a subset of the entire dataset, the subset was only able to capture\n",
    "# 168 features out of the total 174\n",
    "\n",
    "rnd_forest_gridcv_results[\"best_estimator_\"][:-1].transform(train_valid_test_data_features).shape"
   ]
  },
  {
   "cell_type": "code",
   "execution_count": 362,
   "metadata": {},
   "outputs": [
    {
     "name": "stdout",
     "output_type": "stream",
     "text": [
      "[ 1  2  3  4  5  6  7  8  9 10 11 12 13 14 15 16 17 18 19 20 21 22 23 24\n",
      " 25 26 27 28 29 30 31 32]\n",
      "\n",
      "['a' 'b' 'c' 'd' 'e' 'f' 'g']\n",
      "\n",
      "[ 1  2  3  4  5  6  7  9 10 11 13]\n",
      "\n",
      "['X' 'Y' 'Z']\n",
      "\n",
      "[ 0  1  2  3  4  5  6  7  8  9 10 11 13 20]\n",
      "\n",
      "['TB & Chest disease' 'anesthesia' 'gynecology' 'radiotherapy' 'surgery']\n",
      "\n",
      "['P' 'Q' 'R' 'S' 'T']\n",
      "\n",
      "['A' 'B' 'C' 'D' 'E' 'F']\n",
      "\n",
      "[1. 2. 3. 4.]\n",
      "\n",
      "[ 1.  2.  3.  4.  5.  6.  7.  8.  9. 10. 11. 12. 13. 14. 15. 16. 18. 19.\n",
      " 20. 21. 22. 23. 24. 25. 26. 27. 28. 29. 30. 31. 32. 33. 34. 35. 36. 37.\n",
      " 38.]\n",
      "\n",
      "['Emergency' 'Trauma' 'Urgent']\n",
      "\n",
      "['Extreme' 'Minor' 'Moderate']\n",
      "\n",
      "[ 0  1  2  3  4  5  6  7  8  9 10 11 12 13 14 15 16 17 18 19 20 22 23 24\n",
      " 25 30 32]\n",
      "\n",
      "['0-10' '11-20' '21-30' '31-40' '41-50' '51-60' '61-70' '71-80' '81-90'\n",
      " '91-100']\n",
      "\n"
     ]
    }
   ],
   "source": [
    "# first, lets print the categories\n",
    "for i in h.named_steps[\"one_hot_encoder\"].categories_:\n",
    "    print(i)\n",
    "    print(\"\")"
   ]
  },
  {
   "cell_type": "code",
   "execution_count": 363,
   "metadata": {},
   "outputs": [
    {
     "data": {
      "text/plain": [
       "{'case_id': 318438,\n",
       " 'Hospital_code': 32,\n",
       " 'Hospital_type_code': 7,\n",
       " 'City_Code_Hospital': 11,\n",
       " 'Hospital_region_code': 3,\n",
       " 'Available Extra Rooms in Hospital': 18,\n",
       " 'Department': 5,\n",
       " 'Ward_Type': 6,\n",
       " 'Ward_Facility_Code': 6,\n",
       " 'Bed Grade': 4,\n",
       " 'patientid': 92017,\n",
       " 'City_Code_Patient': 37,\n",
       " 'Type of Admission': 3,\n",
       " 'Severity of Illness': 3,\n",
       " 'Visitors with Patient': 28,\n",
       " 'Age': 10,\n",
       " 'Admission_Deposit': 7300,\n",
       " 'Stay': 11}"
      ]
     },
     "execution_count": 363,
     "metadata": {},
     "output_type": "execute_result"
    }
   ],
   "source": [
    "unique_value_counts"
   ]
  },
  {
   "cell_type": "code",
   "execution_count": 364,
   "metadata": {},
   "outputs": [],
   "source": [
    "# if we wanted to, we could deepcopy our original pipeline (just 1 of them, we don't need all of them since they all\n",
    "# do essentially the same thing —with no hyperparameters attached worth changing), then use our deepcopied pipeline\n",
    "# to first transform the dataset before we let the fine-tuning algorithm fit() to it\n",
    "# however, granted that it is only 8 features (and they are guaranteed to be highly obscure), it wouldn't render much\n",
    "# data loss and can be neglected (and plus, we would have to rerun our fine-tuning fit() for all models)"
   ]
  },
  {
   "cell_type": "code",
   "execution_count": 365,
   "metadata": {},
   "outputs": [
    {
     "data": {
      "text/plain": [
       "['Hospital_code: 1',\n",
       " 'Hospital_code: 2',\n",
       " 'Hospital_code: 3',\n",
       " 'Hospital_code: 4',\n",
       " 'Hospital_code: 5',\n",
       " 'Hospital_code: 6',\n",
       " 'Hospital_code: 7',\n",
       " 'Hospital_code: 8',\n",
       " 'Hospital_code: 9',\n",
       " 'Hospital_code: 10',\n",
       " 'Hospital_code: 11',\n",
       " 'Hospital_code: 12',\n",
       " 'Hospital_code: 13',\n",
       " 'Hospital_code: 14',\n",
       " 'Hospital_code: 15',\n",
       " 'Hospital_code: 16',\n",
       " 'Hospital_code: 17',\n",
       " 'Hospital_code: 18',\n",
       " 'Hospital_code: 19',\n",
       " 'Hospital_code: 20',\n",
       " 'Hospital_code: 21',\n",
       " 'Hospital_code: 22',\n",
       " 'Hospital_code: 23',\n",
       " 'Hospital_code: 24',\n",
       " 'Hospital_code: 25',\n",
       " 'Hospital_code: 26',\n",
       " 'Hospital_code: 27',\n",
       " 'Hospital_code: 28',\n",
       " 'Hospital_code: 29',\n",
       " 'Hospital_code: 30',\n",
       " 'Hospital_code: 31',\n",
       " 'Hospital_code: 32',\n",
       " 'Hospital_type_code: a',\n",
       " 'Hospital_type_code: b',\n",
       " 'Hospital_type_code: c',\n",
       " 'Hospital_type_code: d',\n",
       " 'Hospital_type_code: e',\n",
       " 'Hospital_type_code: f',\n",
       " 'Hospital_type_code: g',\n",
       " 'City_Code_Hospital: 1',\n",
       " 'City_Code_Hospital: 2',\n",
       " 'City_Code_Hospital: 3',\n",
       " 'City_Code_Hospital: 4',\n",
       " 'City_Code_Hospital: 5',\n",
       " 'City_Code_Hospital: 6',\n",
       " 'City_Code_Hospital: 7',\n",
       " 'City_Code_Hospital: 9',\n",
       " 'City_Code_Hospital: 10',\n",
       " 'City_Code_Hospital: 11',\n",
       " 'City_Code_Hospital: 13',\n",
       " 'Hospital_region_code: X',\n",
       " 'Hospital_region_code: Y',\n",
       " 'Hospital_region_code: Z',\n",
       " 'Available Extra Rooms in Hospital: 0',\n",
       " 'Available Extra Rooms in Hospital: 1',\n",
       " 'Available Extra Rooms in Hospital: 2',\n",
       " 'Available Extra Rooms in Hospital: 3',\n",
       " 'Available Extra Rooms in Hospital: 4',\n",
       " 'Available Extra Rooms in Hospital: 5',\n",
       " 'Available Extra Rooms in Hospital: 6',\n",
       " 'Available Extra Rooms in Hospital: 7',\n",
       " 'Available Extra Rooms in Hospital: 8',\n",
       " 'Available Extra Rooms in Hospital: 9',\n",
       " 'Available Extra Rooms in Hospital: 10',\n",
       " 'Available Extra Rooms in Hospital: 11',\n",
       " 'Available Extra Rooms in Hospital: 13',\n",
       " 'Available Extra Rooms in Hospital: 20',\n",
       " 'Department: TB & Chest disease',\n",
       " 'Department: anesthesia',\n",
       " 'Department: gynecology',\n",
       " 'Department: radiotherapy',\n",
       " 'Department: surgery',\n",
       " 'Ward_Type: P',\n",
       " 'Ward_Type: Q',\n",
       " 'Ward_Type: R',\n",
       " 'Ward_Type: S',\n",
       " 'Ward_Type: T',\n",
       " 'Ward_Facility_Code: A',\n",
       " 'Ward_Facility_Code: B',\n",
       " 'Ward_Facility_Code: C',\n",
       " 'Ward_Facility_Code: D',\n",
       " 'Ward_Facility_Code: E',\n",
       " 'Ward_Facility_Code: F',\n",
       " 'Bed Grade: 1.0',\n",
       " 'Bed Grade: 2.0',\n",
       " 'Bed Grade: 3.0',\n",
       " 'Bed Grade: 4.0',\n",
       " 'City_Code_Patient: 1.0',\n",
       " 'City_Code_Patient: 2.0',\n",
       " 'City_Code_Patient: 3.0',\n",
       " 'City_Code_Patient: 4.0',\n",
       " 'City_Code_Patient: 5.0',\n",
       " 'City_Code_Patient: 6.0',\n",
       " 'City_Code_Patient: 7.0',\n",
       " 'City_Code_Patient: 8.0',\n",
       " 'City_Code_Patient: 9.0',\n",
       " 'City_Code_Patient: 10.0',\n",
       " 'City_Code_Patient: 11.0',\n",
       " 'City_Code_Patient: 12.0',\n",
       " 'City_Code_Patient: 13.0',\n",
       " 'City_Code_Patient: 14.0',\n",
       " 'City_Code_Patient: 15.0',\n",
       " 'City_Code_Patient: 16.0',\n",
       " 'City_Code_Patient: 18.0',\n",
       " 'City_Code_Patient: 19.0',\n",
       " 'City_Code_Patient: 20.0',\n",
       " 'City_Code_Patient: 21.0',\n",
       " 'City_Code_Patient: 22.0',\n",
       " 'City_Code_Patient: 23.0',\n",
       " 'City_Code_Patient: 24.0',\n",
       " 'City_Code_Patient: 25.0',\n",
       " 'City_Code_Patient: 26.0',\n",
       " 'City_Code_Patient: 27.0',\n",
       " 'City_Code_Patient: 28.0',\n",
       " 'City_Code_Patient: 29.0',\n",
       " 'City_Code_Patient: 30.0',\n",
       " 'City_Code_Patient: 31.0',\n",
       " 'City_Code_Patient: 32.0',\n",
       " 'City_Code_Patient: 33.0',\n",
       " 'City_Code_Patient: 34.0',\n",
       " 'City_Code_Patient: 35.0',\n",
       " 'City_Code_Patient: 36.0',\n",
       " 'City_Code_Patient: 37.0',\n",
       " 'City_Code_Patient: 38.0',\n",
       " 'Type of Admission: Emergency',\n",
       " 'Type of Admission: Trauma',\n",
       " 'Type of Admission: Urgent',\n",
       " 'Severity of Illness: Extreme',\n",
       " 'Severity of Illness: Minor',\n",
       " 'Severity of Illness: Moderate',\n",
       " 'Visitors with Patient: 0',\n",
       " 'Visitors with Patient: 1',\n",
       " 'Visitors with Patient: 2',\n",
       " 'Visitors with Patient: 3',\n",
       " 'Visitors with Patient: 4',\n",
       " 'Visitors with Patient: 5',\n",
       " 'Visitors with Patient: 6',\n",
       " 'Visitors with Patient: 7',\n",
       " 'Visitors with Patient: 8',\n",
       " 'Visitors with Patient: 9',\n",
       " 'Visitors with Patient: 10',\n",
       " 'Visitors with Patient: 11',\n",
       " 'Visitors with Patient: 12',\n",
       " 'Visitors with Patient: 13',\n",
       " 'Visitors with Patient: 14',\n",
       " 'Visitors with Patient: 15',\n",
       " 'Visitors with Patient: 16',\n",
       " 'Visitors with Patient: 17',\n",
       " 'Visitors with Patient: 18',\n",
       " 'Visitors with Patient: 19',\n",
       " 'Visitors with Patient: 20',\n",
       " 'Visitors with Patient: 22',\n",
       " 'Visitors with Patient: 23',\n",
       " 'Visitors with Patient: 24',\n",
       " 'Visitors with Patient: 25',\n",
       " 'Visitors with Patient: 30',\n",
       " 'Visitors with Patient: 32',\n",
       " 'Age: 0-10',\n",
       " 'Age: 11-20',\n",
       " 'Age: 21-30',\n",
       " 'Age: 31-40',\n",
       " 'Age: 41-50',\n",
       " 'Age: 51-60',\n",
       " 'Age: 61-70',\n",
       " 'Age: 71-80',\n",
       " 'Age: 81-90',\n",
       " 'Age: 91-100']"
      ]
     },
     "execution_count": 365,
     "metadata": {},
     "output_type": "execute_result"
    }
   ],
   "source": [
    "cat_attribs = [\n",
    "    \"Hospital_code\",\n",
    "    \"Hospital_type_code\",\n",
    "    \"City_Code_Hospital\",\n",
    "    \"Hospital_region_code\",\n",
    "    \"Available Extra Rooms in Hospital\",\n",
    "    \"Department\",\n",
    "    \"Ward_Type\",\n",
    "    \"Ward_Facility_Code\",\n",
    "    \"Bed Grade\",\n",
    "    \"City_Code_Patient\",\n",
    "    \"Type of Admission\",\n",
    "    \"Severity of Illness\",\n",
    "    \"Visitors with Patient\",\n",
    "    \"Age\",\n",
    "]\n",
    "\n",
    "categories = []\n",
    "for cat_attrib, attribute in zip(cat_attribs, h.named_steps[\"one_hot_encoder\"].categories_):\n",
    "    for category in attribute:\n",
    "         categories.append(cat_attrib + \": \" + str(category))\n",
    "            \n",
    "categories"
   ]
  },
  {
   "cell_type": "code",
   "execution_count": 366,
   "metadata": {},
   "outputs": [
    {
     "data": {
      "text/plain": [
       "[(0.1611169086087857, 'Admission_Deposit'),\n",
       " (0.02463536096600061, 'City_Code_Patient: 8.0'),\n",
       " (0.024357883278643976, 'Age: 41-50'),\n",
       " (0.02338002362563904, 'Age: 31-40'),\n",
       " (0.02184677543096877, 'Available Extra Rooms in Hospital: 3'),\n",
       " (0.021589123630295845, 'Visitors with Patient: 2'),\n",
       " (0.02083051138123973, 'Age: 51-60'),\n",
       " (0.019520468270412764, 'Available Extra Rooms in Hospital: 4'),\n",
       " (0.01919327710908006, 'Available Extra Rooms in Hospital: 2'),\n",
       " (0.018788138573471298, 'Severity of Illness: Moderate'),\n",
       " (0.01803942686325996, 'Department: gynecology'),\n",
       " (0.01797977963700207, 'Age: 21-30'),\n",
       " (0.01705777711019681, 'Age: 71-80'),\n",
       " (0.01680340442011793, 'Visitors with Patient: 4'),\n",
       " (0.016749011283009242, 'Bed Grade: 3.0'),\n",
       " (0.016598834062132143, 'Age: 61-70'),\n",
       " (0.015947170400682175, 'Bed Grade: 2.0'),\n",
       " (0.015301480898294015, 'City_Code_Patient: 2.0'),\n",
       " (0.0152472487419345, 'Ward_Type: Q'),\n",
       " (0.014598418168064948, 'Severity of Illness: Minor'),\n",
       " (0.014270207462273012, 'Bed Grade: 4.0'),\n",
       " (0.01419495533136997, 'Severity of Illness: Extreme'),\n",
       " (0.013841250171368167, 'Type of Admission: Trauma'),\n",
       " (0.013633725451149959, 'Ward_Type: R'),\n",
       " (0.013418245736899254, 'Ward_Type: S'),\n",
       " (0.013124860976641603, 'Visitors with Patient: 3'),\n",
       " (0.012675405428708661, 'Type of Admission: Emergency'),\n",
       " (0.012076638459559816, 'City_Code_Patient: 7.0'),\n",
       " (0.01202104083122396, 'Department: radiotherapy'),\n",
       " (0.011830597452750866, 'City_Code_Patient: 1.0'),\n",
       " (0.01176365428999842, 'Type of Admission: Urgent'),\n",
       " (0.011642792184239616, 'Visitors with Patient: 6'),\n",
       " (0.011113714286479393, 'City_Code_Patient: 5.0'),\n",
       " (0.010076536474528459, 'Department: anesthesia'),\n",
       " (0.009717087221295273, 'Age: 11-20'),\n",
       " (0.009178401410747897, 'City_Code_Patient: 4.0'),\n",
       " (0.009158303281680099, 'Bed Grade: 1.0'),\n",
       " (0.009061472156309699, 'Available Extra Rooms in Hospital: 5'),\n",
       " (0.007956086138660098, 'City_Code_Patient: 9.0'),\n",
       " (0.006777603407375911, 'City_Code_Patient: 15.0'),\n",
       " (0.006770485054166423, 'Hospital_type_code: a'),\n",
       " (0.006633091853632516, 'Visitors with Patient: 5'),\n",
       " (0.006398115397055581, 'Age: 81-90'),\n",
       " (0.005973783310638577, 'Ward_Facility_Code: F'),\n",
       " (0.005475102441343277, 'Department: TB & Chest disease'),\n",
       " (0.0053614164178503974, 'Hospital_code: 23'),\n",
       " (0.005125543900468348, 'City_Code_Patient: 10.0'),\n",
       " (0.004996520929804591, 'Age: 0-10'),\n",
       " (0.004839971064827695, 'Hospital_code: 6'),\n",
       " (0.004791565936266162, 'Available Extra Rooms in Hospital: 6'),\n",
       " (0.004604447501640084, 'Visitors with Patient: 8'),\n",
       " (0.004427249134148086, 'City_Code_Patient: 6.0'),\n",
       " (0.00441001011822299, 'Hospital_region_code: X'),\n",
       " (0.0043593377689217574, 'City_Code_Hospital: 6'),\n",
       " (0.004249176474714658, 'Available Extra Rooms in Hospital: 1'),\n",
       " (0.004189401094892178, 'City_Code_Patient: 12.0'),\n",
       " (0.004149467785843731, 'Hospital_code: 14'),\n",
       " (0.0039535652112804, 'Hospital_code: 26'),\n",
       " (0.003842300364646153, 'Ward_Facility_Code: E'),\n",
       " (0.0038191241316156204, 'City_Code_Hospital: 1'),\n",
       " (0.0037927921114493442, 'Hospital_region_code: Y'),\n",
       " (0.003784307154160413, 'Hospital_type_code: c'),\n",
       " (0.0037427058616407677, 'Hospital_region_code: Z'),\n",
       " (0.003708772175747528, 'City_Code_Hospital: 5'),\n",
       " (0.0035895074060368097, 'Hospital_type_code: d'),\n",
       " (0.0034532889075256723, 'City_Code_Patient: 3.0'),\n",
       " (0.003326705813322292, 'Hospital_type_code: b'),\n",
       " (0.003324854103850526, 'Hospital_type_code: e'),\n",
       " (0.0031841341949075813, 'City_Code_Patient: 23.0'),\n",
       " (0.003181581432290385, 'Hospital_code: 11'),\n",
       " (0.003082226592169046, 'City_Code_Hospital: 3'),\n",
       " (0.0030626854811823152, 'Hospital_code: 25'),\n",
       " (0.003021258131946328, 'Ward_Facility_Code: A'),\n",
       " (0.003018053120862453, 'Ward_Facility_Code: B'),\n",
       " (0.0029653375992057655, 'Ward_Type: P'),\n",
       " (0.002921442444812318, 'City_Code_Hospital: 4'),\n",
       " (0.002908338991795217, 'Hospital_code: 29'),\n",
       " (0.002774077734279189, 'Hospital_code: 10'),\n",
       " (0.0027635557269008017, 'City_Code_Hospital: 9'),\n",
       " (0.0026971103406230475, 'Hospital_code: 24'),\n",
       " (0.0026903315548848306, 'Hospital_code: 21'),\n",
       " (0.002633618677454848, 'Hospital_code: 3'),\n",
       " (0.0026281433054078903, 'Hospital_code: 15'),\n",
       " (0.002616732408061321, 'City_Code_Patient: 14.0'),\n",
       " (0.002516294874212191, 'Visitors with Patient: 7'),\n",
       " (0.0024665069889225452, 'Hospital_code: 9'),\n",
       " (0.0023580327542033503, 'Hospital_code: 5'),\n",
       " (0.002287409510690021, 'Ward_Facility_Code: D'),\n",
       " (0.0022578141765404185, 'Hospital_code: 19'),\n",
       " (0.0022467923061709554, 'Hospital_code: 30'),\n",
       " (0.0022380015754403407, 'City_Code_Hospital: 2'),\n",
       " (0.0022221715445964896, 'Hospital_code: 12'),\n",
       " (0.0021947857616779008, 'City_Code_Patient: 16.0'),\n",
       " (0.0021928986236631445, 'Hospital_code: 31'),\n",
       " (0.002148410538237926, 'Ward_Facility_Code: C'),\n",
       " (0.0021273576871020873, 'City_Code_Hospital: 7'),\n",
       " (0.0020164302113117416, 'Hospital_code: 27'),\n",
       " (0.0019980379682374887, 'Available Extra Rooms in Hospital: 7'),\n",
       " (0.0019380470194256495, 'Hospital_code: 16'),\n",
       " (0.001839335002315864, 'Hospital_code: 28'),\n",
       " (0.001810737505533585, 'City_Code_Hospital: 11'),\n",
       " (0.001788983956705532, 'Hospital_code: 2'),\n",
       " (0.0017095107323027744, 'Visitors with Patient: 10'),\n",
       " (0.001697814336998212, 'City_Code_Patient: 13.0'),\n",
       " (0.001666533336840961, 'Hospital_code: 17'),\n",
       " (0.0015706155866424126, 'Visitors with Patient: 9'),\n",
       " (0.0014519612287088846, 'Hospital_code: 8'),\n",
       " (0.0014519347523888003, 'City_Code_Hospital: 10'),\n",
       " (0.0014515085850514736, 'City_Code_Patient: 21.0'),\n",
       " (0.0014283133986884976, 'Hospital_code: 1'),\n",
       " (0.0013730597220441211, 'City_Code_Patient: 20.0'),\n",
       " (0.0013604502295880413, 'Age: 91-100'),\n",
       " (0.0013568615657918292, 'Hospital_code: 32'),\n",
       " (0.00134796846547244, 'Hospital_code: 13'),\n",
       " (0.0013461135415720868, 'Visitors with Patient: 12'),\n",
       " (0.001325220503303369, 'Hospital_type_code: f'),\n",
       " (0.0012454549321523874, 'City_Code_Patient: 18.0'),\n",
       " (0.0012308688846844524, 'Hospital_type_code: g'),\n",
       " (0.0012276217626563453, 'Hospital_code: 22'),\n",
       " (0.001171285373916431, 'City_Code_Patient: 26.0'),\n",
       " (0.0011551144207184367, 'Visitors with Patient: 1'),\n",
       " (0.0010660096868149705, 'City_Code_Patient: 19.0'),\n",
       " (0.0010282507908031624, 'Hospital_code: 18'),\n",
       " (0.00102152252105734, 'City_Code_Hospital: 13'),\n",
       " (0.0010084318033902733, 'Department: surgery'),\n",
       " (0.0008489538779358476, 'Ward_Type: T'),\n",
       " (0.0008037359146350551, 'Hospital_code: 7'),\n",
       " (0.0007993062415431124, 'City_Code_Patient: 25.0'),\n",
       " (0.0007922347481648807, 'Hospital_code: 4'),\n",
       " (0.000783907971759073, 'Available Extra Rooms in Hospital: 8'),\n",
       " (0.0007337460559702143, 'City_Code_Patient: 27.0'),\n",
       " (0.0007293380049971033, 'City_Code_Patient: 11.0'),\n",
       " (0.0006733313903444143, 'Hospital_code: 20'),\n",
       " (0.0005367020488210396, 'City_Code_Patient: 28.0'),\n",
       " (0.0004683661013636425, 'Visitors with Patient: 11'),\n",
       " (0.0004425221319052474, 'City_Code_Patient: 24.0'),\n",
       " (0.00036822970437871234, 'City_Code_Patient: 22.0'),\n",
       " (0.0003322771948002938, 'Visitors with Patient: 16'),\n",
       " (0.00030620168897258366, 'Visitors with Patient: 14'),\n",
       " (0.0002201953382320298, 'Visitors with Patient: 15'),\n",
       " (0.00017463472648435733, 'Available Extra Rooms in Hospital: 9'),\n",
       " (0.00016230243023111586, 'Visitors with Patient: 13'),\n",
       " (0.00014656439859711938, 'City_Code_Patient: 30.0'),\n",
       " (0.00013208741101648774, 'Visitors with Patient: 24'),\n",
       " (0.0001174356896132407, 'City_Code_Patient: 29.0'),\n",
       " (9.820669031856136e-05, 'Visitors with Patient: 20'),\n",
       " (8.453975428349487e-05, 'City_Code_Patient: 37.0'),\n",
       " (7.170290114423733e-05, 'City_Code_Patient: 33.0'),\n",
       " (6.190491584388738e-05, 'Visitors with Patient: 18'),\n",
       " (6.0264412005216406e-05, 'Available Extra Rooms in Hospital: 10'),\n",
       " (5.136349383939031e-05, 'City_Code_Patient: 32.0'),\n",
       " (4.2195409581987573e-05, 'Visitors with Patient: 0'),\n",
       " (3.756881943851335e-05, 'City_Code_Patient: 31.0'),\n",
       " (3.6180615048970144e-05, 'City_Code_Patient: 34.0'),\n",
       " (3.364503013540948e-05, 'Visitors with Patient: 17'),\n",
       " (2.375809903220933e-05, 'Visitors with Patient: 25'),\n",
       " (2.3417221909380045e-05, 'Visitors with Patient: 30'),\n",
       " (2.0058383286253495e-05, 'Available Extra Rooms in Hospital: 0'),\n",
       " (1.2706106349127353e-05, 'Visitors with Patient: 23'),\n",
       " (1.1842061820361385e-05, 'Visitors with Patient: 19'),\n",
       " (1.1046204998548677e-05, 'Visitors with Patient: 32'),\n",
       " (1.0803560712722961e-05, 'Visitors with Patient: 22'),\n",
       " (1.0689336868382055e-05, 'Available Extra Rooms in Hospital: 20'),\n",
       " (8.152911332441271e-06, 'Available Extra Rooms in Hospital: 11'),\n",
       " (7.861100758936098e-06, 'City_Code_Patient: 38.0'),\n",
       " (6.577185536854532e-06, 'City_Code_Patient: 35.0'),\n",
       " (4.486905284404548e-06, 'City_Code_Patient: 36.0'),\n",
       " (3.643869142630618e-06, 'Available Extra Rooms in Hospital: 13')]"
      ]
     },
     "execution_count": 366,
     "metadata": {},
     "output_type": "execute_result"
    }
   ],
   "source": [
    "numericals = [\"Admission_Deposit\"] \n",
    "attributes = numericals + categories\n",
    "sorted_feature_importances = sorted(zip(feature_importances, attributes), reverse=True)\n",
    "sorted_feature_importances"
   ]
  },
  {
   "cell_type": "code",
   "execution_count": 367,
   "metadata": {
    "scrolled": true
   },
   "outputs": [
    {
     "data": {
      "text/plain": [
       "['Admission_Deposit',\n",
       " 'Hospital_code: 1',\n",
       " 'Hospital_code: 2',\n",
       " 'Hospital_code: 3',\n",
       " 'Hospital_code: 4',\n",
       " 'Hospital_code: 5',\n",
       " 'Hospital_code: 6',\n",
       " 'Hospital_code: 7',\n",
       " 'Hospital_code: 8',\n",
       " 'Hospital_code: 9',\n",
       " 'Hospital_code: 10',\n",
       " 'Hospital_code: 11',\n",
       " 'Hospital_code: 12',\n",
       " 'Hospital_code: 13',\n",
       " 'Hospital_code: 14',\n",
       " 'Hospital_code: 15',\n",
       " 'Hospital_code: 16',\n",
       " 'Hospital_code: 17',\n",
       " 'Hospital_code: 18',\n",
       " 'Hospital_code: 19',\n",
       " 'Hospital_code: 20',\n",
       " 'Hospital_code: 21',\n",
       " 'Hospital_code: 22',\n",
       " 'Hospital_code: 23',\n",
       " 'Hospital_code: 24',\n",
       " 'Hospital_code: 25',\n",
       " 'Hospital_code: 26',\n",
       " 'Hospital_code: 27',\n",
       " 'Hospital_code: 28',\n",
       " 'Hospital_code: 29',\n",
       " 'Hospital_code: 30',\n",
       " 'Hospital_code: 31',\n",
       " 'Hospital_code: 32',\n",
       " 'Hospital_type_code: a',\n",
       " 'Hospital_type_code: b',\n",
       " 'Hospital_type_code: c',\n",
       " 'Hospital_type_code: d',\n",
       " 'Hospital_type_code: e',\n",
       " 'Hospital_type_code: f',\n",
       " 'Hospital_type_code: g',\n",
       " 'City_Code_Hospital: 1',\n",
       " 'City_Code_Hospital: 2',\n",
       " 'City_Code_Hospital: 3',\n",
       " 'City_Code_Hospital: 4',\n",
       " 'City_Code_Hospital: 5',\n",
       " 'City_Code_Hospital: 6',\n",
       " 'City_Code_Hospital: 7',\n",
       " 'City_Code_Hospital: 9',\n",
       " 'City_Code_Hospital: 10',\n",
       " 'City_Code_Hospital: 11',\n",
       " 'City_Code_Hospital: 13',\n",
       " 'Hospital_region_code: X',\n",
       " 'Hospital_region_code: Y',\n",
       " 'Hospital_region_code: Z',\n",
       " 'Available Extra Rooms in Hospital: 0',\n",
       " 'Available Extra Rooms in Hospital: 1',\n",
       " 'Available Extra Rooms in Hospital: 2',\n",
       " 'Available Extra Rooms in Hospital: 3',\n",
       " 'Available Extra Rooms in Hospital: 4',\n",
       " 'Available Extra Rooms in Hospital: 5',\n",
       " 'Available Extra Rooms in Hospital: 6',\n",
       " 'Available Extra Rooms in Hospital: 7',\n",
       " 'Available Extra Rooms in Hospital: 8',\n",
       " 'Available Extra Rooms in Hospital: 9',\n",
       " 'Available Extra Rooms in Hospital: 10',\n",
       " 'Available Extra Rooms in Hospital: 11',\n",
       " 'Available Extra Rooms in Hospital: 13',\n",
       " 'Available Extra Rooms in Hospital: 20',\n",
       " 'Department: TB & Chest disease',\n",
       " 'Department: anesthesia',\n",
       " 'Department: gynecology',\n",
       " 'Department: radiotherapy',\n",
       " 'Department: surgery',\n",
       " 'Ward_Type: P',\n",
       " 'Ward_Type: Q',\n",
       " 'Ward_Type: R',\n",
       " 'Ward_Type: S',\n",
       " 'Ward_Type: T',\n",
       " 'Ward_Facility_Code: A',\n",
       " 'Ward_Facility_Code: B',\n",
       " 'Ward_Facility_Code: C',\n",
       " 'Ward_Facility_Code: D',\n",
       " 'Ward_Facility_Code: E',\n",
       " 'Ward_Facility_Code: F',\n",
       " 'Bed Grade: 1.0',\n",
       " 'Bed Grade: 2.0',\n",
       " 'Bed Grade: 3.0',\n",
       " 'Bed Grade: 4.0',\n",
       " 'City_Code_Patient: 1.0',\n",
       " 'City_Code_Patient: 2.0',\n",
       " 'City_Code_Patient: 3.0',\n",
       " 'City_Code_Patient: 4.0',\n",
       " 'City_Code_Patient: 5.0',\n",
       " 'City_Code_Patient: 6.0',\n",
       " 'City_Code_Patient: 7.0',\n",
       " 'City_Code_Patient: 8.0',\n",
       " 'City_Code_Patient: 9.0',\n",
       " 'City_Code_Patient: 10.0',\n",
       " 'City_Code_Patient: 11.0',\n",
       " 'City_Code_Patient: 12.0',\n",
       " 'City_Code_Patient: 13.0',\n",
       " 'City_Code_Patient: 14.0',\n",
       " 'City_Code_Patient: 15.0',\n",
       " 'City_Code_Patient: 16.0',\n",
       " 'City_Code_Patient: 18.0',\n",
       " 'City_Code_Patient: 19.0',\n",
       " 'City_Code_Patient: 20.0',\n",
       " 'City_Code_Patient: 21.0',\n",
       " 'City_Code_Patient: 22.0',\n",
       " 'City_Code_Patient: 23.0',\n",
       " 'City_Code_Patient: 24.0',\n",
       " 'City_Code_Patient: 25.0',\n",
       " 'City_Code_Patient: 26.0',\n",
       " 'City_Code_Patient: 27.0',\n",
       " 'City_Code_Patient: 28.0',\n",
       " 'City_Code_Patient: 29.0',\n",
       " 'City_Code_Patient: 30.0',\n",
       " 'City_Code_Patient: 31.0',\n",
       " 'City_Code_Patient: 32.0',\n",
       " 'City_Code_Patient: 33.0',\n",
       " 'City_Code_Patient: 34.0',\n",
       " 'City_Code_Patient: 35.0',\n",
       " 'City_Code_Patient: 36.0',\n",
       " 'City_Code_Patient: 37.0',\n",
       " 'City_Code_Patient: 38.0',\n",
       " 'Type of Admission: Emergency',\n",
       " 'Type of Admission: Trauma',\n",
       " 'Type of Admission: Urgent',\n",
       " 'Severity of Illness: Extreme',\n",
       " 'Severity of Illness: Minor',\n",
       " 'Severity of Illness: Moderate',\n",
       " 'Visitors with Patient: 0',\n",
       " 'Visitors with Patient: 1',\n",
       " 'Visitors with Patient: 2',\n",
       " 'Visitors with Patient: 3',\n",
       " 'Visitors with Patient: 4',\n",
       " 'Visitors with Patient: 5',\n",
       " 'Visitors with Patient: 6',\n",
       " 'Visitors with Patient: 7',\n",
       " 'Visitors with Patient: 8',\n",
       " 'Visitors with Patient: 9',\n",
       " 'Visitors with Patient: 10',\n",
       " 'Visitors with Patient: 11',\n",
       " 'Visitors with Patient: 12',\n",
       " 'Visitors with Patient: 13',\n",
       " 'Visitors with Patient: 14',\n",
       " 'Visitors with Patient: 15',\n",
       " 'Visitors with Patient: 16',\n",
       " 'Visitors with Patient: 17',\n",
       " 'Visitors with Patient: 18',\n",
       " 'Visitors with Patient: 19',\n",
       " 'Visitors with Patient: 20',\n",
       " 'Visitors with Patient: 22',\n",
       " 'Visitors with Patient: 23',\n",
       " 'Visitors with Patient: 24',\n",
       " 'Visitors with Patient: 25',\n",
       " 'Visitors with Patient: 30',\n",
       " 'Visitors with Patient: 32',\n",
       " 'Age: 0-10',\n",
       " 'Age: 11-20',\n",
       " 'Age: 21-30',\n",
       " 'Age: 31-40',\n",
       " 'Age: 41-50',\n",
       " 'Age: 51-60',\n",
       " 'Age: 61-70',\n",
       " 'Age: 71-80',\n",
       " 'Age: 81-90',\n",
       " 'Age: 91-100']"
      ]
     },
     "execution_count": 367,
     "metadata": {},
     "output_type": "execute_result"
    }
   ],
   "source": [
    "attributes"
   ]
  },
  {
   "cell_type": "code",
   "execution_count": 368,
   "metadata": {},
   "outputs": [
    {
     "data": {
      "text/plain": [
       "dict_items([('selector', DataFrameSelector(attribute_names=['Hospital_code', 'Hospital_type_code',\n",
       "                                   'City_Code_Hospital', 'Hospital_region_code',\n",
       "                                   'Available Extra Rooms in Hospital',\n",
       "                                   'Department', 'Ward_Type',\n",
       "                                   'Ward_Facility_Code', 'Bed Grade',\n",
       "                                   'City_Code_Patient', 'Type of Admission',\n",
       "                                   'Severity of Illness',\n",
       "                                   'Visitors with Patient', 'Age',\n",
       "                                   'Admission_Deposit'])), ('col_transformer', ColumnTransformer(transformers=[('num_pipeline',\n",
       "                                 Pipeline(steps=[('scaler', StandardScaler())]),\n",
       "                                 ['Admission_Deposit']),\n",
       "                                ('cat_pipeline',\n",
       "                                 Pipeline(steps=[('most_frequent_imputer',\n",
       "                                                  MostFrequentImputer()),\n",
       "                                                 ('one_hot_encoder',\n",
       "                                                  OneHotEncoder(handle_unknown='ignore'))]),\n",
       "                                 ['Hospital_code', 'Hospital_type_code',\n",
       "                                  'City_Code_Hospital', 'Hospital_region_code',\n",
       "                                  'Available Extra Rooms in Hospital',\n",
       "                                  'Department', 'Ward_Type',\n",
       "                                  'Ward_Facility_Code', 'Bed Grade',\n",
       "                                  'City_Code_Patient', 'Type of Admission',\n",
       "                                  'Severity of Illness',\n",
       "                                  'Visitors with Patient', 'Age'])])), ('LinearSVC', LinearSVC(C=0.1, dual=False, tol=0.01))])"
      ]
     },
     "execution_count": 368,
     "metadata": {},
     "output_type": "execute_result"
    }
   ],
   "source": [
    "linear_svc_tuned.named_steps.items()"
   ]
  },
  {
   "cell_type": "code",
   "execution_count": 369,
   "metadata": {},
   "outputs": [],
   "source": [
    "# assumption: you have already computed the feature importances\n",
    "# feature importance selector\n",
    "def indices_of_top_k(sorted_feature_importances, k):\n",
    "    top_features_list, index_of_top_features = [], []\n",
    "    for x in sorted_feature_importances[:k]:\n",
    "        top_features_list.append(x[1])\n",
    "\n",
    "    for x in top_features_list:\n",
    "        index_of_top_features.append(attributes.index(x))\n",
    "    return sorted(index_of_top_features)\n",
    "    \n",
    "    # return np.sort(np.argpartition(np.array(arr), -k)[-k:])\n",
    "\n",
    "class FeatureSelection(BaseEstimator, TransformerMixin):\n",
    "    def __init__(self, sorted_feature_importances, k):\n",
    "        self.sorted_feature_importances = sorted_feature_importances\n",
    "        self.k = k\n",
    "    def fit(self, X, y=None):\n",
    "        self.feature_indices_ = indices_of_top_k(self.sorted_feature_importances, self.k)\n",
    "        return self\n",
    "    def transform(self, X):\n",
    "        X_copy = X.copy()\n",
    "        if self.k > len(attributes):\n",
    "            return X_copy\n",
    "        elif self.k < len(attributes):\n",
    "            return X_copy\n",
    "        else:\n",
    "            return X_copy[:, self.feature_indices_]\n",
    "\n",
    "# takes a single pipeline_model\n",
    "def create_feature_selection_pipeline(pipeline_model, name_of_feature_selector, sorted_feature_importances, k=5):\n",
    "    list_of_components = []\n",
    "    counter = 0\n",
    "    # create a list of components containing only the pipeline first\n",
    "    for name, component in pipeline_model.named_steps.items():\n",
    "        if counter == len(pipeline_model) - 1: break\n",
    "        list_of_components.append((name, deepcopy(component)))\n",
    "        counter += 1\n",
    "        \n",
    "    # insert the feature selection component\n",
    "    feature_selector = FeatureSelection(sorted_feature_importances, k)\n",
    "    list_of_components.append((name_of_feature_selector, feature_selector))\n",
    "    \n",
    "    # finally insert the model\n",
    "    list_of_components.append((list(pipeline_model.named_steps.keys())[-1], deepcopy(pipeline_model[-1])))\n",
    "    return Pipeline(list_of_components)"
   ]
  },
  {
   "cell_type": "code",
   "execution_count": 370,
   "metadata": {
    "scrolled": true
   },
   "outputs": [],
   "source": [
    "# linearsvc fine-tuned with feature selection\n",
    "linearsvc_tuned_FS = create_feature_selection_pipeline(linear_svc_tuned, \"feature_selector\", sorted_feature_importances, k=10)"
   ]
  },
  {
   "cell_type": "code",
   "execution_count": 371,
   "metadata": {
    "scrolled": true
   },
   "outputs": [
    {
     "data": {
      "text/plain": [
       "{'selector': DataFrameSelector(attribute_names=['Hospital_code', 'Hospital_type_code',\n",
       "                                    'City_Code_Hospital', 'Hospital_region_code',\n",
       "                                    'Available Extra Rooms in Hospital',\n",
       "                                    'Department', 'Ward_Type',\n",
       "                                    'Ward_Facility_Code', 'Bed Grade',\n",
       "                                    'City_Code_Patient', 'Type of Admission',\n",
       "                                    'Severity of Illness',\n",
       "                                    'Visitors with Patient', 'Age',\n",
       "                                    'Admission_Deposit']),\n",
       " 'col_transformer': ColumnTransformer(transformers=[('num_pipeline',\n",
       "                                  Pipeline(steps=[('scaler', StandardScaler())]),\n",
       "                                  ['Admission_Deposit']),\n",
       "                                 ('cat_pipeline',\n",
       "                                  Pipeline(steps=[('most_frequent_imputer',\n",
       "                                                   MostFrequentImputer()),\n",
       "                                                  ('one_hot_encoder',\n",
       "                                                   OneHotEncoder(handle_unknown='ignore'))]),\n",
       "                                  ['Hospital_code', 'Hospital_type_code',\n",
       "                                   'City_Code_Hospital', 'Hospital_region_code',\n",
       "                                   'Available Extra Rooms in Hospital',\n",
       "                                   'Department', 'Ward_Type',\n",
       "                                   'Ward_Facility_Code', 'Bed Grade',\n",
       "                                   'City_Code_Patient', 'Type of Admission',\n",
       "                                   'Severity of Illness',\n",
       "                                   'Visitors with Patient', 'Age'])]),\n",
       " 'feature_selector': FeatureSelection(k=10,\n",
       "                  sorted_feature_importances=[(0.1611169086087857,\n",
       "                                               'Admission_Deposit'),\n",
       "                                              (0.02463536096600061,\n",
       "                                               'City_Code_Patient: 8.0'),\n",
       "                                              (0.024357883278643976,\n",
       "                                               'Age: 41-50'),\n",
       "                                              (0.02338002362563904,\n",
       "                                               'Age: 31-40'),\n",
       "                                              (0.02184677543096877,\n",
       "                                               'Available Extra Rooms in '\n",
       "                                               'Hospital: 3'),\n",
       "                                              (0.021589123630295845,\n",
       "                                               'Visitors with Patient: 2'),\n",
       "                                              (0.02083051138123973,\n",
       "                                               'Age: 51-60'),\n",
       "                                              (0.01...\n",
       "                                              (0.013841250171368167,\n",
       "                                               'Type of Admission: Trauma'),\n",
       "                                              (0.013633725451149959,\n",
       "                                               'Ward_Type: R'),\n",
       "                                              (0.013418245736899254,\n",
       "                                               'Ward_Type: S'),\n",
       "                                              (0.013124860976641603,\n",
       "                                               'Visitors with Patient: 3'),\n",
       "                                              (0.012675405428708661,\n",
       "                                               'Type of Admission: Emergency'),\n",
       "                                              (0.012076638459559816,\n",
       "                                               'City_Code_Patient: 7.0'),\n",
       "                                              (0.01202104083122396,\n",
       "                                               'Department: radiotherapy'),\n",
       "                                              (0.011830597452750866,\n",
       "                                               'City_Code_Patient: 1.0'), ...]),\n",
       " 'LinearSVC': LinearSVC(C=0.1, dual=False, tol=0.01)}"
      ]
     },
     "execution_count": 371,
     "metadata": {},
     "output_type": "execute_result"
    }
   ],
   "source": [
    "linearsvc_tuned_FS.named_steps"
   ]
  },
  {
   "cell_type": "code",
   "execution_count": 372,
   "metadata": {},
   "outputs": [],
   "source": [
    "# testing out our best performing model w/ k=5 feature importance selection\n",
    "\n",
    "already_tested = True\n",
    "if not already_tested:\n",
    "    scores = cross_val_score(linearsvc_tuned_FS, X_train, y_train, scoring=\"accuracy\", cv=5, n_jobs=-1)\n",
    "    \n",
    "# scores: array([0.39076048, 0.39109196, 0.39027199, 0.39093494, 0.38898775])\n",
    "# scores.mean(): 0.39040942440640114\n",
    "\n",
    "# slight benefit (though not much)"
   ]
  },
  {
   "cell_type": "code",
   "execution_count": null,
   "metadata": {},
   "outputs": [],
   "source": []
  }
 ],
 "metadata": {
  "kernelspec": {
   "display_name": "Python 3",
   "language": "python",
   "name": "python3"
  },
  "language_info": {
   "codemirror_mode": {
    "name": "ipython",
    "version": 3
   },
   "file_extension": ".py",
   "mimetype": "text/x-python",
   "name": "python",
   "nbconvert_exporter": "python",
   "pygments_lexer": "ipython3",
   "version": "3.7.9"
  }
 },
 "nbformat": 4,
 "nbformat_minor": 4
}
