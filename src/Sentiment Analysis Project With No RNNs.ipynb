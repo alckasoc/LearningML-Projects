{
 "cells": [
  {
   "cell_type": "markdown",
   "metadata": {},
   "source": [
    "# Sentiment Analysis Project with No RNNs"
   ]
  },
  {
   "cell_type": "code",
   "execution_count": 1,
   "metadata": {},
   "outputs": [],
   "source": [
    "import os \n",
    "import tensorflow as tf\n",
    "from tensorflow import keras\n",
    "import numpy as np"
   ]
  },
  {
   "cell_type": "code",
   "execution_count": 2,
   "metadata": {},
   "outputs": [],
   "source": [
    "# a\n",
    "def read_imdb(dataset_type, review_type):\n",
    "    \n",
    "    dataset_type, review_type = dataset_type.lower(), review_type.lower()\n",
    "    if dataset_type != \"train\" and dataset_type != \"test\": raise ValueError(\"Choose from train or test.\")\n",
    "    if review_type != \"pos\" and review_type != \"neg\": raise ValueError(\"Choose from pos or neg.\")    \n",
    "    \n",
    "    for roots, dirs, files in os.walk(\"./datasets/imdb/aclImdb/\" + dataset_type + \"/\" + review_type):\n",
    "        files = files\n",
    "    return files \n",
    "\n",
    "train_pos = read_imdb(\"train\", \"pos\")\n",
    "train_neg = read_imdb(\"train\", \"neg\")\n",
    "test_valid_pos = read_imdb(\"test\", \"pos\")\n",
    "test_valid_neg = read_imdb(\"test\", \"neg\")"
   ]
  },
  {
   "cell_type": "code",
   "execution_count": 3,
   "metadata": {},
   "outputs": [],
   "source": [
    "# b\n",
    "test_pos = test_valid_pos[:5000]\n",
    "test_neg = test_valid_neg[:5000]\n",
    "valid_pos = test_valid_pos[5000:]\n",
    "valid_neg = test_valid_neg[5000:]"
   ]
  },
  {
   "cell_type": "code",
   "execution_count": 4,
   "metadata": {},
   "outputs": [],
   "source": [
    "# c\n",
    "\n",
    "# TextLineDataset for if you want to pretend that it can't be stored in memory\n",
    "\n",
    "def write_dataset(filepaths, dataset_type, review_type):\n",
    "    reviews, labels = [], []\n",
    "    if review_type.lower() == \"pos\": label = 1\n",
    "    elif review_type.lower() == \"neg\": label = 0\n",
    "    else: raise ValueError(\"Choose from pos or neg.\")\n",
    "    \n",
    "    for filepath in filepaths:\n",
    "        with open(\"./datasets/imdb/aclImdb/\" + dataset_type + \"/\" + review_type + \"/\" + filepath, \"rb\") as review_file:\n",
    "            reviews.append(review_file.read())\n",
    "        labels.append(label)\n",
    "    dataset = (reviews, labels)\n",
    "    return tf.data.Dataset.from_tensor_slices(dataset)\n",
    "\n",
    "def concatenate_datasets(pos_ds, neg_ds):\n",
    "    return tf.data.Dataset.concatenate(pos_ds, neg_ds)"
   ]
  },
  {
   "cell_type": "code",
   "execution_count": 5,
   "metadata": {
    "scrolled": true
   },
   "outputs": [
    {
     "name": "stdout",
     "output_type": "stream",
     "text": [
      "tf.Tensor(\n",
      "[[b'it' b's' b'a' b'great' b'great' b'movie' b'i' b'loved' b'it' b'<pad>'\n",
      "  b'<pad>' b'<pad>' b'<pad>' b'<pad>' b'<pad>' b'<pad>' b'<pad>' b'<pad>'\n",
      "  b'<pad>' b'<pad>' b'<pad>' b'<pad>' b'<pad>' b'<pad>' b'<pad>' b'<pad>'\n",
      "  b'<pad>' b'<pad>' b'<pad>' b'<pad>' b'<pad>' b'<pad>' b'<pad>' b'<pad>'\n",
      "  b'<pad>' b'<pad>' b'<pad>' b'<pad>' b'<pad>' b'<pad>' b'<pad>' b'<pad>'\n",
      "  b'<pad>' b'<pad>' b'<pad>' b'<pad>' b'<pad>' b'<pad>' b'<pad>' b'<pad>']\n",
      " [b'it' b'was' b'terrible' b'run' b'away' b'<pad>' b'<pad>' b'<pad>'\n",
      "  b'<pad>' b'<pad>' b'<pad>' b'<pad>' b'<pad>' b'<pad>' b'<pad>' b'<pad>'\n",
      "  b'<pad>' b'<pad>' b'<pad>' b'<pad>' b'<pad>' b'<pad>' b'<pad>' b'<pad>'\n",
      "  b'<pad>' b'<pad>' b'<pad>' b'<pad>' b'<pad>' b'<pad>' b'<pad>' b'<pad>'\n",
      "  b'<pad>' b'<pad>' b'<pad>' b'<pad>' b'<pad>' b'<pad>' b'<pad>' b'<pad>'\n",
      "  b'<pad>' b'<pad>' b'<pad>' b'<pad>' b'<pad>' b'<pad>' b'<pad>' b'<pad>'\n",
      "  b'<pad>' b'<pad>']], shape=(2, 50), dtype=string)\n"
     ]
    }
   ],
   "source": [
    "# d\n",
    "\n",
    "# this function I had to copy, I don't know regex\n",
    "# but it is fully debunked and explained to myself in another notebook\n",
    "\n",
    "def preprocess(X_batch, n_words=50, char_limit=300):\n",
    "    shape = tf.shape(X_batch) * tf.constant([1, 0]) + tf.constant([0, n_words])\n",
    "    Z = tf.strings.substr(X_batch, 0, char_limit) \n",
    "    Z = tf.strings.lower(Z) \n",
    "    Z = tf.strings.regex_replace(Z, b\"<br\\\\s*/?>\", b\" \") \n",
    "    Z = tf.strings.regex_replace(Z, b\"[^a-z]\", b\" \") \n",
    "    Z = tf.strings.split(Z)\n",
    "    return Z.to_tensor(shape=shape, default_value=b\"<pad>\")\n",
    "\n",
    "X_small_example = tf.constant([\"It's a great, great movie! I loved it.\", \"It was terrible, run away!!!\"])\n",
    "print(preprocess(X_small_example))"
   ]
  },
  {
   "cell_type": "code",
   "execution_count": 6,
   "metadata": {},
   "outputs": [],
   "source": [
    "from collections import Counter\n",
    "\n",
    "class TextVectorization(keras.layers.Layer):\n",
    "    \n",
    "    # functions can be included in this class or be outside of the class\n",
    "    \n",
    "    def __init__(self, n_oov_buckets=100, max_vocab=1000, dtype=tf.string, **kwargs):\n",
    "        super().__init__(dtype=dtype, **kwargs) # why do I need the tf.string dtype?\n",
    "        self.n_oov_buckets = n_oov_buckets\n",
    "        self.max_vocab = max_vocab\n",
    "        \n",
    "    def get_vocabulary(self, X_batch, max_vocab=1000):\n",
    "        tally = Counter()\n",
    "        preprocessed_batches = preprocess(X_batch).numpy()\n",
    "        for review in preprocessed_batches:\n",
    "            for letter in review:\n",
    "                if letter != b\"<pad>\": \n",
    "                    tally[letter] += 1 \n",
    "\n",
    "        return [b\"<pad>\"] + list(np.array(tally.most_common(max_vocab))[:, 0])\n",
    "        \n",
    "    # the adapt() is just a self-named variable, but conventionally used in experiment.preprocessing\n",
    "    def adapt(self, data_sample): # think of data_sample as a batch\n",
    "        self.vocab = self.get_vocabulary(data_sample, self.max_vocab)\n",
    "        indices = tf.range(len(self.vocab), dtype=tf.int64)\n",
    "        \n",
    "        # words = tf.constant(self.vocab) # why do I need this?\n",
    "        # it's optional, but KeyValueTensorInitializer takes in tensors, and\n",
    "        # words is a constant tensor in nature\n",
    "        \n",
    "        # everything is automatically converted to a @tf.function\n",
    "        \n",
    "        # table_initializer(vocabulary, indices)\n",
    "        table_init = tf.lookup.KeyValueTensorInitializer(self.vocab, indices)\n",
    "        \n",
    "        # table(table_init, n_oov_buckets)\n",
    "        self.vocab_table = tf.lookup.StaticVocabularyTable(table_init, self.n_oov_buckets)\n",
    "        \n",
    "        # adapt() has no return\n",
    "    \n",
    "    def call(self, inputs):\n",
    "        # this layer is a preprocessing layer that can be placed only at the beginning\n",
    "        # preprocessing is done here or before the model receives the data, your choice\n",
    "        preprocessed_inputs = preprocess(inputs)\n",
    "        \n",
    "        # lookup\n",
    "        return self.vocab_table.lookup(preprocessed_inputs)"
   ]
  },
  {
   "cell_type": "markdown",
   "metadata": {},
   "source": [
    "+ when you don't specify dtype=dtype in init"
   ]
  },
  {
   "cell_type": "markdown",
   "metadata": {},
   "source": [
    "    TypeError: Input 'input' of 'Substr' Op has type float32 that does not match expected type of string."
   ]
  },
  {
   "cell_type": "code",
   "execution_count": 7,
   "metadata": {},
   "outputs": [],
   "source": [
    "train_set = concatenate_datasets(write_dataset(train_pos, \"train\", \"pos\"), \n",
    "                                 write_dataset(train_neg, \"train\", \"neg\"))\n",
    "test_set = concatenate_datasets(write_dataset(test_pos, \"test\", \"pos\"), \n",
    "                                write_dataset(test_neg, \"test\", \"neg\"))\n",
    "valid_set = concatenate_datasets(write_dataset(valid_pos, \"test\", \"pos\"), \n",
    "                                 write_dataset(valid_neg, \"test\", \"neg\"))"
   ]
  },
  {
   "cell_type": "code",
   "execution_count": 8,
   "metadata": {},
   "outputs": [],
   "source": [
    "batch_size=32\n",
    "\n",
    "train_set = train_set.shuffle(25000).batch(batch_size).prefetch(1)\n",
    "valid_set = valid_set.batch(batch_size).prefetch(1)\n",
    "test_set = test_set.batch(batch_size).prefetch(1)"
   ]
  },
  {
   "cell_type": "code",
   "execution_count": 9,
   "metadata": {},
   "outputs": [],
   "source": [
    "Text_Vectorizer = TextVectorization(input_shape=[]) # why do I need an input_shape?\n",
    "\n",
    "sample_review_batches = train_set.map(lambda review, label: review)\n",
    "sample_reviews = np.concatenate(list(sample_review_batches.as_numpy_iterator()),\n",
    "                                axis=0)\n",
    "\n",
    "Text_Vectorizer.adapt(sample_reviews)"
   ]
  },
  {
   "cell_type": "markdown",
   "metadata": {},
   "source": [
    "+ when you don't specify input_shape=[]"
   ]
  },
  {
   "cell_type": "markdown",
   "metadata": {},
   "source": [
    "\n",
    "    ValueError: rt_input.shape and shape=[?,?] are incompatible: rt_input.rank = 3 but shape.rank = 2 for '{{node sequential/text_vectorization/RaggedToTensor/RaggedTensorToTensor}} = RaggedTensorToTensor[T=DT_STRING, Tindex=DT_INT64, Tshape=DT_INT32, num_row_partition_tensors=2, row_partition_types=[\"ROW_SPLITS\", \"VALUE_ROWIDS\"]](sequential/text_vectorization/add, sequential/text_vectorization/StringSplit/StringSplit/StringSplit/StringSplitV2:1, sequential/text_vectorization/RaggedToTensor/default_value, sequential/text_vectorization/StringSplit/RaggedFromTensor/RaggedFromUniformRowLength/RowPartitionFromUniformRowLength/mul, sequential/text_vectorization/StringSplit/StringSplit/StringSplit/strided_slice)' with input shapes: [2], [?], [], [?], [?].\n"
   ]
  },
  {
   "cell_type": "code",
   "execution_count": 10,
   "metadata": {},
   "outputs": [],
   "source": [
    "class BagOfWords(keras.layers.Layer):\n",
    "    \n",
    "    def __init__(self, n_tokens, dtype=tf.int32, **kwargs):\n",
    "        super().__init__(**kwargs) # why the tf.int32?\n",
    "        # specify \n",
    "        self.n_tokens = n_tokens\n",
    "        \n",
    "    def call(self, inputs): \n",
    "        OH_output = tf.one_hot(inputs, depth=self.n_tokens)\n",
    "        return tf.math.reduce_sum(OH_output, axis=1)[:, 1:]\n",
    "\n",
    "OH_columns = 1 + Text_Vectorizer.max_vocab + Text_Vectorizer.n_oov_buckets\n",
    "bag_of_words = BagOfWords(OH_columns)"
   ]
  },
  {
   "cell_type": "code",
   "execution_count": 11,
   "metadata": {},
   "outputs": [
    {
     "data": {
      "image/png": "[encoded data removed]",
      "text/plain": [
       "<IPython.core.display.Image object>"
      ]
     },
     "execution_count": 11,
     "metadata": {},
     "output_type": "execute_result"
    }
   ],
   "source": [
    "def build_model_fn(n_layers=1, n_neurons=100, act_fn=\"relu\"):\n",
    "    model = keras.models.Sequential([\n",
    "        Text_Vectorizer,\n",
    "        bag_of_words,\n",
    "    ])\n",
    "    for _ in range(n_layers):\n",
    "        model.add(keras.layers.Dense(n_neurons, activation=act_fn))\n",
    "    model.add(keras.layers.Dense(1, activation=\"sigmoid\"))\n",
    "    model.compile(loss=\"binary_crossentropy\", optimizer=\"nadam\", metrics=[\"accuracy\"])\n",
    "    # binary crossentropy because it's a binary classification task\n",
    "    return model\n",
    "\n",
    "model = build_model_fn()\n",
    "keras.utils.plot_model(model)"
   ]
  },
  {
   "cell_type": "code",
   "execution_count": 12,
   "metadata": {},
   "outputs": [],
   "source": [
    "keras.backend.clear_session()\n",
    "tf.random.set_seed(42)\n",
    "np.random.seed(42)"
   ]
  },
  {
   "cell_type": "code",
   "execution_count": 13,
   "metadata": {},
   "outputs": [
    {
     "name": "stdout",
     "output_type": "stream",
     "text": [
      "(<tf.Tensor: shape=(32,), dtype=string, numpy=\n",
      "array([b'Because some people, like me, like to know EVERYTHING about a movie even if they plan to see it, including the ending. Anyway, here\\'s the ending as I remember it, because I couldn\\'t have been more than 8 yrs old when I saw it for the first and only time on TV. But I\\'ll tell ya, it sure scared the little kid that I was, and I thought about it for days afterward, and it still stands out in my mind to this day, even though some of the details are a little vague. Abe Vigoda was in this movie? I don\\'t remember that! I didn\\'t even remember that ol\\' Barnabus was in this movie, and I LOVED Dark Shadows. So, at the end, the lead character (Belinda Montgomery?) is lured by the Judge (Joseph Cotton, I\\'m guessing, even though I remember it as him being an old family physician or something instead of a judge; see how memory fades?) to the wedding place, which as I remember it is in a cavern of some kind? Maybe I\\'ve got that wrong; and Shelley Winters is there laughing, and the Judge has a cape on, and the camera angle is kind of looking up at him, and he throws back the cloak, and he has goat legs, and he announces he\\'s actually her father, the Devil, and she\\'s played right into their (the satanic cult\\'s) hands, because the \"mortal\" guy she has fallen in love with (I guess that\\'s Robert Foxworth) turns out also to be the guy Satan wants to marry her off to, The Demon with Yellow Eyes, and yep, sure enough, they show Robert Foxworth, and his eyes glow yellow. There are a lot of close-ups in the last few minutes of the film. Everyone is laughing and rejoicing, except for Belinda Montgomery, who is very unhappy, and cries or screams or something, and that\\'s the end. The bad guys win.',\n",
      "       b'This is one of those movies that\\'s trying to be moody and tense, and instead, ends up tripping all over itself. Having seen it at a queer film festival, I was intrigued by the \"young college threesome gone wrong\" write-up, however, over-all ended up quite disappointed.<br /><br />It\\'s hard to critique a \"true story\" since there\\'s not much that can be done about the plot - but I found this disjointed, melodramatic and wholly depressing. It\\'s dark and almost sinister, painting a darn creepy flash of the seventies with imposing music and jerky close-ups. It just doesn\\'t work - some scenes where so cheesy that instead of hushed awe, my audience was supressing snickers and rolling eyes.<br /><br />The story has an interesting premise, but this just spins downward into a dark, miserable spiral.',\n",
      "       b\"This movie was long and boring. Surprising that it was selected for Cannes, although they tend to like pretentiousness. Point is that contrary to other Dutch stars of the arty genre like Kerkhof and Kruishoop, Guernsey feels utterly empty. Even more so it has no cinematic quality whatsoever. A long opening shot doesn't mean cinematic depth, it's just a long boring shot. The story wasn't interesting and the characters had problems I couldn't identify with at all. The actors didn't shine under her direction and seemed lost at times. Leopold tried, but she is not the talent I hoped she would be. Where are Kerkhof and Kruishoop? They really made some waves in Dutch cinema. Leopold just made another attempt.\",\n",
      "       b'This obscure de Sica delivers the goods. And it is said \"the meek shall inherit the earth.\" This tale of classes on the surface but really an allegory for all the homeless people that populated Europe after the great war. They are homeless but cheerful, in a societies too impoverished and selfish to care for or acknowledge them, footmats for the Italian carpetbaggers. de Sica chooses to tell it as a fairy tale, a Cinderella story. I have not read the book it is based on so I cannot foresay if the deus ex machina is the construct of the writer or Vittorio. It begins with the words, \"Once upon a time...\" to exemplify the timelessness of its tale, for the story could be set anywhere and everywhere. Caricature sketches of the aristocracy that cut to the bone, whimsical nature of the homeless especially when they begin to grant their wishes and an ending right out of a Spielberg picture makes this boulange a delight for all. De Sica\\'s most accessible picture is also one of his best. Abandoning neo-realism, he always dallied between that and pure good old film-making, he creates a movie that breaks the heart and at the same time fills it with the yearning of hope that one needs to continue leaving in this world. Gracias Vittorio! Gracias! Gracias!!! Gracias!!!!!!!!!!!!',\n",
      "       b'I have seen \"Miracles Still Happen\" now at least four times. I never tire of this fantastic movie. From the very beginning, it holds a person\\'s interest. As the movie progresses and the plane crashes the story becomes very intense as we watch this young girl trying to survive alone and frightened in the Amazon, following a plane crash in which she was the only survivor. Losing her mother in this plane crash as well makes this movie even more dramatic as we see the perils this young girl had to endure during her ten days in the Amazon. To think this really did happen is just unreal and to think that anyone could actualy survive this is unspeakable as we see the wild animals, snakes and other reptiles, the enormous forests and wildlife as well as countless insects. As the movie progresses we see the many dangers this girl has to face as she tries to follow the river in hopes of it leading her to a town. Remembering what her father told her about how a stream will always lead to a river and then into an even larger river and this means it will eventually lead to a community, this young girl keep track of the tiny stream which eventually lead into a huge river all throughout the movie. At times having to swim in dangerous waters, alone, frightened, injured, she always managed to keep going. Towards the end of this movie it was obvious she would not have been able to continue much longer as she had not eaten in ten days and only had water to drink and was very sick and tired from her perils. Eventually as she sees a canoe, she realizes there has to be a village and men find her and they take care of her and then take her to a hospital where her father comes to see her, after fearing she was dead along with the many other passengers. Such a dramatic movie and so heartwarming to see her father\\'s face when he sees his daughter is actually still alive after all this time in the Amazon! Movies like this aren\\'t made much those days. I will still see it again and I know I will never tire of it! To think this girl was the only one single survivor of this airplane is just unspeakable! Also the fact she only maintained a few very slight injuries was even more remarkable, whereas everyone else on this airplane perished in the horrific crash into the wilds of the Amazon. A brilliant movie, superbly acted out indeed and one I will treasure forever and love to continue watching! Strongly recommended by me for sure!',\n",
      "       b'Though not a horror film in the traditional sense, this creepy little film delivers the goods. It seems a vampire is loose in a small German town draining its victims of their blood. Police Inspector Karl Brettschneider, Melvyn Douglas in one of his early roles, is skeptical believing a crazed killer not a vampire is running amok. The only one who believes him is Ruth Bertin (Faye Wray) the inspector\\'s girlfriend and lab assistant to Dr. Otto von Niemann (Lionel Atwill) who though apparently an eminent scientist goes along with the vampire theory. The townspeople suspect the weirdo Herman Gleib, played with his usual frenzy by Dwight Frye who seems to be having a lot of fun with his role. The film contains quite a bit of humor which helps relieve some of the intensity involved with all the murders being committed. One funny part has Gussie Schnappmann (Maude Eburne), Ruth Bertin\\'s aunt, thinking weird Herman has turned not into a bat but into a dog. Maude Eburne and Dwight Frye make a good comedy team.<br /><br />This budget movie brings in elements from \"The Cabinet of Dr. Caligari\" with Dr. Niemann using the power of suggestion to make a somnambulist carry out his orders, from \"Frankenstein\" by using the human blood to help create life in the laboratory, and \"Dracula\" since the murders are believed by everyone except the inspector and his girl to be the work of a bloodsucker. Thses elements are mixed well by director Frank R. Strayer with a little comedy thrown in for good measure. The concoction works. The restored version I viewed used tinting to increase the spooky atmosphere. So try to see the this version if possible.',\n",
      "       b\"I loved this exiting republic serial! The story was one of the best I have ever seen! Even tough, the picture quality was not of the best, but OK. The fencing in this serial is also a bit bad, but not terrible. They only should have practised some more. As I said the story is GREAT! You're just sitting there and waiting to find out who Don Del Oro is! The theme music is excellent! It's the same guy who maid the music for Walt Disney's version of Zorro, who maid the Fightin Legion music. Costumes and buildings are very good. Zorro is really cool and so are the legioners! I highly recommend this serial. Buy it! <br /><br />I love that Reed Hadley plays Zorro! He is funny, smart and brave! Mark: 6.\",\n",
      "       b'I\\'m sitting here Nov 2006 and I still can\\'t help rave about this movie. Arnold\\'s best movies came in about a 4-5 year span. Running Man, Predator, and Total Recall (1990). All 3 are amazing. The cheesy one liners by Arnold in this movie will make you laugh on more than one occasion. I find the acting in this movie surprisingly good as was the case in Predator and Totall Recall. They did a great job in trying to make the scenes futuristic as it is supposed to take place in 2017, but you can\\'t help but snicker at the 80\\'s style haircuts on the men and woman in the crowd and the normal television monitors in the Running Man studio which we all know here in 2006 are on the way out with the emergence of flat panel and HDTV\\'s. Also the computer graphics of the \"The Running Man\" game show intro would not look like that in 2017. Nevertheless the storyline is absolutely fantastic. Not once during this movie did I want to get up and not care about the ending which is something I do often with today\\'s movie\\'s. I really think that Arnold\\'s acting is much better than he\\'s given credit for. Now I would not have elected him governor but that\\'s California for you. Buzzsaw, Dynamo, Fireball, SubZero are fantastic \"stalkers\" as well and I find the producers don\\'t try to overkill the fight scenes. When the stalker is dead...he\\'s dead. It doesn\\'t go on for 20 minutes each. The stalker scenes are quick and entertaining but they don\\'t try and overplay it. I give this movie a 10/10 and that\\'s coming from someone who doesn\\'t enjoy a lot of movies these days. If you get the right actors and the right story then the futuristic graphical displays that you\\'d see in 2006 are not important or necessary.',\n",
      "       b'Principally it is the story of two men who were part of the Portuguese revolution. It was easy to understand the contest, but usually directors starts from a historical fact to speak about something else, or they shows also the period before or after this fact, here everything happen during that couple of days when the revolution acts. It could also be seen as a kind of documentary. The movie focalize to these two people, showing as normal they were, not like common heroes, because the revolution come from people. Although it was made from military army from the title you can understand that they were just \"capitaes\" as the main characters. Nice colors and lights during the whole movie, excellent work for the director being her first movie, she doesn\\'t fall to the banal way. Well shown emotions and passion of people and crowd. The character of Maia (main one)is well-made and there is also a good interpretation for Stefano Accorsi, able to show Maia\\'s limits, this not-being an hero.',\n",
      "       b'After losing the Emmy for her performance as Mama Rose in the television version of GYPSY, Bette won an Emmy the following year for BETTE MIDLER: DIVA LAS VEGAS, a live concert special filmed for HBO from Las Vegas. Midler, who has been performing live on stage since the 1970\\'s, proves that she is still one of the most electrifying live performers in the business. From her opening number, her classic \"Friends\", where she descends from the wings atop a beautiful prop cloud, Bette commands the stage with style and charisma from a rap-styled number called \"I Look Good\" she then proves that she has a way with a joke like few other performers in this business as she segues her way through a variety of musical selections. The section of the show where she salutes burlesque goes on a little too long but she does manage to incorporate her old Sophie Tucker jokes here to good advantage (even though she actually forgets one joke in the middle of telling it, but her ad-libbing until she remembers it is hysterical). Bette also treats us to \"Rose\\'s Turn\" from GYPSY and the title tune from her smash film THE ROSE as well as a shameless plug for her hit movie THE FIRST WIVES CLUB. She brings the house down near the end with \"Stay with Me, Baby\" from THE ROSE and her only #1 hit record, \"Wind Beneath My Wings\" from BEACHES. It\\'s a dazzling evening of musical comedy entertainment and for Midler fans, it\\'s a must.',\n",
      "       b\"I rented this movie today thinking it might be a good football movie, since I'm a big football fan. Boy, was I wrong. This movie is way too religious and preachy and is REALLY unrealistic. This movie pretty much says that if your a Christian you can get anything you want in life easily, like become a great football player! You don't become a great football player by becoming Christian and asking God, you do it through practice and hard work. All you gotta do is ask God and he'll give you anything....puh-lease. Thats not true at all, duh. I laughed several times because of this embarrassment. The only part that was funny was when they were being dumb (Shultz the cartoonist? no, the dude that flew over the Atlantic, etc etc..) but really this movie wasn't that great. I don't recommend it, especially if you aren't a Christian, lol.\",\n",
      "       b\"At last! A decent British comedy that isn't centred around some mockney bank robbers or spun off from a TV series. John Ivay's film is a psychoactive tale of discovery, dressed in biker gear. The three protagonists are gentle fools with a penchant for failure and each at a turning point in their lives, giving a sensitive, emotional trio of sub-plots to sew the riotous comedy together. The chemistry between the three amigos is palpable and makes for a touching companionship with hilarious dialogue and some classic comedic moments. It feels part Withnail and I, part American Werewolf in London, and part Quadraphenia (but only because of the bike gangs, and Phil Daniels). In fact, Phil Daniels' lovable rogue reminds you of Danny the dealer in Withnail and I, with his scholarly approach and scientific commitment to drugs. This is a great film, particularly for those who've dabbled in psychoactive substances in the past, who will relate to many moments in the film. A personal favourite is the brilliant scene in the Welsh corner shop, buying munchies while tripping on 'shrooms. This gentle comedy will warm the cockles of your heart and have you laughing out loud. And you don't have to ride bikes or even like them to enjoy it. But it'll add to it if you do. Brilliant.\",\n",
      "       b'In my life I have seen many great and awful movies. I am not an expert in professional reviews, but I have definitely something to say about this one. Firstly, these actors are the worst I have seen... Their acting is so unreal that you even want to throw away the DVD in the first 2 minutes. I think that these actors were not interested in the quality. <br /><br />Another awful thing is about these dialogs - they are so lame. You sometimes feel uncomfortable when you hear them. It seems that your 14 year old son could act better. I feel that this movie had a budget similar to the cost of my 14 year old European car...<br /><br />Please, if my message reaches you - save your time and money.',\n",
      "       b\"Although this film is somewhat filled with eighties cheese i have a place for it in my DVD rack and i don't know why. I think i like it because the moral of the story is 'television is garbage so turn it off and go and get a life'. For those of you who do decide to heed the message then you should try reading the book, its nothing like the film at all. To ruin it for you at the end of the story a fatally wounded Richards ends up crashing a plane into the network building, killing himself, everyone inside and shutting down the network at the same time. I read it many years ago but today it would hard not to compare it to 9/11.\",\n",
      "       b\"I just sat in the theater bored as hell, i wanted to leave halfway through the movie. The plot is simple 4 Samoan guys wreck weddings. So They have to bring a dates in order to get into the wedding. Yawn.<br /><br />The thing that peeved me off the most was the so-called crude jokes... They were highly UNfunny, clich\\xc3\\xa9d and thrown in your face, to make you get into the already dull movie. The acting was below-average and i felt this movie just went on and on about nothing but a bunch of unfunny jokes and a predictable plot.<br /><br />All in all, one of the worse movies i've seen of 2006, unfunny, bad acting, just ugly.<br /><br />Well thank god a friend shouted me. <br /><br />Avoid.\",\n",
      "       b'Or released on DVD or screened on a cable channel like Amer. Life TV network. I have been watching another favorite, \"Voyage to the Bottom of the Sea\", as well as \"Lost in Space\" and Land of Giants\". They\\'ve been showing them forever but aren\\'t receptive to suggestions for other shows. My father and I were big fans as I was already a big science/electronics nut, (still am) and my father was an old school chum of Nader. They both attended Oxy together. I still have memories of several of the episodes even though I was only 9. More so than any show that old. I think it was televised on Sat. after \"Bonanza\". Some of the episodes I recall are the one where he takes the experimental drug that slows down action. Or the one where he body surfs the big ones, (I did that too!) Or the one where there was a mine cave in and he conveys how to use mind control to have the trapped people slow their breathing by entering a trance-like state. That is the one show that I wish I could see again. I got my wish with the original \"Outer Limits\" and \"Sci-Fi Theater...John',\n",
      "       b\"This movie leaves the intellectual mind thinking and trying to analyze the story. I too cannot understand why people would trash this movie.<br /><br />If you are a Jerry Bruckheimer fan, this movie may not suitable for u.<br /><br />This movie presents high degree of realism. The actors and actresses' performance is examplary. Not fake, just natural. <br /><br />No special sound.effects, so special side effects.<br /><br />The camera work is excellent, the music is oh so good. I can't wait to get the soundtrack.<br /><br />It leaves your body numb, like Constant Garderner.The directly has raw talent, certainly not a follower.\",\n",
      "       b'I\\'ve been a fan of Xu Ke (Hark Tsui) for many year since school. This film is the best fantasy movie in years. I dont think \"action\" is the right genre, though there\\'re lot of action and KongFu scenese. Wait, did I mentioned this is an ORIENTAL fantasy moive? please, keep in mind that DO NOT use hollywood formula to rate this film. And for the guy who \"poo\" around, I don\\'t blame you, \\'cause you still young and need to know more about \"culture\".',\n",
      "       b\"Except for the Brady Variety Hour, this was some of the hokiest television I've seen in a while. The video production qualities weren't too bad, but the overall look and feel were unmistakeably early 80's. And Marie Osmond looks like she did battle with the Avon Lady.. and lost big time. WAY too much eyeliner.<br /><br />It was kind of embarrassing to watch veterans Danny Kaye and Eric Severeid take part in this. Even more interesting was watching Alex Haley talk about the African Pavillion in World Showcase that would be opening 'in about a year.'<br /><br />As of this writing it is 17 years later and it hasn't opened yet (Unless you count Disney's Animal Kingdom.) All in all though, for all the shortcomings, this still an interesting visual piece of Disney history.\",\n",
      "       b\"The film opens with Bill Coles (Melvyn Douglas) telling a story about how his best friend--make that client--Jim Blandings (Cary Grant) and his family are tightly packed into a small New York apartment, with not enough closet space and way too few bathrooms. When Jim's wife, Muriel (Myrna Loy), wants to renovate the apartment, advertising exec Jim falls in love with (or falls for!) an ad for a house. Once he's purchased the house, bills and frustration pile up incessantly as everything that can go wrong with the building of Jim's 'dream house' goes wrong.<br /><br />One of three collaborations between Grant and Loy, this is a charming little comedy--not very taxing, with no real great message, but a great way to spend an hour or two. The laughs are there right from the start, when the alarm clock goes off and Jim tries to shut it off, only to be thwarted at every turn by Muriel. The timing and delivery of the comedic lines and situations can only be given by a couple of seasoned pros, and that's just what Grant and Loy give us: polished performances, simple chemistry, and a lot of fun. Myrna Loy is in a pretty thankless role (it's evident that Grant's character Jim gets the lion share of the lines and the acting, and Grant, as always, pulls both off with remarkable aplomb), but she gives Muriel a colour, life and bite that only Myrna Loy can give a character. Melvyn Douglas plays wry amusement to perfection as well, never hitting a single wrong note.<br /><br />One of my favourite scenes has definitely got to be when Bill gets himself locked in the 'store room', and Jim goes to 'save' him... only to get everyone trapped inside! Every little problem that pops up for the Blandings renovation project--including petty jealousy and an ad campaign for 'Wham'--seems to bring together everything that *could* go wrong with building a new house but makes it believable and an enjoyable watch. 8/10\",\n",
      "       b'Ah, true memories. I lived in Holland at the time and looked eagerly forward to it every Sunday evening and later Tuesdays. I saw it during my 14-16s. Very good for my (at the time school-)English, as Dutch TV provides subtitles for other languages, except for kiddies shows nowadays. So you would hear the original voices and language. - The best series were the first three ones and then after the third series, the great character, Nazi Von Gelb, who was such a formidable enemy, disappeared from the series (I don\\'t think they ever really caught him, he always escaped, leaving room to have him appear again in a next story) because evidently the series also was distributed to Germany, and a Nazi enemy wouldn\\'t go over very well! Too bad, because Geoffrey Toone did such a wonderful convincing job of portraying the intelligent Nazi aristocrat, who had this ongoing obsession to take revenge on England. It was a true delight to see this kind of high quality performance in a youth series, but Ronald Leigh-Hunt was a good counterpart and the youngsters were so normal. They were very believable to me at the time and as a kid I could just imagine to be part of these youngsters, who at the time were about four years older than me. It was a very exciting series to me, standing out in my memory of those times as a special show with \"the Prisoner\" as well. I hope they will publish a good quality DVD of the series, that would be wonderful. Even the bad copies around are still enjoyable to watch. The later series were not as good, watered down and just not as much fun as the first three. Hopefully they also find the other series with Von Gelb to be put on DVD. Greetings from Canada.',\n",
      "       b'Born, raised, and educated in Scotland, I was appalled at this disgusting portrayal of a man who was no more nor less than a cattle rustler. Worse yet, the thread of the entire movie was sex in one form or another, by implication or verbally. To view it, one would think that 18th century Scotland was populated by a bunch of sex perverts and homosexuals. Lange was a joke acting as the \"young\" mother at age 49 but Liam Neeson was even worse! Taking a \"bath\" in a Scottish loch is NOT commonplace as they portrayed him - but, it did give them yet another opportunity to demonstrate how sexually driven we were. Save your money and watch Pinnochio.',\n",
      "       b'The same difficulty I have with the musical version of \"Les Miserables\" applies equally to \"Oliver.\" Instead of the composers\\' writing in the stylistic period of the play settings, they merely wrote Broadway-type melodies, which were historically unidiomatic and stylistically skewed.<br /><br />Too, the blatant brutality and unsavory activities of the dramaturgy do not mix well with some of the sunny ditties which permeate the score. It\\'s a uncomfortable mixture that leaves a decidedly sour undertaste.<br /><br />The casting of the boy Oliver doesn\\'t help matters: tentative of timbre and vexingly precious, there\\'s something less than solid here. Fagin performs his traditional routine adequately, though the tunes he\\'s obliged to sing have little basis in period manner.<br /><br />\"As Long As He Needs Me\" is given a strident rendition, throaty and strained. The two big production numbers, \"Who Will Buy\" and \"Consider Yourself\" seem over-produced, with everything but the kitchen sink thrown in. It\\'s one thing to go all out, yet another to cross over the line into excess. <br /><br />The gloom, despair and depravity of much of the novel does not seem to lend itself to such ditties and choreography. While the novel is considered a classic, I must confess I have trouble with Mr. Dickens\\' consciousness, in that his works tend to emit a negative vibration. This may be due to the extension of his joyless personal life, which was full of disappointment and regret. <br /><br />Not all the combined talent of this production, either on- or behind camera, can overcome the unconstructive nature of the basic material. All this results in an uncomfortably downer experience for me.<br /><br />',\n",
      "       b\"You know how everyone jokes about the acting in porno movies? Well if you've always found the plot line of a porn to captivate your interest, then this movie is for you. It truly was like a porn without the sex. Or if that analogy is not to your liking, imagine you and your drunk roommate found a movie camera abandoned on a park bench. This is the movie that you would make. -Horrible acting -bad camera work -Music done on a casio keyboard This movie has it all, and more. For those who are masochists in the crowd, this is a premiere piece for your collection. <br /><br />All I can figure is that the only people to submit reviews for this dripping pile of movie, were people who 'starred' in it. <br /><br />Their movie career is over before it started.\",\n",
      "       b\"I admit that for the first 20 minutes or so of this film I wasn't entirely sure I was going to sit through the whole thing. Like many other people, I found it pretty boring, and I wasn't entirely looking forward to an hour and a half of watching this guy bite icicles and stick them together. However, if you sit through the creation of his first work long enough to see the finished product, you get an idea of how impressive the rest of the film is. I really think it's sad that so many people found this impossibly boring or a retread of ideas done by other artists. <br /><br />Rivers and Tides is a quiet study of some of the artwork and methods of Andy Goldsworthy, who makes his art entirely out of things in nature, generally resulting in pieces that will be consumed by nature through the normal process of entropy. It is slow moving and unglamorous, but I think that a lot of the point of the movie is to show that Goldsworthy's art does not need any accompaniment in order for it to be appreciated. I've even heard people complain about how he is always talking throughout the movie, rather than just letting nature and his artwork speak for themselves, which I just think is madness.<br /><br />On the other hand, lots of people complain about CDs coming with the lyrics written out inside them. A lot of musicians as well think their music should mean whatever the listener wants it to mean without the musician showing the exact lyrics, I guess I'm just the kind of person that believes that I'd like to know what the artist was trying to accomplish with his or her artwork. I can still take it how I want to even if I know what it was meant to do. I can understand not wanting to hear him talk through the movie. He does, after all, lose his train of thought and find himself unable to explain some of his work at more than one occasion, but if you don't want Goldsworthy talk about his art while you're watching the film, feel free to turn the sound off. That's like not reading the lyrics if you don't want to know what a musician is singing and would rather interpret the words yourself.<br /><br />I think that Andy Goldsworthy's work, which I had no idea existed before I watched this movie, is incredibly impressive, and I'm glad that this film was made in order to showcase it. Indeed, since his work is generally not the kind that can be transported into a studio, photography is the only medium other than film that can express it, and I really appreciated being able to see the work that goes into his art, and the way that only things from nature are used. Whether or not you appreciate certain aspects of how this film is presented, Goldsworthy's work is moving enough to overlook that, because the film is not the star, Goldsworthy's art is. And given the lack of any music or even the smallest special effects and the slow-moving nature of the film, it seems to me that director Thomas Riedelsheimer knows that.\",\n",
      "       b'In Iran, women are not permitted to attend men\\'s sporting events, apparently to \"protect\" them from all the cursing and foul language they might hear emanating from the male fans (so since men can\\'t restrain or behave themselves, women are forced to suffer. Go figure.). \"Offside\" tells the tale of a half dozen or so young women who, dressed like men, attempt to sneak into the high-stakes match between Iran and Bahrain that, in 2005, qualified Iran to go to the World Cup (the movie was actually filmed in large part during that game).<br /><br />\"Offside\" is a slice-of-life comedy that will remind you of all those great humanistic films (\"The Shop on Main Street,\" \"Loves of a Blonde,\" \"Closely Watched Trains\" etc.) that flowed out of Communist Czechoslovakia as part of the \"Prague Miracle\" in the mid 1960\\'s. As with many of those works, \"Offside\" is more concerned with observing life than with devising any kind of elaborately contrived fictional narrative. Indeed, it is the simplicity of the setup and the naturalism of the style that make the movie so effective.<br /><br />Once their ruse is discovered, the girls are corralled into a small pen right outside the stadium where they can hear the raucous cheering emanating from the game inside. Stuck where they are, all they can do is plead with the security guards to let them go in, guards who are basically bumbling, good-natured lads who are compelled to do their duty as a part of their compulsory military service. Even most of the men going into the stadium don\\'t seem particularly perturbed at the thought of these women being allowed in. Still the prohibition persists. Yet, how can one not be impressed by the very real courage and spunk displayed by these women as they go up against a system that continues to enforce such a ridiculously regressive and archaic restriction? And, yet, the purpose of these women is not to rally behind a cause or to make a \"point.\" They are simply obsessed fans with a burning desire to watch a soccer game and, like all the men in the country, cheer on their team.<br /><br />It\\'s hard to tell just how much of the dialogue is scripted and how much of it is extemporaneous, but, in either case, the actors, with their marvelously expressive faces, do a magnificent job making each moment seem utterly real and convincing. Mohammad Kheir-abadi and Shayesteh Irani are notable standouts in a uniformly excellent cast. The structure of the film is also very loose and freeform, as writer/director Jafar Panahi and co-writer Shadmehr Rastin focus for a few brief moments on one or two of the characters, then move smoothly and effortlessly onto others. With this documentary-type approach, we come to feel as if we are witnessing an actual event unfolding in \"real time.\" Very often, it\\'s quite easy for us to forget we\\'re actually watching a movie.<br /><br />It was a very smart move on the part of the filmmakers to include so much good-natured humor in the film (it\\'s what the Czech filmmakers did as well), the better to point up the utter absurdity of the situation and broaden the appeal of the film for audiences both domestic and foreign. \"Offside\" is obviously a cry for justice, but it is one that is made all the more effective by its refusal to make of its story a heavy-breathing tragedy. Instead, it realizes that nothing breaks down social barriers quite as efficiently as humor and an appeal to the audience\\'s common humanity. And isn\\'t that what true art is supposed to be all about? In its own quiet, understated way, \"Offside\" is one of the great, under-appreciated gems of 2007.',\n",
      "       b\"This is a better than average silent movie and it's still well worth seeing if you are a fan of the silents. However, if you aren't yet a fan of the genre, I suggest you try a few other films before watching this one. That's because the plot just seems pretty old fashioned and difficult to believe in spots. But, despite this, it's still a good film and kept my interest.<br /><br />A nice lady unfortunately hooked up with the wrong man and ran away to marry him. The film starts five years later after she has come to realize that he is really a brutal thief. Despite this, she tries to make the best of it and not dwell on how good life had been before this jerk came into her life. However, the rent is due and there's no money, so the lady is forced to look for work. She becomes a personal seamstress for a rich lady whose husband is trying to swing a business deal. Unfortunately, the lady who they were trying to hook up a potential client with for a dinner party can't make it and the seamstress is paid handsomely to be the man's date. Well, like Cinderella, she cleans up pretty well and the man is infatuated with her! What to do now--given that she is actually married and the new fella wants to marry her?! Well, see the movie yourself to see how it's all resolved. I DIDN'T like how they handled the husband, as it seemed awfully predictable and clich\\xc3\\xa9d. However, once he was out of the way, I do admire how the film also DIDN'T give up a by-the-numbers finale and left the film with a few loose ends.<br /><br />All in all, a very good film worth seeing, but certainly not great.\",\n",
      "       b\"Although the actors do a convincing job playing the losers that parade across the screen, the fact that these characters are impossible to identify with had me looking at my watch a mere 20 minutes into the film (and more than once after that). The plot development is disjointed and slow, the verbal diarrhoea of the main character's only friend is practically insufferable, the base quality of most of the characters actions and the cavalier way in which they are treating is annoying.<br /><br />It is typical of Ventura Pons to put forth crass psychologically handicapped characters. However, this faux sociological analysis is a big step down from CARICIAS or Caresses, where the characters maltreat and despise each other for well founded reasons that play out during that film. In AMOR IDIOTA we are forced to follow the meanderings of a truly subnormal intelligence as he stalks a severely depressed and detached woman. Supposedly this is due to his own depression but the script doesn't support that. I won't give away the rest of the story just in case there are any masochists out there\\xc2\\x85 Is he cured through his obsession or is the woman shocked out of her own depression through his unwavering attention? Even though I watched the whole thing I wasn't made to care even for a moment about either of them.<br /><br />If you can sit through all this prejudice, ignorance, betrayal, BAD dialogue, flimsy philosophy, etc\\xc2\\x85 the camera-work was pretty good and seems to be something inspired by the DOGMA group. The makeup also seemed to aim at showing these players in a raw and gritty light as it is the worst I've seen Cayetana Guillen Cuervo in any of her movies (while in person she is actually attractive).<br /><br />I suppose if the idea is that we should be forced to see the lower strata of society so we can be grateful we are not part of it then Pons has achieved his objective. The barrage of nearly identical sex scenes was a proper waste of film (if the actors had been filmed but once in blue green clothing the background behind them could have been changed in the special effects studio for a pittance). True that I heard much of the male audience squirm in their seats during this but an objective viewing proves that was not the real aim of those scenes.<br /><br />Save yourselves and watch something else.\",\n",
      "       b\"Skip Mission: Galactica and watch the original Living Legend episodes instead. The network took parts 1 & 2 of Living Legend and jammed them into one plot with the awful Fire In Space episode. Although Galactica suffered from network-controlled writing and a lack of time to prepare for a proper production, Living Legend is the best of the 1978 TV series. Fire in Space, on its own, is one of the worst episodes. As a historical note, watch Galactica, the original Star Trek, and then the revival Trek series, and you'll see the difference in quality between network-produced sci-fi and syndicated sci-fi.\",\n",
      "       b\"I went to see this film yesterday and although i didn't have high hopes for this film, I was still bitterly disappointed! I actually cant believe I spent 96 minutes of my life watching this film...it was THAT bad!!! The storyline was disgraceful and the acting was terrible (even though it had big names such as Uma Thurman in it). This film heavily relied on its special effects...but they personally had no effect on me. I honestly wished id never watched it and I strongly warn everyone against seeing this film. It is a total waste of money and you'll only end up being disappointed afterwards. My advice is to save your money, go shopping, treat yourself, just don't go and see this film... You'll live to regret it lol!\",\n",
      "       b\"This su*k! Why do they have to make movies that they must know su*k from the beginning? I mean, look at Alien from 1977. If the movie you\\xc2\\xb4r about to make is not better than anything made billions of years before, why make it? I had problems with the plot and who the main character was. That's not good either.\",\n",
      "       b\"I went into The Straight Story expecting a sad/happy type drama with nice direction and some good acting. These I got. What I wasn't expecting was an allegory for the trials of human existence. Leave it to Lynch to take a simple story about a 300 mile trip on a lawnmower and turn it into a microcosm for the human condition.<br /><br />If you didn't notice, watch it again, paying attention to the ages of the people Alvin meets, the terrain he's driving through, the reactions people give him, the kinds of discussions he has (one of the first is about pregnancy and children, one of the last is outside of a cemetery). The last road he drives down is particulary haunting in this context, as it narrows and his fear and nervousness mount. The last mechanical failure could be seen as a death, and the miraculous rebirth of his engine relating to an afterlife, in which he achieves the desired reunion.<br /><br />I only hope some of the people who branded this as a slow sappy melodrama take the time to watch with a more holistic attention.\"],\n",
      "      dtype=object)>, <tf.Tensor: shape=(32,), dtype=int32, numpy=\n",
      "array([0, 0, 0, 1, 1, 1, 1, 1, 1, 1, 0, 1, 0, 1, 0, 1, 1, 1, 0, 1, 1, 0,\n",
      "       0, 0, 1, 1, 1, 0, 0, 0, 0, 1])>)\n"
     ]
    }
   ],
   "source": [
    "for item in train_set:\n",
    "    print(item)\n",
    "    break"
   ]
  },
  {
   "cell_type": "code",
   "execution_count": 14,
   "metadata": {
    "scrolled": true
   },
   "outputs": [
    {
     "name": "stdout",
     "output_type": "stream",
     "text": [
      "Epoch 1/10\n",
      "782/782 [==============================] - 5s 5ms/step - loss: 0.5833 - accuracy: 0.6813\n",
      "Epoch 2/10\n",
      "782/782 [==============================] - 4s 4ms/step - loss: 0.4640 - accuracy: 0.7749\n",
      "Epoch 3/10\n",
      "782/782 [==============================] - 4s 5ms/step - loss: 0.4095 - accuracy: 0.8177\n",
      "Epoch 4/10\n",
      "782/782 [==============================] - 4s 5ms/step - loss: 0.3370 - accuracy: 0.8623\n",
      "Epoch 5/10\n",
      "782/782 [==============================] - 4s 4ms/step - loss: 0.2543 - accuracy: 0.9101\n",
      "Epoch 6/10\n",
      "782/782 [==============================] - 4s 4ms/step - loss: 0.1716 - accuracy: 0.9543\n",
      "Epoch 7/10\n",
      "782/782 [==============================] - 4s 5ms/step - loss: 0.1064 - accuracy: 0.9800\n",
      "Epoch 8/10\n",
      "782/782 [==============================] - 4s 5ms/step - loss: 0.0604 - accuracy: 0.9954\n",
      "Epoch 9/10\n",
      "782/782 [==============================] - 4s 5ms/step - loss: 0.0331 - accuracy: 0.9991\n",
      "Epoch 10/10\n",
      "782/782 [==============================] - 4s 5ms/step - loss: 0.0191 - accuracy: 0.9998\n"
     ]
    },
    {
     "data": {
      "text/plain": [
       "<tensorflow.python.keras.callbacks.History at 0x2382a9ad648>"
      ]
     },
     "execution_count": 14,
     "metadata": {},
     "output_type": "execute_result"
    }
   ],
   "source": [
    "model.fit(train_set, epochs=10)"
   ]
  },
  {
   "cell_type": "code",
   "execution_count": 15,
   "metadata": {},
   "outputs": [],
   "source": [
    "# e\n",
    "\n",
    "def compute_mean_embedding(inputs):\n",
    "    not_pad = tf.math.count_nonzero(inputs, axis=-1)\n",
    "    print(not_pad)\n",
    "    n_words = tf.math.count_nonzero(not_pad, axis=-1, keepdims=True)    \n",
    "    print(n_words)\n",
    "    sqrt_n_words = tf.math.sqrt(tf.cast(n_words, tf.float32))\n",
    "    print(sqrt_n_words)\n",
    "    return tf.reduce_mean(inputs, axis=1) * sqrt_n_words\n",
    "\n",
    "def build_model_fn_with_embedding(n_layers=1, n_neurons=100, act_fn=\"relu\", out_dim=20):\n",
    "    model = keras.models.Sequential([\n",
    "        Text_Vectorizer,\n",
    "    ])\n",
    "    model.add(keras.layers.Embedding(input_dim=OH_columns, output_dim=out_dim, mask_zero=True))\n",
    "    # mask_zero is supposed to convert the 0 values in the/<pad> tokens to zero vectors\n",
    "    # it doesn't work?\n",
    "    model.add(keras.layers.Lambda(compute_mean_embedding))\n",
    "    for _ in range(n_layers):\n",
    "        model.add(keras.layers.Dense(n_neurons, activation=act_fn))\n",
    "    model.add(keras.layers.Dense(1, activation=\"sigmoid\"))\n",
    "    model.compile(loss=\"binary_crossentropy\", optimizer=\"nadam\", metrics=[\"accuracy\"])\n",
    "    return model\n"
   ]
  },
  {
   "cell_type": "markdown",
   "metadata": {},
   "source": [
    "+ mask_zero"
   ]
  },
  {
   "cell_type": "markdown",
   "metadata": {},
   "source": [
    "\n",
    "    Boolean, whether or not the input value 0 is a special \"padding\" value that should be masked out. This is useful when using recurrent layers which may take variable length input. If this is True, then all subsequent layers in the model need to support masking or an exception will be raised. If mask_zero is set to True, as a consequence, index 0 cannot be used in the vocabulary (input_dim should equal size of vocabulary + 1)."
   ]
  },
  {
   "cell_type": "markdown",
   "metadata": {},
   "source": [
    "+ mask_zero with a subsequent Lambda layer\n",
    "+ https://stackoverflow.com/questions/47485216/how-does-mask-zero-in-keras-embedding-layer-work\n",
    "+ https://stackoverflow.com/questions/49961683/how-to-use-the-result-of-embedding-with-mask-zero-true-in-keras#:~:text=If%20you%20set%20mask_zero=True%20in%20your%20embeddings,%20then,to%20understand%20the%20%22masked%22%20information%20will%20use%20them."
   ]
  },
  {
   "cell_type": "markdown",
   "metadata": {},
   "source": [
    "+ apparently, mask_zero doesn't actually give zero vectors, but they are *like* zero vectors as they are not considered in future layers that support mask_zero"
   ]
  },
  {
   "cell_type": "code",
   "execution_count": 16,
   "metadata": {},
   "outputs": [
    {
     "name": "stdout",
     "output_type": "stream",
     "text": [
      "Epoch 1/5\n",
      "782/782 [==============================] - 7s 8ms/step - loss: 0.0161 - accuracy: 0.9995 - val_loss: 1.0386 - val_accuracy: 0.7157\n",
      "Epoch 2/5\n",
      "782/782 [==============================] - 6s 7ms/step - loss: 0.0085 - accuracy: 0.9999 - val_loss: 1.1099 - val_accuracy: 0.7182\n",
      "Epoch 3/5\n",
      "782/782 [==============================] - 6s 7ms/step - loss: 0.0037 - accuracy: 1.0000 - val_loss: 1.1577 - val_accuracy: 0.7194\n",
      "Epoch 4/5\n",
      "782/782 [==============================] - 6s 8ms/step - loss: 0.0018 - accuracy: 1.0000 - val_loss: 1.2121 - val_accuracy: 0.7205\n",
      "Epoch 5/5\n",
      "782/782 [==============================] - 6s 7ms/step - loss: 0.0013 - accuracy: 1.0000 - val_loss: 1.2717 - val_accuracy: 0.7196\n"
     ]
    },
    {
     "data": {
      "text/plain": [
       "<tensorflow.python.keras.callbacks.History at 0x23822b9fd88>"
      ]
     },
     "execution_count": 16,
     "metadata": {},
     "output_type": "execute_result"
    }
   ],
   "source": [
    "# f\n",
    "\n",
    "model.compile(loss=\"binary_crossentropy\", optimizer=\"nadam\", metrics=[\"accuracy\"])\n",
    "model.fit(train_set, epochs=5, validation_data=valid_set)"
   ]
  },
  {
   "cell_type": "code",
   "execution_count": null,
   "metadata": {},
   "outputs": [],
   "source": []
  }
 ],
 "metadata": {
  "kernelspec": {
   "display_name": "Python 3",
   "language": "python",
   "name": "python3"
  },
  "language_info": {
   "codemirror_mode": {
    "name": "ipython",
    "version": 3
   },
   "file_extension": ".py",
   "mimetype": "text/x-python",
   "name": "python",
   "nbconvert_exporter": "python",
   "pygments_lexer": "ipython3",
   "version": "3.7.9"
  }
 },
 "nbformat": 4,
 "nbformat_minor": 4
}
